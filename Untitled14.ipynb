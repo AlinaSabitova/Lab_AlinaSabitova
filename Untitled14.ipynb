{
  "nbformat": 4,
  "nbformat_minor": 0,
  "metadata": {
    "colab": {
      "provenance": [],
      "authorship_tag": "ABX9TyPlNlgQ01eW7ecD6vEa/ffW",
      "include_colab_link": true
    },
    "kernelspec": {
      "name": "python3",
      "display_name": "Python 3"
    },
    "language_info": {
      "name": "python"
    }
  },
  "cells": [
    {
      "cell_type": "markdown",
      "metadata": {
        "id": "view-in-github",
        "colab_type": "text"
      },
      "source": [
        "<a href=\"https://colab.research.google.com/github/AlinaSabitova/Lab_AlinaSabitova/blob/main/Untitled14.ipynb\" target=\"_parent\"><img src=\"https://colab.research.google.com/assets/colab-badge.svg\" alt=\"Open In Colab\"/></a>"
      ]
    },
    {
      "cell_type": "markdown",
      "source": [
        "Для задач 6.2.1-6.2.7 ответьте на следующие вопросы:\n",
        "\n",
        "Что выполняет приведенная функция?\n",
        "\n",
        "Какова вычислительная сложность алгоритма (наихудшая оценка, O-нотацию)?"
      ],
      "metadata": {
        "id": "hKiRoYv0ggeu"
      }
    },
    {
      "cell_type": "code",
      "execution_count": null,
      "metadata": {
        "id": "Ni89GcPmgcJ1"
      },
      "outputs": [],
      "source": [
        "# Задание task_06_02_01.\n",
        "\n",
        "def foo(a):\n",
        "    \"\"\"!!!\n",
        "\n",
        "    Сложность: !!!.\n",
        "    \"\"\"\n",
        "    for i in range(len(a), 0, -1):                #O(N)\n",
        "        for j in range(1, i):                     #O(N)\n",
        "            if a[j-1] > a[j]:                     #O(1)\n",
        "                a[j-1], a[j] = a[j], a[j-1]       #O()\n",
        "    return a                                      #O(1)\n",
        "\n",
        "\n",
        "a = [1, 2, 3, 4, 2, 1, 3, 4, 3, 5, -2, -2, 2, -2, 65, 2, 2]\n",
        "foo(a)"
      ]
    }
  ]
}