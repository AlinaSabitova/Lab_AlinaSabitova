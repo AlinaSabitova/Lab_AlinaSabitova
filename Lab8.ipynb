{
  "nbformat": 4,
  "nbformat_minor": 0,
  "metadata": {
    "colab": {
      "provenance": [],
      "authorship_tag": "ABX9TyPIT8BlaOzRTBqVtprKrE5l",
      "include_colab_link": true
    },
    "kernelspec": {
      "name": "python3",
      "display_name": "Python 3"
    },
    "language_info": {
      "name": "python"
    }
  },
  "cells": [
    {
      "cell_type": "markdown",
      "metadata": {
        "id": "view-in-github",
        "colab_type": "text"
      },
      "source": [
        "<a href=\"https://colab.research.google.com/github/AlinaSabitova/Lab_AlinaSabitova/blob/main/Lab8.ipynb\" target=\"_parent\"><img src=\"https://colab.research.google.com/assets/colab-badge.svg\" alt=\"Open In Colab\"/></a>"
      ]
    },
    {
      "cell_type": "code",
      "execution_count": null,
      "metadata": {
        "id": "5WGDua3EsWMZ"
      },
      "outputs": [],
      "source": [
        "# Выполнил: Сабитова А.Б.\n",
        "# Группа: АДЭУ-221\n",
        "# E-mail: alisab1105@yandex.ru"
      ]
    },
    {
      "cell_type": "code",
      "source": [
        "import locale\n",
        "locale.getpreferredencoding(False)  # 'cp1251' на российской сборке ОС Windows"
      ],
      "metadata": {
        "colab": {
          "base_uri": "https://localhost:8080/",
          "height": 36
        },
        "id": "jh0ccUmzwDzr",
        "outputId": "92be07cf-fa32-486c-b1bf-280d0851677f"
      },
      "execution_count": 1,
      "outputs": [
        {
          "output_type": "execute_result",
          "data": {
            "text/plain": [
              "'UTF-8'"
            ],
            "application/vnd.google.colaboratory.intrinsic+json": {
              "type": "string"
            }
          },
          "metadata": {},
          "execution_count": 1
        }
      ]
    },
    {
      "cell_type": "code",
      "source": [
        "# Задание task_08_02_01.\n",
        "\n",
        "def load_data():\n",
        "    \"\"\"Вернуть список вещественных чисел, введенных с клавиатуры.\n",
        "\n",
        "    Числа вводятся в одной строке.\"\"\"\n",
        "    spisok = list(float(input(\"Введите числа через пробел:\")))\n",
        "    return spisok\n",
        "\n",
        "def save_data(values, filename):\n",
        "    \"\"\"Записать данные в файл.\n",
        "\n",
        "    Параметры:\n",
        "        - values (list of float): список вещественных чисел;\n",
        "        - filename (str): имя файла.\n",
        "\n",
        "    Функция не обрабатывает исключения.\n",
        "    \"\"\"\n",
        "    fh = open(filename, \"w\", encoding=\"utf-8\")\n",
        "\n",
        "\n",
        "try:\n",
        "    filename = # Удалите комментарий и допишите код (ввести имя с клавиатуры)\n",
        "    values = load_data()\n",
        "    save_data(values, filename)\n",
        "\n",
        "except ValueError as err:\n",
        "    print(\"Числа были введены с ошибкой.\")\n",
        "\n",
        "except (OSError, IOError) as err:\n",
        "    print(\"Ошибка при сохранении файла с данными:\", err)\n",
        "\n",
        "except Exception as err:\n",
        "    print(\"Произошла ошибка!\")\n",
        "    print(\"Тип:\", type(err))\n",
        "    print(\"Описание:\", err)"
      ],
      "metadata": {
        "id": "UNUlM8KzsiKk"
      },
      "execution_count": null,
      "outputs": []
    }
  ]
}