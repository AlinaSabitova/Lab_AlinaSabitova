{
  "nbformat": 4,
  "nbformat_minor": 0,
  "metadata": {
    "colab": {
      "provenance": [],
      "authorship_tag": "ABX9TyN2aX56vP8spdhWQzlNLRxA",
      "include_colab_link": true
    },
    "kernelspec": {
      "name": "python3",
      "display_name": "Python 3"
    },
    "language_info": {
      "name": "python"
    }
  },
  "cells": [
    {
      "cell_type": "markdown",
      "metadata": {
        "id": "view-in-github",
        "colab_type": "text"
      },
      "source": [
        "<a href=\"https://colab.research.google.com/github/AlinaSabitova/Lab_AlinaSabitova/blob/main/Lab8.ipynb\" target=\"_parent\"><img src=\"https://colab.research.google.com/assets/colab-badge.svg\" alt=\"Open In Colab\"/></a>"
      ]
    },
    {
      "cell_type": "code",
      "execution_count": null,
      "metadata": {
        "id": "5WGDua3EsWMZ"
      },
      "outputs": [],
      "source": [
        "# Выполнил: Сабитова А.Б.\n",
        "# Группа: АДЭУ-221\n",
        "# E-mail: alisab1105@yandex.ru"
      ]
    },
    {
      "cell_type": "code",
      "source": [
        "import locale\n",
        "locale.getpreferredencoding(False)  # 'cp1251' на российской сборке ОС Windows"
      ],
      "metadata": {
        "colab": {
          "base_uri": "https://localhost:8080/",
          "height": 36
        },
        "id": "jh0ccUmzwDzr",
        "outputId": "62821f4b-be09-492a-a27c-55e96afc4ddc"
      },
      "execution_count": null,
      "outputs": [
        {
          "output_type": "execute_result",
          "data": {
            "text/plain": [
              "'UTF-8'"
            ],
            "application/vnd.google.colaboratory.intrinsic+json": {
              "type": "string"
            }
          },
          "metadata": {},
          "execution_count": 1
        },
        {
          "output_type": "execute_result",
          "data": {
            "text/plain": [
              "'UTF-8'"
            ],
            "application/vnd.google.colaboratory.intrinsic+json": {
              "type": "string"
            }
          },
          "metadata": {},
          "execution_count": 2
        }
      ]
    },
    {
      "cell_type": "markdown",
      "source": [
        "№ 8.2.1\n",
        "\n",
        "С клавиатуры в одной строке вводится произвольное количество вещественных чисел. Запишите их в файл, расположив каждое число на отдельной строке."
      ],
      "metadata": {
        "id": "_L4NAHcMeF_A"
      }
    },
    {
      "cell_type": "code",
      "source": [
        "# Задание task_08_02_01.\n",
        "\n",
        "def load_data():\n",
        "    \"\"\"Вернуть список вещественных чисел, введенных с клавиатуры.\n",
        "\n",
        "    Числа вводятся в одной строке.\"\"\"\n",
        "    file1 = list(map(float, input(\"Введите числа через пробел: \").split()))\n",
        "    return file1\n",
        "\n",
        "def save_data(values, filename):\n",
        "    \"\"\"Записать данные в файл.\n",
        "\n",
        "    Параметры:\n",
        "        - values (list of float): список вещественных чисел;\n",
        "        - filename (str): имя файла.\n",
        "\n",
        "    Функция не обрабатывает исключения.\n",
        "    \"\"\"\n",
        "    f = open(filename, \"w\")\n",
        "    for i in values:\n",
        "      f.write(str(i) + \"\\n\")\n",
        "    f.close()\n",
        "\n",
        "try:\n",
        "    filename = \"file.txt\"\n",
        "    values = load_data()\n",
        "    save_data(values, filename)\n",
        "\n",
        "except ValueError as err:\n",
        "    print(\"Числа были введены с ошибкой.\")\n",
        "\n",
        "except (OSError, IOError) as err:\n",
        "    print(\"Ошибка при сохранении файла с данными:\", err)\n",
        "\n",
        "except Exception as err:\n",
        "    print(\"Произошла ошибка!\")\n",
        "    print(\"Тип:\", type(err))\n",
        "    print(\"Описание:\", err)"
      ],
      "metadata": {
        "id": "UNUlM8KzsiKk",
        "outputId": "94e08414-8065-4c0b-adff-3f4bc089373e",
        "colab": {
          "base_uri": "https://localhost:8080/"
        }
      },
      "execution_count": null,
      "outputs": [
        {
          "name": "stdout",
          "output_type": "stream",
          "text": [
            "Введите числа через пробел: 1 2 3\n"
          ]
        }
      ]
    },
    {
      "cell_type": "markdown",
      "source": [
        "№ 8.2.2\n",
        "\n",
        "Дан файл, полученный на выходе задачи № 8.2.1:\n",
        "\n",
        "загрузите список чисел;\n",
        "\n",
        "вычислите их сумму и максимум и допишите их в файл.\n",
        "\n",
        "Выполнив программу несколько раз, убедитесь, что новые значения учитываются при подсчете.\n",
        "\n",
        "Если файл прочитать не удается, программа должна прекратить чтение и сообщить об этом пользователю."
      ],
      "metadata": {
        "id": "4PDIHmgh0csz"
      }
    },
    {
      "cell_type": "code",
      "source": [
        "# Задание task_08_02_02.\n",
        "\n",
        "def load_data(f):\n",
        "    \"\"\"Загрузить список вещественных чисел из файла 'filename'.\n",
        "\n",
        "    Функция не обрабатывает исключения.\"\"\"\n",
        "    print(\"Файл до обработки: \")\n",
        "    f = open(filename, \"r\")\n",
        "    res = []\n",
        "    for i in f:\n",
        "      res.append(float(i))\n",
        "\n",
        "    f.close()\n",
        "    return res\n",
        "\n",
        "def append_to_file(values, f):\n",
        "    \"\"\"Дописать данные в файл.\n",
        "\n",
        "    Параметры:\n",
        "        - values (list of float): список вещественных чисел;\n",
        "        - filename (str): имя файла.\n",
        "    \"\"\"\n",
        "    print(\"Файл после обработки: \")\n",
        "    f = open(\"file.txt\", \"a\")\n",
        "    f.write(str(sum(values)))\n",
        "    f.write(\"\\n\")\n",
        "    f.write(str(max(values)))\n",
        "    f.close()\n",
        "\n",
        "try:\n",
        "    f = \"file.txt\"\n",
        "    load_data(f)\n",
        "    append_to_file(values, filename)\n",
        "\n",
        "except FileNotFoundError as err:\n",
        "    print(\"Указанный файл не существует.\")\n",
        "\n",
        "except (IOError, ValueError) as err:\n",
        "    print(\"Ошибка при чтении/сохранении файла с данными:\", err)\n",
        "\n",
        "except Exception as err:\n",
        "    print(\"Произошла ошибка!\")\n",
        "    print(\"Тип:\", type(err))\n",
        "    print(\"Описание:\", err)"
      ],
      "metadata": {
        "id": "8ccFz38m0ekj",
        "outputId": "484c7970-8957-4d9f-cdf4-53f79528f085",
        "colab": {
          "base_uri": "https://localhost:8080/"
        }
      },
      "execution_count": null,
      "outputs": [
        {
          "output_type": "stream",
          "name": "stdout",
          "text": [
            "Файл до обработки: \n",
            "Ошибка при чтении/сохранении файла с данными: could not convert string to float: '3.06.0\\n'\n"
          ]
        }
      ]
    },
    {
      "cell_type": "markdown",
      "source": [
        "№ 8.2.3\n",
        "\n",
        "Измените задачу № 8.2.2 так, чтобы вне зависимости от ошибок чтения файла, программа выполняла подсчет суммы и максимума."
      ],
      "metadata": {
        "id": "r0PqX3_FUNfJ"
      }
    },
    {
      "cell_type": "markdown",
      "source": [
        "Создание нового файла и ввод данных в него:"
      ],
      "metadata": {
        "id": "wq2wmSZUz06v"
      }
    },
    {
      "cell_type": "code",
      "source": [
        "# Задание task_08_02_03.\n",
        "\n",
        "def load_data(filename):\n",
        "    \"\"\"Загрузить список вещественных чисел из файла 'filename'.\n",
        "\n",
        "    Функция не обрабатывает исключения.\"\"\"\n",
        "    file1 = list(input().split())\n",
        "    return file1\n",
        "\n",
        "\n",
        "def append_to_file(values, filename):\n",
        "    \"\"\"Дописать данные в файл.\n",
        "\n",
        "    Параметры:\n",
        "        - values (list of float): список вещественных чисел;\n",
        "        - filename (str): имя файла.\n",
        "    \"\"\"\n",
        "    f = open(filename, \"w\")\n",
        "    for i in values:\n",
        "      f.write(str(x) + \"\\n\")\n",
        "    f.close()\n",
        "\n",
        "\n",
        "try:\n",
        "    filename = \"file2.txt\"\n",
        "    values = load_data(filename)\n",
        "    save_data(values, filename)\n",
        "\n",
        "except FileNotFoundError as err:\n",
        "    print(\"Указанный файл не существует.\")\n",
        "\n",
        "except IOError as err:\n",
        "    print(\"Ошибка при чтении/сохранении файла с данными:\", err)\n",
        "\n",
        "except Exception as err:\n",
        "    print(\"Произошла ошибка!\")\n",
        "    print(\"Тип:\", type(err))\n",
        "    print(\"Описание:\", err)"
      ],
      "metadata": {
        "id": "SOyuk6AcUU13",
        "outputId": "3c27a137-1307-4350-d810-e5f2bd0f308f",
        "colab": {
          "base_uri": "https://localhost:8080/"
        }
      },
      "execution_count": null,
      "outputs": [
        {
          "name": "stdout",
          "output_type": "stream",
          "text": [
            "1 2 3\n"
          ]
        }
      ]
    },
    {
      "cell_type": "markdown",
      "source": [
        "Открытие файла и выполнение задачи:"
      ],
      "metadata": {
        "id": "Ojk3McQs0FlW"
      }
    },
    {
      "cell_type": "code",
      "source": [
        "# Задание task_08_02_03.\n",
        "#\n",
        "# Выполнил: Фамилия И.О.\n",
        "# Группа: !!!\n",
        "# E-mail: !!!\n",
        "\n",
        "\n",
        "def load_data(filename):\n",
        "    \"\"\"Загрузить список вещественных чисел из файла 'filename'.\n",
        "\n",
        "    Функция не обрабатывает исключения.\"\"\"\n",
        "    f = open(filename, \"r\")\n",
        "    res = []\n",
        "    for i in f:\n",
        "      if i[0].isdigit():\n",
        "        for j in range(len(i) - 1):\n",
        "          if i[j].isdigit() or i[j] == \".\":\n",
        "            pass\n",
        "          else:\n",
        "            break\n",
        "        else:\n",
        "          res.append(float(i))\n",
        "\n",
        "def append_to_file(values, filename):\n",
        "    \"\"\"Дописать данные в файл.\n",
        "\n",
        "    Параметры:\n",
        "        - values (list of float): список вещественных чисел;\n",
        "        - filename (str): имя файла.\n",
        "    \"\"\"\n",
        "    f = open(filename, \"a\")\n",
        "    f.write(\"sum = \" + str(sum(values)) + \"\\n\")\n",
        "    f.write(\"max = \" + str(max(values)) + \"\\n\")\n",
        "    f.close()\n",
        "try:\n",
        "    filename = \"file2.txt\"\n",
        "    values = load_data(filename)\n",
        "    print(values)\n",
        "    \n",
        "    append_to_file(values, filename)\n",
        "\n",
        "except FileNotFoundError as err:\n",
        "    print(\"Указанный файл не существует.\")\n",
        "\n",
        "except IOError as err:\n",
        "    print(\"Ошибка при чтении/сохранении файла с данными:\", err)\n",
        "\n",
        "#except Exception as err:\n",
        "#    print(\"Произошла ошибка!\")\n",
        "#    print(\"Тип:\", type(err))\n",
        "#    print(\"Описание:\", err)"
      ],
      "metadata": {
        "id": "RGncvRRd0JyP"
      },
      "execution_count": null,
      "outputs": []
    },
    {
      "cell_type": "markdown",
      "source": [
        "№ 8.2.4\n",
        "\n",
        "В файле записано стихотворение. Выведите его на экран, а также укажите, каких слов в нем больше: начинающихся на гласную или на согласную букву (регистр не учитывается)?"
      ],
      "metadata": {
        "id": "NZJwmz2wEQF5"
      }
    },
    {
      "cell_type": "code",
      "source": [
        "from google.colab import files\n",
        "uploaded = files.upload()"
      ],
      "metadata": {
        "colab": {
          "base_uri": "https://localhost:8080/",
          "height": 73
        },
        "id": "YGFHJNb54EUU",
        "outputId": "33f696e5-a8ca-42e6-ccd3-68b1f1b90cb4"
      },
      "execution_count": 33,
      "outputs": [
        {
          "output_type": "display_data",
          "data": {
            "text/plain": [
              "<IPython.core.display.HTML object>"
            ],
            "text/html": [
              "\n",
              "     <input type=\"file\" id=\"files-27dd9be5-f9d6-4f31-b010-38b88e67212a\" name=\"files[]\" multiple disabled\n",
              "        style=\"border:none\" />\n",
              "     <output id=\"result-27dd9be5-f9d6-4f31-b010-38b88e67212a\">\n",
              "      Upload widget is only available when the cell has been executed in the\n",
              "      current browser session. Please rerun this cell to enable.\n",
              "      </output>\n",
              "      <script>// Copyright 2017 Google LLC\n",
              "//\n",
              "// Licensed under the Apache License, Version 2.0 (the \"License\");\n",
              "// you may not use this file except in compliance with the License.\n",
              "// You may obtain a copy of the License at\n",
              "//\n",
              "//      http://www.apache.org/licenses/LICENSE-2.0\n",
              "//\n",
              "// Unless required by applicable law or agreed to in writing, software\n",
              "// distributed under the License is distributed on an \"AS IS\" BASIS,\n",
              "// WITHOUT WARRANTIES OR CONDITIONS OF ANY KIND, either express or implied.\n",
              "// See the License for the specific language governing permissions and\n",
              "// limitations under the License.\n",
              "\n",
              "/**\n",
              " * @fileoverview Helpers for google.colab Python module.\n",
              " */\n",
              "(function(scope) {\n",
              "function span(text, styleAttributes = {}) {\n",
              "  const element = document.createElement('span');\n",
              "  element.textContent = text;\n",
              "  for (const key of Object.keys(styleAttributes)) {\n",
              "    element.style[key] = styleAttributes[key];\n",
              "  }\n",
              "  return element;\n",
              "}\n",
              "\n",
              "// Max number of bytes which will be uploaded at a time.\n",
              "const MAX_PAYLOAD_SIZE = 100 * 1024;\n",
              "\n",
              "function _uploadFiles(inputId, outputId) {\n",
              "  const steps = uploadFilesStep(inputId, outputId);\n",
              "  const outputElement = document.getElementById(outputId);\n",
              "  // Cache steps on the outputElement to make it available for the next call\n",
              "  // to uploadFilesContinue from Python.\n",
              "  outputElement.steps = steps;\n",
              "\n",
              "  return _uploadFilesContinue(outputId);\n",
              "}\n",
              "\n",
              "// This is roughly an async generator (not supported in the browser yet),\n",
              "// where there are multiple asynchronous steps and the Python side is going\n",
              "// to poll for completion of each step.\n",
              "// This uses a Promise to block the python side on completion of each step,\n",
              "// then passes the result of the previous step as the input to the next step.\n",
              "function _uploadFilesContinue(outputId) {\n",
              "  const outputElement = document.getElementById(outputId);\n",
              "  const steps = outputElement.steps;\n",
              "\n",
              "  const next = steps.next(outputElement.lastPromiseValue);\n",
              "  return Promise.resolve(next.value.promise).then((value) => {\n",
              "    // Cache the last promise value to make it available to the next\n",
              "    // step of the generator.\n",
              "    outputElement.lastPromiseValue = value;\n",
              "    return next.value.response;\n",
              "  });\n",
              "}\n",
              "\n",
              "/**\n",
              " * Generator function which is called between each async step of the upload\n",
              " * process.\n",
              " * @param {string} inputId Element ID of the input file picker element.\n",
              " * @param {string} outputId Element ID of the output display.\n",
              " * @return {!Iterable<!Object>} Iterable of next steps.\n",
              " */\n",
              "function* uploadFilesStep(inputId, outputId) {\n",
              "  const inputElement = document.getElementById(inputId);\n",
              "  inputElement.disabled = false;\n",
              "\n",
              "  const outputElement = document.getElementById(outputId);\n",
              "  outputElement.innerHTML = '';\n",
              "\n",
              "  const pickedPromise = new Promise((resolve) => {\n",
              "    inputElement.addEventListener('change', (e) => {\n",
              "      resolve(e.target.files);\n",
              "    });\n",
              "  });\n",
              "\n",
              "  const cancel = document.createElement('button');\n",
              "  inputElement.parentElement.appendChild(cancel);\n",
              "  cancel.textContent = 'Cancel upload';\n",
              "  const cancelPromise = new Promise((resolve) => {\n",
              "    cancel.onclick = () => {\n",
              "      resolve(null);\n",
              "    };\n",
              "  });\n",
              "\n",
              "  // Wait for the user to pick the files.\n",
              "  const files = yield {\n",
              "    promise: Promise.race([pickedPromise, cancelPromise]),\n",
              "    response: {\n",
              "      action: 'starting',\n",
              "    }\n",
              "  };\n",
              "\n",
              "  cancel.remove();\n",
              "\n",
              "  // Disable the input element since further picks are not allowed.\n",
              "  inputElement.disabled = true;\n",
              "\n",
              "  if (!files) {\n",
              "    return {\n",
              "      response: {\n",
              "        action: 'complete',\n",
              "      }\n",
              "    };\n",
              "  }\n",
              "\n",
              "  for (const file of files) {\n",
              "    const li = document.createElement('li');\n",
              "    li.append(span(file.name, {fontWeight: 'bold'}));\n",
              "    li.append(span(\n",
              "        `(${file.type || 'n/a'}) - ${file.size} bytes, ` +\n",
              "        `last modified: ${\n",
              "            file.lastModifiedDate ? file.lastModifiedDate.toLocaleDateString() :\n",
              "                                    'n/a'} - `));\n",
              "    const percent = span('0% done');\n",
              "    li.appendChild(percent);\n",
              "\n",
              "    outputElement.appendChild(li);\n",
              "\n",
              "    const fileDataPromise = new Promise((resolve) => {\n",
              "      const reader = new FileReader();\n",
              "      reader.onload = (e) => {\n",
              "        resolve(e.target.result);\n",
              "      };\n",
              "      reader.readAsArrayBuffer(file);\n",
              "    });\n",
              "    // Wait for the data to be ready.\n",
              "    let fileData = yield {\n",
              "      promise: fileDataPromise,\n",
              "      response: {\n",
              "        action: 'continue',\n",
              "      }\n",
              "    };\n",
              "\n",
              "    // Use a chunked sending to avoid message size limits. See b/62115660.\n",
              "    let position = 0;\n",
              "    do {\n",
              "      const length = Math.min(fileData.byteLength - position, MAX_PAYLOAD_SIZE);\n",
              "      const chunk = new Uint8Array(fileData, position, length);\n",
              "      position += length;\n",
              "\n",
              "      const base64 = btoa(String.fromCharCode.apply(null, chunk));\n",
              "      yield {\n",
              "        response: {\n",
              "          action: 'append',\n",
              "          file: file.name,\n",
              "          data: base64,\n",
              "        },\n",
              "      };\n",
              "\n",
              "      let percentDone = fileData.byteLength === 0 ?\n",
              "          100 :\n",
              "          Math.round((position / fileData.byteLength) * 100);\n",
              "      percent.textContent = `${percentDone}% done`;\n",
              "\n",
              "    } while (position < fileData.byteLength);\n",
              "  }\n",
              "\n",
              "  // All done.\n",
              "  yield {\n",
              "    response: {\n",
              "      action: 'complete',\n",
              "    }\n",
              "  };\n",
              "}\n",
              "\n",
              "scope.google = scope.google || {};\n",
              "scope.google.colab = scope.google.colab || {};\n",
              "scope.google.colab._files = {\n",
              "  _uploadFiles,\n",
              "  _uploadFilesContinue,\n",
              "};\n",
              "})(self);\n",
              "</script> "
            ]
          },
          "metadata": {}
        },
        {
          "output_type": "stream",
          "name": "stdout",
          "text": [
            "Saving data (6).txt to data (6).txt\n"
          ]
        }
      ]
    },
    {
      "cell_type": "code",
      "source": [
        "!ls"
      ],
      "metadata": {
        "colab": {
          "base_uri": "https://localhost:8080/"
        },
        "id": "RPD0I6tB4YFB",
        "outputId": "cc289301-36e1-4041-eef0-741d1a00f879"
      },
      "execution_count": 35,
      "outputs": [
        {
          "output_type": "stream",
          "name": "stdout",
          "text": [
            "'data (6).txt'\t file2.txt   file.txt   sample_data\n"
          ]
        }
      ]
    },
    {
      "cell_type": "code",
      "source": [
        "# Задание task_08_02_04.\n",
        "\n",
        "def load_text(filename):\n",
        "    \"\"\"Загрузить стихотворение из файла 'filename'.\n",
        "\n",
        "    Функция не обрабатывает исключения.\"\"\"\n",
        "    f = open(filename, \"r\")\n",
        "    txt = \" \"\n",
        "    for i in f:\n",
        "      txt += i\n",
        "    f.close()\n",
        "    return txt.replace(\"\\n\", \" \") \n",
        "\n",
        "def letters_stats(text):\n",
        "    \"\"\"Вернуть словарь, содержащий количество гласных/согласных букв.\n",
        "\n",
        "    Параметры:\n",
        "        - text (str): стихотворение.\n",
        "\n",
        "    Результат:\n",
        "        - dict: словарь, содержащий количество гласных/согласных букв:\n",
        "                    {\n",
        "                        \"гласные\": 10,\n",
        "                        \"согласные\": 11\n",
        "                    }\n",
        "    \"\"\"\n",
        "    a = \"аеёиоуыэюя\"\n",
        "    b = \"бвгджзклмнпрстфхцчшщъь\"\n",
        "    text = text.split()\n",
        "    dicting = {\"gl\": 0, \"sogl\": 0}\n",
        "\n",
        "    for i in text:\n",
        "      if i[0].lower() in a:\n",
        "        dicting[\"gl\"] += 1\n",
        "      elif i[0].lower() in b:\n",
        "        dicting[\"sogl\"] += 1\n",
        "    return dicting\n",
        " \n",
        "try:\n",
        "  filename = input(\"Введите имя файла: \")\n",
        "  text = load_text(filename)\n",
        "\n",
        "  stats = letters_stats(text)\n",
        "  print(stats)\n",
        "\n",
        "except FileNotFoundError as err:\n",
        "    print(\"Указанный файл не существует.\")\n",
        "\n",
        "except IOError as err:\n",
        "    print(\"Ошибка при чтении/сохранении файла с данными:\", err)\n",
        "\n",
        "except Exception as err:\n",
        "    print(\"Произошла ошибка!\")\n",
        "    print(\"Тип:\", type(err))\n",
        "    print(\"Описание:\", err)"
      ],
      "metadata": {
        "id": "qS5NRp1yERO9",
        "outputId": "3c9684d3-cf54-4813-c2a8-500ca7c23801",
        "colab": {
          "base_uri": "https://localhost:8080/"
        }
      },
      "execution_count": 37,
      "outputs": [
        {
          "output_type": "stream",
          "name": "stdout",
          "text": [
            "Введите имя файла: data (6).txt\n",
            "{'gl': 8, 'sogl': 13}\n"
          ]
        }
      ]
    },
    {
      "cell_type": "markdown",
      "source": [
        "№ 8.2.5\n",
        "\n",
        "Информация о занятости мест в зрительном зале кинотеатра хранится в текстовом файле:\n",
        "\n",
        "0 0 1 1\n",
        "0 0 0 1 1\n",
        "1 1 0 1\n",
        "где строка обозначает ряд, столбец - место (0 - свободно, 1 - занято).\n",
        "\n",
        "Напишите программу, которая позволит пользователю увидеть количество свободных мест, а также, введя номер ряда и места, получить информацию - свободно оно или нет.\n",
        "\n",
        "Частичное решение: № 4.2.32."
      ],
      "metadata": {
        "id": "hTg4GKoGe-Bm"
      }
    },
    {
      "cell_type": "code",
      "source": [
        "# Задание task_08_02_05.\n",
        "#\n",
        "# Выполнил: Фамилия И.О.\n",
        "# Группа: !!!\n",
        "# E-mail: !!!\n",
        "\n",
        "\n",
        "class NoSuchSeatError(Exception):\n",
        "    def __init__(self, message):\n",
        "        super().__init__(message)\n",
        "\n",
        "\n",
        "def load_seats(filename):\n",
        "    \"\"\"Загрузить данные о местах в зале из файла 'filename'.\n",
        "\n",
        "    Результат: list of list вида:\n",
        "\n",
        "        [\n",
        "            [0, 0, 1],     # 1 ряд, первые 2 места свободны\n",
        "            [1, 1, 1, 1],  # 2 ряд, все места заняты\n",
        "            ...\n",
        "        ]\n",
        "\n",
        "    Функция не обрабатывает исключения.\"\"\"\n",
        "    # Удалите комментарий и допишите код\n",
        "\n",
        "\n",
        "def vacant_seats(seats):\n",
        "    \"\"\"Вернуть количество свободных мест в 'seats'.\n",
        "\n",
        "    Параметры:\n",
        "        - seats (list of list): данные из load_seats().\n",
        "\n",
        "    Результат:\n",
        "        - int: количество свободных мест.\n",
        "    \"\"\"\n",
        "    # Удалите комментарий и допишите код\n",
        "\n",
        "\n",
        "def is_seat_vacant(seats, n_p, m_p):\n",
        "    \"\"\"Вернуть True, если место свободно.\n",
        "\n",
        "    Параметры:\n",
        "        - seats (list of list): данные из load_seats();\n",
        "        - n_p (int): номер ряда (индексация с 0);\n",
        "        - m_p (int): номер места (индексация с 0).\n",
        "\n",
        "    Результат:\n",
        "        - True/False: место свободно/нет.\n",
        "\n",
        "    Исключения:\n",
        "        - NoSuchSeatError: если места с указанными параметрами не существует.\n",
        "    \"\"\"\n",
        "    # Удалите комментарий и допишите код\n",
        "\n",
        "\n",
        "# Добавьте в код обработку исключений\n",
        "filename = input(\"Введите имя файла: \")\n",
        "seats = load_seats(filename)\n",
        "\n",
        "count = vacant_seats(seats)\n",
        "print(\"Всего свободных мест: {}\".format(count))\n",
        "\n",
        "# Ввод значений для поиска\n",
        "# Учитывайте, что пользователь привык считать с 1, а не с 0,\n",
        "# поэтому введенные сообщения необходимо скорректировать\n",
        "n_p, m_p = [int(item) for item in\n",
        "            input(\"Введите ряд и место через пробел: \").split()]\n",
        "\n",
        "print(\"Место свободно:\",\n",
        "      \"Да\" if is_seat_vacant(seats, n_p - 1, m_p - 1) else \"Нет\")"
      ],
      "metadata": {
        "id": "N1lfFnuQfH1A"
      },
      "execution_count": null,
      "outputs": []
    },
    {
      "cell_type": "code",
      "source": [
        "class NoSuchSeatError(Exception):\n",
        "    def __init__(self, message):\n",
        "        super().__init__(message)\n",
        "\n",
        "\n",
        "def load_seats(filename):\n",
        "  data=[]\n",
        "  f = open(filename, \"r\")\n",
        "  for line in f:\n",
        "      data.append([float(x) for x in line.split()])\n",
        "  f.close()\n",
        "  return data\n",
        "  \"\"\"Загрузить данные о местах в зале из файла 'filename'.\n",
        "\n",
        "    Результат: list of list вида:\n",
        "\n",
        "        [\n",
        "            [0, 0, 1],     # 1 ряд, первые 2 места свободны\n",
        "            [1, 1, 1, 1],  # 2 ряд, все места заняты\n",
        "            ...\n",
        "        ]\n",
        "        Функция не обрабатывает исключения.\"\"\"\n",
        "    # Удалите комментарий и допишите код\n",
        "\n",
        "\n",
        "def vacant_seats(seats):\n",
        "  k=0\n",
        "  d=seats[0]\n",
        "  d=len(seats)\n",
        "  for x in seats:\n",
        "    k=k+1\n",
        "  m=0\n",
        "  n=0\n",
        "  for i in range(d):\n",
        "    for j in range(k):\n",
        "      if seats[i][j]==0:\n",
        "        m=m+1\n",
        "      else:\n",
        "        n=n+1\n",
        "  return m\n",
        "  \"\"\"Вернуть количество свободных мест в 'seats'.\n",
        "\n",
        "    Параметры:\n",
        "        - seats (list of list): данные из load_seats().\n",
        "\n",
        "    Результат:\n",
        "        - int: количество свободных мест.\n",
        "    \"\"\"\n",
        "    # Удалите комментарий и допишите код\n",
        "\n",
        "\n",
        "def is_seat_vacant(seats, n_p, m_p):\n",
        "  a=seats[n_p]\n",
        "  b=a[m_p]\n",
        "  if b==0:\n",
        "   return True\n",
        "  else:\n",
        "    return False\n",
        "    \"\"\"Вернуть True, если место свободно.\"\"\"\n",
        "    \"\"\"Параметры:\n",
        "        - seats (list of list): данные из load_seats();\n",
        "        - n_p (int): номер ряда (индексация с 0);\n",
        "        - m_p (int): номер места (индексация с 0).\n",
        "\n",
        "    Результат:\n",
        "        - True/False: место свободно/нет.\n",
        "\n",
        "    Исключения:\n",
        "        - NoSuchSeatError: если места с указанными параметрами не существует.\n",
        "    \"\"\"\n",
        "    # Удалите комментарий и допишите код\n",
        "\n",
        "\n",
        "try:\n",
        "  filename = input(\"Введите имя файла: \")\n",
        "  seats = load_seats(filename)\n",
        "\n",
        "  count = vacant_seats(seats)\n",
        "  with open(\"data.txt\", \"r\") as filename:\n",
        "      for line in filename:\n",
        "        print(\"Всего свободных мест: {}\".format(count))\n",
        "except FileNotFoundError as err:\n",
        "    print(\"Указанный файл не существует.\")\n",
        "except IOError as err:\n",
        "    print(\"Ошибка при чтении/сохранении файла с данными:\", err)\n",
        "\n",
        "except Exception as err:\n",
        "    print(\"Произошла ошибка!\")\n",
        "    print(\"Тип:\", type(err))\n",
        "    print(\"Описание:\", err)\n",
        "\n",
        "# Ввод значений для поиска\n",
        "# Учитывайте, что пользователь привык считать с 1, а не с 0,\n",
        "# поэтому введенные сообщения необходимо скорректировать\n",
        "n_p, m_p = [int(item) for item in\n",
        "            input(\"Введите ряд и место через пробел: \").split()]\n",
        "\n",
        "print(\"Место свободно:\",\n",
        "      \"Да\" if is_seat_vacant(seats, n_p - 1, m_p - 1) else \"Нет\")"
      ],
      "metadata": {
        "id": "8bxEgpa3fQ_k",
        "outputId": "f729bdca-b64c-4b5c-a5f0-f9b7165dfbeb",
        "colab": {
          "base_uri": "https://localhost:8080/",
          "height": 252
        }
      },
      "execution_count": null,
      "outputs": [
        {
          "name": "stdout",
          "output_type": "stream",
          "text": [
            "Введите имя файла: data.txt\n",
            "Указанный файл не существует.\n",
            "Введите ряд и место через пробел: 3 3\n"
          ]
        },
        {
          "output_type": "error",
          "ename": "NameError",
          "evalue": "ignored",
          "traceback": [
            "\u001b[0;31m---------------------------------------------------------------------------\u001b[0m",
            "\u001b[0;31mNameError\u001b[0m                                 Traceback (most recent call last)",
            "\u001b[0;32m<ipython-input-6-1dc035994309>\u001b[0m in \u001b[0;36m<module>\u001b[0;34m\u001b[0m\n\u001b[1;32m     97\u001b[0m \u001b[0;34m\u001b[0m\u001b[0m\n\u001b[1;32m     98\u001b[0m print(\"Место свободно:\",\n\u001b[0;32m---> 99\u001b[0;31m       \"Да\" if is_seat_vacant(seats, n_p - 1, m_p - 1) else \"Нет\")\n\u001b[0m",
            "\u001b[0;31mNameError\u001b[0m: name 'seats' is not defined"
          ]
        }
      ]
    }
  ]
}