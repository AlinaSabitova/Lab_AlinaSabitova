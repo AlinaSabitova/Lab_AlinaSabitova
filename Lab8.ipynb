{
  "nbformat": 4,
  "nbformat_minor": 0,
  "metadata": {
    "colab": {
      "provenance": [],
      "authorship_tag": "ABX9TyNGzm7zEB9v+a8uYexNdgWt",
      "include_colab_link": true
    },
    "kernelspec": {
      "name": "python3",
      "display_name": "Python 3"
    },
    "language_info": {
      "name": "python"
    }
  },
  "cells": [
    {
      "cell_type": "markdown",
      "metadata": {
        "id": "view-in-github",
        "colab_type": "text"
      },
      "source": [
        "<a href=\"https://colab.research.google.com/github/AlinaSabitova/Lab_AlinaSabitova/blob/main/Lab8.ipynb\" target=\"_parent\"><img src=\"https://colab.research.google.com/assets/colab-badge.svg\" alt=\"Open In Colab\"/></a>"
      ]
    },
    {
      "cell_type": "code",
      "execution_count": null,
      "metadata": {
        "id": "5WGDua3EsWMZ"
      },
      "outputs": [],
      "source": [
        "# Выполнил: Сабитова А.Б.\n",
        "# Группа: АДЭУ-221\n",
        "# E-mail: alisab1105@yandex.ru"
      ]
    },
    {
      "cell_type": "code",
      "source": [
        "import locale\n",
        "locale.getpreferredencoding(False)  # 'cp1251' на российской сборке ОС Windows"
      ],
      "metadata": {
        "colab": {
          "base_uri": "https://localhost:8080/",
          "height": 36
        },
        "id": "jh0ccUmzwDzr",
        "outputId": "e6161d6d-0b2c-4d05-bd86-cfc5d545d646"
      },
      "execution_count": 4,
      "outputs": [
        {
          "output_type": "execute_result",
          "data": {
            "text/plain": [
              "'UTF-8'"
            ],
            "application/vnd.google.colaboratory.intrinsic+json": {
              "type": "string"
            }
          },
          "metadata": {},
          "execution_count": 4
        }
      ]
    },
    {
      "cell_type": "markdown",
      "source": [
        "№ 8.2.1\n",
        "\n",
        "С клавиатуры в одной строке вводится произвольное количество вещественных чисел. Запишите их в файл, расположив каждое число на отдельной строке."
      ],
      "metadata": {
        "id": "_L4NAHcMeF_A"
      }
    },
    {
      "cell_type": "code",
      "source": [
        "# Задание task_08_02_01.\n",
        "\n",
        "def load_data():\n",
        "    \"\"\"Вернуть список вещественных чисел, введенных с клавиатуры.\n",
        "\n",
        "    Числа вводятся в одной строке.\"\"\"\n",
        "    values = list(float(input(\"Введите числа: \")))\n",
        "    return values\n",
        "def save_data(values, filename):\n",
        "    \"\"\"Записать данные в файл.\n",
        "\n",
        "    Параметры:\n",
        "        - values (list of float): список вещественных чисел;\n",
        "        - filename (str): имя файла.\n",
        "\n",
        "    Функция не обрабатывает исключения.\n",
        "    \"\"\"\n",
        "    try:\n",
        "      fh = open(\"data.txt\", mode = \"w\", encoding=\"utf-8\")\n",
        "      fh.write(values\\n)\n",
        "    finally:\n",
        "      if fh:\n",
        "          fh.close()\n",
        "\n",
        "try:\n",
        "    filename = \"data.txt\"\n",
        "    values = load_data()\n",
        "    save_data(values, filename)\n",
        "\n",
        "except ValueError as err:\n",
        "    print(\"Числа были введены с ошибкой.\")\n",
        "\n",
        "except (OSError, IOError) as err:\n",
        "    print(\"Ошибка при сохранении файла с данными:\", err)\n",
        "\n",
        "except Exception as err:\n",
        "    print(\"Произошла ошибка!\")\n",
        "    print(\"Тип:\", type(err))\n",
        "    print(\"Описание:\", err)"
      ],
      "metadata": {
        "id": "UNUlM8KzsiKk",
        "outputId": "88dd94c5-b579-4c89-a60f-bdc578791278",
        "colab": {
          "base_uri": "https://localhost:8080/",
          "height": 134
        }
      },
      "execution_count": null,
      "outputs": [
        {
          "output_type": "error",
          "ename": "SyntaxError",
          "evalue": "ignored",
          "traceback": [
            "\u001b[0;36m  File \u001b[0;32m\"<ipython-input-11-e3f84ea9388f>\"\u001b[0;36m, line \u001b[0;32m20\u001b[0m\n\u001b[0;31m    fh.write(values\\n)\u001b[0m\n\u001b[0m                      ^\u001b[0m\n\u001b[0;31mSyntaxError\u001b[0m\u001b[0;31m:\u001b[0m unexpected character after line continuation character\n"
          ]
        }
      ]
    },
    {
      "cell_type": "markdown",
      "source": [
        "№ 8.2.2\n",
        "\n",
        "Дан файл, полученный на выходе задачи № 8.2.1:\n",
        "\n",
        "загрузите список чисел;\n",
        "\n",
        "вычислите их сумму и максимум и допишите их в файл.\n",
        "\n",
        "Выполнив программу несколько раз, убедитесь, что новые значения учитываются при подсчете.\n",
        "\n",
        "Если файл прочитать не удается, программа должна прекратить чтение и сообщить об этом пользователю."
      ],
      "metadata": {
        "id": "4PDIHmgh0csz"
      }
    },
    {
      "cell_type": "code",
      "source": [
        "# Задание task_08_02_02.\n",
        "#\n",
        "# Выполнил: Фамилия И.О.\n",
        "# Группа: !!!\n",
        "# E-mail: !!!\n",
        "\n",
        "\n",
        "def load_data(filename):\n",
        "    \"\"\"Загрузить список вещественных чисел из файла 'filename'.\n",
        "\n",
        "    Функция не обрабатывает исключения.\"\"\"\n",
        "    # Удалите комментарий и допишите код\n",
        "\n",
        "\n",
        "def append_to_file(values, filename):\n",
        "    \"\"\"Дописать данные в файл.\n",
        "\n",
        "    Параметры:\n",
        "        - values (list of float): список вещественных чисел;\n",
        "        - filename (str): имя файла.\n",
        "    \"\"\"\n",
        "    # Удалите комментарий и допишите код\n",
        "\n",
        "\n",
        "try:\n",
        "    filename = # Удалите комментарий и допишите код (ввести имя с клавиатуры)\n",
        "    values = load_data(filename)\n",
        "\n",
        "    # Удалите комментарий и допишите код\n",
        "    append_to_file(# Удалите комментарий и допишите код, filename)\n",
        "\n",
        "except FileNotFoundError as err:\n",
        "    print(\"Указанный файл не существует.\")\n",
        "\n",
        "except (IOError, ValueError) as err:\n",
        "    print(\"Ошибка при чтении/сохранении файла с данными:\", err)\n",
        "\n",
        "except Exception as err:\n",
        "    print(\"Произошла ошибка!\")\n",
        "    print(\"Тип:\", type(err))\n",
        "    print(\"Описание:\", err)"
      ],
      "metadata": {
        "id": "8ccFz38m0ekj"
      },
      "execution_count": null,
      "outputs": []
    },
    {
      "cell_type": "markdown",
      "source": [
        "№ 8.2.4\n",
        "\n",
        "В файле записано стихотворение. Выведите его на экран, а также укажите, каких слов в нем больше: начинающихся на гласную или на согласную букву (регистр не учитывается)?"
      ],
      "metadata": {
        "id": "NZJwmz2wEQF5"
      }
    },
    {
      "cell_type": "code",
      "source": [
        "# Задание task_08_02_04.\n",
        "\n",
        "def load_text(filename):\n",
        "    \"\"\"Загрузить стихотворение из файла 'filename'.\n",
        "\n",
        "    Функция не обрабатывает исключения.\"\"\"\n",
        "    filename = open(\"data.txt\", \"r\", encoding = \"utf-8\")\n",
        "    return print(file.read()) \n",
        "\n",
        "def letters_stats(text):\n",
        "    \"\"\"Вернуть словарь, содержащий количество гласных/согласных букв.\n",
        "\n",
        "    Параметры:\n",
        "        - text (str): стихотворение.\n",
        "\n",
        "    Результат:\n",
        "        - dict: словарь, содержащий количество гласных/согласных букв:\n",
        "                    {\n",
        "                        \"гласные\": 10,\n",
        "                        \"согласные\": 11\n",
        "                    }\n",
        "    \"\"\"\n",
        "    # Удалите комментарий и допишите код\n",
        "\n",
        "\n",
        "# Добавьте в код обработку исключений\n",
        "filename = input(\"Введите имя файла: \")\n",
        "text = load_text(filename)\n",
        "\n",
        "stats = letters_stats(text)\n",
        "print(stats)"
      ],
      "metadata": {
        "id": "qS5NRp1yERO9"
      },
      "execution_count": null,
      "outputs": []
    },
    {
      "cell_type": "markdown",
      "source": [
        "О сколько нам открытий чудных\n",
        "Готовят просвещенья дух\n",
        "И опыт, сын ошибок трудных,\n",
        "И гений, парадоксов друг,\n",
        "И случай, бог изобретатель...\n"
      ],
      "metadata": {
        "id": "4KuOt27NI_kc"
      }
    },
    {
      "cell_type": "code",
      "source": [
        "filename = open(\"task_08_02_04/data.txt\", \"r\", encoding = \"utf-8\")\n",
        "print(file.read()) "
      ],
      "metadata": {
        "id": "JxG5bok9GaCC",
        "outputId": "0c00fcf7-eefd-4efb-a469-028de1e7e2f9",
        "colab": {
          "base_uri": "https://localhost:8080/",
          "height": 189
        }
      },
      "execution_count": 11,
      "outputs": [
        {
          "output_type": "error",
          "ename": "FileNotFoundError",
          "evalue": "ignored",
          "traceback": [
            "\u001b[0;31m---------------------------------------------------------------------------\u001b[0m",
            "\u001b[0;31mFileNotFoundError\u001b[0m                         Traceback (most recent call last)",
            "\u001b[0;32m<ipython-input-11-18814f1cfebf>\u001b[0m in \u001b[0;36m<module>\u001b[0;34m\u001b[0m\n\u001b[0;32m----> 1\u001b[0;31m \u001b[0mfilename\u001b[0m \u001b[0;34m=\u001b[0m \u001b[0mopen\u001b[0m\u001b[0;34m(\u001b[0m\u001b[0;34m\"task_08_02_04/data.txt\"\u001b[0m\u001b[0;34m,\u001b[0m \u001b[0;34m\"r\"\u001b[0m\u001b[0;34m,\u001b[0m \u001b[0mencoding\u001b[0m \u001b[0;34m=\u001b[0m \u001b[0;34m\"utf-8\"\u001b[0m\u001b[0;34m)\u001b[0m\u001b[0;34m\u001b[0m\u001b[0;34m\u001b[0m\u001b[0m\n\u001b[0m\u001b[1;32m      2\u001b[0m \u001b[0mprint\u001b[0m\u001b[0;34m(\u001b[0m\u001b[0mfile\u001b[0m\u001b[0;34m.\u001b[0m\u001b[0mread\u001b[0m\u001b[0;34m(\u001b[0m\u001b[0;34m)\u001b[0m\u001b[0;34m)\u001b[0m\u001b[0;34m\u001b[0m\u001b[0;34m\u001b[0m\u001b[0m\n",
            "\u001b[0;31mFileNotFoundError\u001b[0m: [Errno 2] No such file or directory: 'task_08_02_04/data.txt'"
          ]
        }
      ]
    },
    {
      "cell_type": "code",
      "source": [
        "filename = \"08_01_04_data.txt\"\n",
        "\n",
        "# В данном примере обработка исключений не приводится, чтобы\n",
        "# сосредоточить внимание на чтении файлов \n",
        "\n",
        "# 1. Чтение из файла (в одну строку)\n",
        "with open(filename, encoding=\"utf-8\") as fh:\n",
        "    data = fh.read()\n",
        "    print(data)\n",
        "\n",
        "# 2. Чтение из файла (в список)\n",
        "with open(filename, encoding=\"utf-8\") as fh:\n",
        "    data = fh.readlines()\n",
        "    print(data)\n",
        "\n",
        "# ['Когда дети будут смотреть на великих учёных так же,\\n',\n",
        "#  'как они смотрят на знаменитых актёров и музыкантов,\\n',\n",
        "#  'человечество совершит большой прорыв.\\n',\n",
        "#  '\\n',\n",
        "#  'Брайан Грин\\n',\n",
        "#  'https://ru.wikipedia.org/wiki/Грин,_Брайан_Рэндолф\\n']\n",
        "\n",
        "# 3. Чтение из файла (построчно)\n",
        "with open(filename, encoding=\"utf-8\") as fh:\n",
        "    for line in fh:\n",
        "        print(line.strip())"
      ],
      "metadata": {
        "id": "XIaMYrENJ6Jg",
        "outputId": "7c3c7674-533c-4640-fcb9-64742b795558",
        "colab": {
          "base_uri": "https://localhost:8080/",
          "height": 244
        }
      },
      "execution_count": 10,
      "outputs": [
        {
          "output_type": "error",
          "ename": "FileNotFoundError",
          "evalue": "ignored",
          "traceback": [
            "\u001b[0;31m---------------------------------------------------------------------------\u001b[0m",
            "\u001b[0;31mFileNotFoundError\u001b[0m                         Traceback (most recent call last)",
            "\u001b[0;32m<ipython-input-10-4e9329b5af15>\u001b[0m in \u001b[0;36m<module>\u001b[0;34m\u001b[0m\n\u001b[1;32m      5\u001b[0m \u001b[0;34m\u001b[0m\u001b[0m\n\u001b[1;32m      6\u001b[0m \u001b[0;31m# 1. Чтение из файла (в одну строку)\u001b[0m\u001b[0;34m\u001b[0m\u001b[0;34m\u001b[0m\u001b[0;34m\u001b[0m\u001b[0m\n\u001b[0;32m----> 7\u001b[0;31m \u001b[0;32mwith\u001b[0m \u001b[0mopen\u001b[0m\u001b[0;34m(\u001b[0m\u001b[0mfilename\u001b[0m\u001b[0;34m,\u001b[0m \u001b[0mencoding\u001b[0m\u001b[0;34m=\u001b[0m\u001b[0;34m\"utf-8\"\u001b[0m\u001b[0;34m)\u001b[0m \u001b[0;32mas\u001b[0m \u001b[0mfh\u001b[0m\u001b[0;34m:\u001b[0m\u001b[0;34m\u001b[0m\u001b[0;34m\u001b[0m\u001b[0m\n\u001b[0m\u001b[1;32m      8\u001b[0m     \u001b[0mdata\u001b[0m \u001b[0;34m=\u001b[0m \u001b[0mfh\u001b[0m\u001b[0;34m.\u001b[0m\u001b[0mread\u001b[0m\u001b[0;34m(\u001b[0m\u001b[0;34m)\u001b[0m\u001b[0;34m\u001b[0m\u001b[0;34m\u001b[0m\u001b[0m\n\u001b[1;32m      9\u001b[0m     \u001b[0mprint\u001b[0m\u001b[0;34m(\u001b[0m\u001b[0mdata\u001b[0m\u001b[0;34m)\u001b[0m\u001b[0;34m\u001b[0m\u001b[0;34m\u001b[0m\u001b[0m\n",
            "\u001b[0;31mFileNotFoundError\u001b[0m: [Errno 2] No such file or directory: '08_01_04_data.txt'"
          ]
        }
      ]
    }
  ]
}