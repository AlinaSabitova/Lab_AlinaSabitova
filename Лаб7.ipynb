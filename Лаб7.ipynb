{
  "nbformat": 4,
  "nbformat_minor": 0,
  "metadata": {
    "colab": {
      "provenance": [],
      "authorship_tag": "ABX9TyMxd6HR3Q59NpPvY7xViXvl",
      "include_colab_link": true
    },
    "kernelspec": {
      "name": "python3",
      "display_name": "Python 3"
    },
    "language_info": {
      "name": "python"
    }
  },
  "cells": [
    {
      "cell_type": "markdown",
      "metadata": {
        "id": "view-in-github",
        "colab_type": "text"
      },
      "source": [
        "<a href=\"https://colab.research.google.com/github/AlinaSabitova/Lab_AlinaSabitova/blob/main/%D0%9B%D0%B0%D0%B17.ipynb\" target=\"_parent\"><img src=\"https://colab.research.google.com/assets/colab-badge.svg\" alt=\"Open In Colab\"/></a>"
      ]
    },
    {
      "cell_type": "code",
      "execution_count": null,
      "metadata": {
        "id": "JBApl6obizHQ"
      },
      "outputs": [],
      "source": [
        "# Выполнил: Сабитова А.Б.\n",
        "# Группа: Адеу-221\n",
        "# E-mail: alisab1105@yandex.ru"
      ]
    },
    {
      "cell_type": "markdown",
      "source": [
        "Для задач 7.2.1-7.2.5 приведено условие задачи и ее решение (ошибочное).\n",
        "\n",
        "Для каждой задачи:\n",
        "\n",
        "используя визуальный просмотр кода, простое журналирование, проверку PEP8 или отладчик в IDE:\n",
        "\n",
        "разберитесь в алгоритме решения;\n",
        "\n",
        "найдите номера строк, в которых есть ошибки, и укажите их в строке документации;\n",
        "\n",
        "исправьте ошибки, минимально изменив код (как правило, заменив строчку на строчку); ошибки исправляются по ходу программы, сверху вниз."
      ],
      "metadata": {
        "id": "ltDzltkXjy4V"
      }
    },
    {
      "cell_type": "code",
      "source": [
        "# Задание task_07_02_01.\n",
        "\n",
        "\"\"\"\n",
        "Ошибки (номера строк через пробел, данная строка - №2): 11, 13, 15\n",
        "\"\"\"\n",
        "\n",
        "\n",
        "def sum_of_digits(n):\n",
        "    \"\"\"Вернуть сумму цифр меньших 5 для положительного целого числа `n`.\n",
        "    Если таких цифр нет, вернуть 0.\"\"\"\n",
        "    с = 0\n",
        "    while n > 0:\n",
        "        digit = n % 10\n",
        "        if digit < 5:\n",
        "            c += digit\n",
        "        n //= 10\n",
        "    return c\n",
        "sum_of_digits(11)"
      ],
      "metadata": {
        "colab": {
          "base_uri": "https://localhost:8080/",
          "height": 335
        },
        "id": "k-9EnUMni1Su",
        "outputId": "2701b2cc-ba91-41a0-b1a3-e93c1572a1ff"
      },
      "execution_count": null,
      "outputs": [
        {
          "output_type": "error",
          "ename": "UnboundLocalError",
          "evalue": "ignored",
          "traceback": [
            "\u001b[0;31m---------------------------------------------------------------------------\u001b[0m",
            "\u001b[0;31mUnboundLocalError\u001b[0m                         Traceback (most recent call last)",
            "\u001b[0;32m<ipython-input-18-5714a5ede3b1>\u001b[0m in \u001b[0;36m<module>\u001b[0;34m\u001b[0m\n\u001b[1;32m     16\u001b[0m         \u001b[0mn\u001b[0m \u001b[0;34m//=\u001b[0m \u001b[0;36m10\u001b[0m\u001b[0;34m\u001b[0m\u001b[0;34m\u001b[0m\u001b[0m\n\u001b[1;32m     17\u001b[0m     \u001b[0;32mreturn\u001b[0m \u001b[0mc\u001b[0m\u001b[0;34m\u001b[0m\u001b[0;34m\u001b[0m\u001b[0m\n\u001b[0;32m---> 18\u001b[0;31m \u001b[0msum_of_digits\u001b[0m\u001b[0;34m(\u001b[0m\u001b[0;36m11\u001b[0m\u001b[0;34m)\u001b[0m\u001b[0;34m\u001b[0m\u001b[0;34m\u001b[0m\u001b[0m\n\u001b[0m",
            "\u001b[0;32m<ipython-input-18-5714a5ede3b1>\u001b[0m in \u001b[0;36msum_of_digits\u001b[0;34m(n)\u001b[0m\n\u001b[1;32m     13\u001b[0m         \u001b[0mdigit\u001b[0m \u001b[0;34m=\u001b[0m \u001b[0mn\u001b[0m \u001b[0;34m%\u001b[0m \u001b[0;36m10\u001b[0m\u001b[0;34m\u001b[0m\u001b[0;34m\u001b[0m\u001b[0m\n\u001b[1;32m     14\u001b[0m         \u001b[0;32mif\u001b[0m \u001b[0mdigit\u001b[0m \u001b[0;34m<\u001b[0m \u001b[0;36m5\u001b[0m\u001b[0;34m:\u001b[0m\u001b[0;34m\u001b[0m\u001b[0;34m\u001b[0m\u001b[0m\n\u001b[0;32m---> 15\u001b[0;31m             \u001b[0mc\u001b[0m \u001b[0;34m+=\u001b[0m \u001b[0mdigit\u001b[0m\u001b[0;34m\u001b[0m\u001b[0;34m\u001b[0m\u001b[0m\n\u001b[0m\u001b[1;32m     16\u001b[0m         \u001b[0mn\u001b[0m \u001b[0;34m//=\u001b[0m \u001b[0;36m10\u001b[0m\u001b[0;34m\u001b[0m\u001b[0;34m\u001b[0m\u001b[0m\n\u001b[1;32m     17\u001b[0m     \u001b[0;32mreturn\u001b[0m \u001b[0mc\u001b[0m\u001b[0;34m\u001b[0m\u001b[0;34m\u001b[0m\u001b[0m\n",
            "\u001b[0;31mUnboundLocalError\u001b[0m: local variable 'c' referenced before assignment"
          ]
        }
      ]
    },
    {
      "cell_type": "code",
      "source": [
        "# Задание task_07_02_02.\n",
        "\n",
        "\"\"\"\n",
        "Ошибки (номера строк через пробел, данная строка - №2): 10, 11, 14, 16, 17, 18\n",
        "\"\"\"\n",
        "\n",
        "\n",
        "def primes(a, b):\n",
        "    \"\"\"Вернуть список простых чисел на отрезке от 'a' до 'b'.\"\"\"\n",
        "    res = []\n",
        "    for i in range(a, b+1):\n",
        "      c = 0\n",
        "      for j in range(i+1):\n",
        "          if i % (j + 1) == 0:\n",
        "                c += 1\n",
        "      if c == 2:  #был неверный уровень, из-за которого в список попадали элементы, имеющие индекс 2\n",
        "                res.append(i)\n",
        "      else:\n",
        "          c = 0\n",
        "\n",
        "    return res\n",
        "primes(11, 13)"
      ],
      "metadata": {
        "colab": {
          "base_uri": "https://localhost:8080/"
        },
        "id": "09sM8TVomOHD",
        "outputId": "392924f6-1e3f-4928-eb0e-216320248ca5"
      },
      "execution_count": null,
      "outputs": [
        {
          "output_type": "execute_result",
          "data": {
            "text/plain": [
              "[11, 13]"
            ]
          },
          "metadata": {},
          "execution_count": 19
        }
      ]
    },
    {
      "cell_type": "code",
      "source": [
        "# Задание task_07_02_03.\n",
        "\n",
        "\"\"\"\n",
        "Ошибки (номера строк через пробел, данная строка - №2): !!!\n",
        "\"\"\"\n",
        "\n",
        "\n",
        "def first_vacant_row(seats):\n",
        "    \"\"\"Вернуть первый ряд, в котором имеется больше всего\n",
        "    свободных мест и их количество.\n",
        "\n",
        "    Возвращаемая нумерация рядов с 1. Если свободных мест нет, вернуть 0, 0.\n",
        "\n",
        "    Параметры:\n",
        "        - seats (list of list): информация о проданных билетах\n",
        "                                (1 - продано, 0 - нет).\n",
        "\n",
        "    Результат:\n",
        "        - tuple (ряд, количество мест).\n",
        "    \"\"\"\n",
        "    max_count = 0\n",
        "    max_row = 0\n",
        "    for row_index, row in enumerate(seats):\n",
        "        available_seats_count = row.count(0)  # 0 - пусто\n",
        "        if available_seats_count > max_count:\n",
        "            max_row = row_index + 1\n",
        "            max_count = available_seats_count\n",
        "\n",
        "    return max_row, max_count\n",
        "\n",
        "import random\n",
        "\n",
        "random.seed(50)\n",
        "\n",
        "ROWS_MAX = 10\n",
        "SEATS_MAX = 5\n",
        "\n",
        "seats = [[random.randint(0, 1) for seat in range(SEATS_MAX)]\n",
        "                               for row in range(ROWS_MAX)]\n",
        "\n",
        "for seat in seats:\n",
        "    print(seat)\n",
        "\n",
        "print(first_vacant_row(seats))"
      ],
      "metadata": {
        "colab": {
          "base_uri": "https://localhost:8080/"
        },
        "id": "hNFbUQmVq8hc",
        "outputId": "7b64bf5f-57bf-4bca-b6c2-6f5995e5225e"
      },
      "execution_count": null,
      "outputs": [
        {
          "output_type": "stream",
          "name": "stdout",
          "text": [
            "[1, 1, 1, 0, 1]\n",
            "[1, 0, 1, 0, 0]\n",
            "[0, 1, 0, 1, 1]\n",
            "[0, 0, 0, 1, 1]\n",
            "[0, 0, 1, 1, 0]\n",
            "[0, 1, 1, 1, 0]\n",
            "[0, 1, 1, 1, 0]\n",
            "[1, 0, 0, 1, 0]\n",
            "[1, 1, 0, 1, 1]\n",
            "[0, 1, 0, 0, 1]\n",
            "(2, 3)\n"
          ]
        }
      ]
    },
    {
      "cell_type": "code",
      "source": [
        "# Задание task_07_02_04.\n",
        "\n",
        "\"\"\"\n",
        "Ошибки (номера строк через пробел, данная строка - №2): 8, 9, 10, 12  \n",
        "\"\"\"\n",
        "\n",
        "\n",
        "def min_pair(nums):\n",
        "    \"\"\"Вернуть минимальную сумму соседних 2-х чисел в списке 'nums'.\"\"\"\n",
        "    min_ = nums[0] + nums[1]\n",
        "    for i in range(1, len(nums) - 1):\n",
        "        min_ = min(nums[i] + nums[i + 1], min_)\n",
        "\n",
        "    return min_\n",
        "\n",
        "import random\n",
        "\n",
        "random.seed(50)\n",
        "\n",
        "N_MAX = 10\n",
        "RANGE_MIN = 1\n",
        "RANGE_MAX = 100\n",
        "nums = random.sample(range(RANGE_MIN, RANGE_MAX), N_MAX)\n",
        "\n",
        "print(nums)\n",
        "\n",
        "print(min_pair(nums))"
      ],
      "metadata": {
        "id": "33RaIwa_sy9p",
        "outputId": "1a110ce9-a0a5-4922-c6b9-1a439f249118",
        "colab": {
          "base_uri": "https://localhost:8080/"
        }
      },
      "execution_count": 12,
      "outputs": [
        {
          "output_type": "stream",
          "name": "stdout",
          "text": [
            "[64, 35, 47, 82, 32, 89, 61, 99, 43, 11]\n",
            "54\n"
          ]
        }
      ]
    },
    {
      "cell_type": "code",
      "source": [
        "# Задание task_07_02_05.\n",
        "\n",
        "\"\"\"\n",
        "Ошибки (номера строк через пробел, данная строка - №2): !!!\n",
        "\"\"\"\n",
        "\n",
        "\n",
        "def non_negatives(nums):\n",
        "    \"\"\"Удалить из списка чисел 'nums' отрицательные элементы и вернуть\n",
        "    измененный список.\"\"\"\n",
        "    for i in :\n",
        "        if nums[i] < 0:\n",
        "            del nums[i]\n",
        "\n",
        "    return nums\n",
        "\n",
        "import random\n",
        "\n",
        "n = 10\n",
        "nums = [round(random.uniform(-10, 10), 2) for i in range(n)]\n",
        "print(nums)\n",
        "\n",
        "non_negatives(nums)\n",
        "print(nums)"
      ],
      "metadata": {
        "id": "wi7-i_aWCk9A",
        "outputId": "0e5637b7-6f92-4384-e427-a46254894c77",
        "colab": {
          "base_uri": "https://localhost:8080/",
          "height": 371
        }
      },
      "execution_count": 17,
      "outputs": [
        {
          "output_type": "stream",
          "name": "stdout",
          "text": [
            "[-1.46, 0.35, 0.64, 3.48, -0.01, 6.53, -3.99, 7.15, 5.16, -7.0]\n"
          ]
        },
        {
          "output_type": "error",
          "ename": "IndexError",
          "evalue": "ignored",
          "traceback": [
            "\u001b[0;31m---------------------------------------------------------------------------\u001b[0m",
            "\u001b[0;31mIndexError\u001b[0m                                Traceback (most recent call last)",
            "\u001b[0;32m<ipython-input-17-fa3f1531d41d>\u001b[0m in \u001b[0;36m<module>\u001b[0;34m\u001b[0m\n\u001b[1;32m     21\u001b[0m \u001b[0mprint\u001b[0m\u001b[0;34m(\u001b[0m\u001b[0mnums\u001b[0m\u001b[0;34m)\u001b[0m\u001b[0;34m\u001b[0m\u001b[0;34m\u001b[0m\u001b[0m\n\u001b[1;32m     22\u001b[0m \u001b[0;34m\u001b[0m\u001b[0m\n\u001b[0;32m---> 23\u001b[0;31m \u001b[0mnon_negatives\u001b[0m\u001b[0;34m(\u001b[0m\u001b[0mnums\u001b[0m\u001b[0;34m)\u001b[0m\u001b[0;34m\u001b[0m\u001b[0;34m\u001b[0m\u001b[0m\n\u001b[0m\u001b[1;32m     24\u001b[0m \u001b[0mprint\u001b[0m\u001b[0;34m(\u001b[0m\u001b[0mnums\u001b[0m\u001b[0;34m)\u001b[0m\u001b[0;34m\u001b[0m\u001b[0;34m\u001b[0m\u001b[0m\n",
            "\u001b[0;32m<ipython-input-17-fa3f1531d41d>\u001b[0m in \u001b[0;36mnon_negatives\u001b[0;34m(nums)\u001b[0m\n\u001b[1;32m     10\u001b[0m     измененный список.\"\"\"\n\u001b[1;32m     11\u001b[0m     \u001b[0;32mfor\u001b[0m \u001b[0mi\u001b[0m \u001b[0;32min\u001b[0m \u001b[0mrange\u001b[0m\u001b[0;34m(\u001b[0m\u001b[0;36m1\u001b[0m\u001b[0;34m,\u001b[0m \u001b[0mlen\u001b[0m\u001b[0;34m(\u001b[0m\u001b[0mnums\u001b[0m\u001b[0;34m)\u001b[0m\u001b[0;34m+\u001b[0m\u001b[0;36m1\u001b[0m\u001b[0;34m)\u001b[0m\u001b[0;34m:\u001b[0m\u001b[0;34m\u001b[0m\u001b[0;34m\u001b[0m\u001b[0m\n\u001b[0;32m---> 12\u001b[0;31m         \u001b[0;32mif\u001b[0m \u001b[0mnums\u001b[0m\u001b[0;34m[\u001b[0m\u001b[0mi\u001b[0m\u001b[0;34m]\u001b[0m \u001b[0;34m<\u001b[0m \u001b[0;36m0\u001b[0m\u001b[0;34m:\u001b[0m\u001b[0;34m\u001b[0m\u001b[0;34m\u001b[0m\u001b[0m\n\u001b[0m\u001b[1;32m     13\u001b[0m             \u001b[0;32mdel\u001b[0m \u001b[0mnums\u001b[0m\u001b[0;34m[\u001b[0m\u001b[0mi\u001b[0m\u001b[0;34m]\u001b[0m\u001b[0;34m\u001b[0m\u001b[0;34m\u001b[0m\u001b[0m\n\u001b[1;32m     14\u001b[0m \u001b[0;34m\u001b[0m\u001b[0m\n",
            "\u001b[0;31mIndexError\u001b[0m: list index out of range"
          ]
        }
      ]
    }
  ]
}