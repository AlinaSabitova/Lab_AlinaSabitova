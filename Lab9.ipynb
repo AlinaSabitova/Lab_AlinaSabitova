{
  "nbformat": 4,
  "nbformat_minor": 0,
  "metadata": {
    "colab": {
      "provenance": [],
      "authorship_tag": "ABX9TyOJFzFnYMnFJ8I0WnQDQS7W",
      "include_colab_link": true
    },
    "kernelspec": {
      "name": "python3",
      "display_name": "Python 3"
    },
    "language_info": {
      "name": "python"
    }
  },
  "cells": [
    {
      "cell_type": "markdown",
      "metadata": {
        "id": "view-in-github",
        "colab_type": "text"
      },
      "source": [
        "<a href=\"https://colab.research.google.com/github/AlinaSabitova/Lab_AlinaSabitova/blob/main/Lab9.ipynb\" target=\"_parent\"><img src=\"https://colab.research.google.com/assets/colab-badge.svg\" alt=\"Open In Colab\"/></a>"
      ]
    },
    {
      "cell_type": "code",
      "source": [
        "# Выполнил: Сабитова А.Б.\n",
        "# Группа: АДЭУ-221\n",
        "# E-mail: alisab1105@yandex.ru"
      ],
      "metadata": {
        "id": "iANcgiIVbvbZ"
      },
      "execution_count": null,
      "outputs": []
    },
    {
      "cell_type": "markdown",
      "source": [
        "№ 9.2.1\n",
        "\n",
        "Установите пакет py-romanify, предназначенный для работы с римскими числами, после чего:\n",
        "\n",
        "введите с клавиатуры 1 римское и 1 арабское число;\n",
        "\n",
        "выведите на экран результаты операций +, -, *, // как арабские и как римские числа."
      ],
      "metadata": {
        "id": "tYdWtkzrbqBX"
      }
    },
    {
      "cell_type": "code",
      "source": [
        "!pip install py-romanify"
      ],
      "metadata": {
        "id": "L39HBkfP5-FZ",
        "outputId": "d1dcbe7d-71fe-40e1-f8f0-391b1f1c1fe7",
        "colab": {
          "base_uri": "https://localhost:8080/"
        }
      },
      "execution_count": null,
      "outputs": [
        {
          "output_type": "stream",
          "name": "stdout",
          "text": [
            "Looking in indexes: https://pypi.org/simple, https://us-python.pkg.dev/colab-wheels/public/simple/\n",
            "Collecting py-romanify\n",
            "  Downloading py-romanify-1.0.0.tar.gz (76 kB)\n",
            "\u001b[K     |████████████████████████████████| 76 kB 2.8 MB/s \n",
            "\u001b[?25hBuilding wheels for collected packages: py-romanify\n",
            "  Building wheel for py-romanify (setup.py) ... \u001b[?25l\u001b[?25hdone\n",
            "  Created wheel for py-romanify: filename=py_romanify-1.0.0-py3-none-any.whl size=9806 sha256=2e9b3bd76870daa8c409adf19f2a7694587eab2a7b33569ebfecb85864a2b0fd\n",
            "  Stored in directory: /root/.cache/pip/wheels/67/48/79/e904f191fb0a5b413da0ea55912f65c3c2cc388ddccc6ec92f\n",
            "Successfully built py-romanify\n",
            "Installing collected packages: py-romanify\n",
            "Successfully installed py-romanify-1.0.0\n"
          ]
        }
      ]
    },
    {
      "cell_type": "code",
      "source": [
        "# Задание task_09_02_01.\n",
        "\n",
        "import romanify\n",
        "\n",
        "def summa(arabic, roman):\n",
        "  sum1 = arabic + romanify.roman2arabic(roman)\n",
        "  sum2 = romanify.arabic2roman(sum1)\n",
        "  return sum1, sum2\n",
        "\n",
        "def residual(arabic, roman):\n",
        "  residual1 = arabic - romanify.roman2arabic(roman)\n",
        "  residual2 = romanify.arabic2roman(residual1)\n",
        "  return residual1, residual2\n",
        "\n",
        "def multiplication(arabic, roman):\n",
        "  multiplication1 = arabic * romanify.roman2arabic(roman)\n",
        "  multiplication2 = romanify.arabic2roman(multiplication1)\n",
        "  return multiplication1, multiplication2\n",
        "\n",
        "def division(arabic, roman):\n",
        "  division1 = arabic // romanify.roman2arabic(roman)\n",
        "  division2 = romanify.arabic2roman(division1)\n",
        "  return division1, division2\n",
        "\n",
        "arabic = int(input(\"Арабское число: \"))\n",
        "roman = str(input(\"Римское число: \"))\n",
        "print(\"Сумма: \" \"{}\".format(summa(arabic, roman)))\n",
        "print(\"Разность: \" \"{}\".format(residual(arabic, roman)))\n",
        "print(\"Произведение: \" \"{}\".format(multiplication(arabic, roman)))\n",
        "print(\"Частное (нацело): \" \"{}\".format(division(arabic, roman)))\n",
        "\n",
        "#if __name__ == \"__main__\": написать исключения\n",
        "    \n",
        "# --------------\n",
        "# Пример вывода:\n",
        "#\n",
        "# Арабское число: 100\n",
        "# Римское число: V\n",
        "# Сумма: 105 CV\n",
        "# Разность: 95 XCV\n",
        "# Произведение: 500 D\n",
        "# Частное (нацело): 20 XX"
      ],
      "metadata": {
        "id": "ZHikwt_MbrXZ",
        "outputId": "909985b8-a6d8-49b6-d0e6-9308b07ff91b",
        "colab": {
          "base_uri": "https://localhost:8080/"
        }
      },
      "execution_count": null,
      "outputs": [
        {
          "output_type": "stream",
          "name": "stdout",
          "text": [
            "Арабское число: 100\n",
            "Римское число: V\n",
            "Сумма: (105, 'CV')\n",
            "Разность: (95, 'XCV')\n",
            "Произведение: (500, 'D')\n",
            "Частное (нацело): (20, 'XX')\n"
          ]
        }
      ]
    },
    {
      "cell_type": "markdown",
      "source": [
        "№ 9.2.2\n",
        "\n",
        "Установите пакет pyscreenshot, предназначенный для создания скриншотов, используя следующую команду:\n",
        "\n",
        "pip install Pillow pyscreenshot\n",
        "Используя функции grab() и save(), создайте и сохраните скриншот рабочего стола."
      ],
      "metadata": {
        "id": "Or3RPb1acYKA"
      }
    },
    {
      "cell_type": "code",
      "source": [
        "!pip install Pillow pyscreenshot"
      ],
      "metadata": {
        "colab": {
          "base_uri": "https://localhost:8080/"
        },
        "id": "Dxub7jRzcb88",
        "outputId": "72b54991-923e-4990-962b-a2fa262b274d"
      },
      "execution_count": null,
      "outputs": [
        {
          "output_type": "stream",
          "name": "stdout",
          "text": [
            "Looking in indexes: https://pypi.org/simple, https://us-python.pkg.dev/colab-wheels/public/simple/\n",
            "Requirement already satisfied: Pillow in /usr/local/lib/python3.8/dist-packages (7.1.2)\n",
            "Collecting pyscreenshot\n",
            "  Downloading pyscreenshot-3.0-py3-none-any.whl (27 kB)\n",
            "Collecting EasyProcess\n",
            "  Downloading EasyProcess-1.1-py3-none-any.whl (8.7 kB)\n",
            "Collecting entrypoint2\n",
            "  Downloading entrypoint2-1.1-py2.py3-none-any.whl (9.9 kB)\n",
            "Collecting mss\n",
            "  Downloading mss-7.0.1-py3-none-any.whl (76 kB)\n",
            "\u001b[K     |████████████████████████████████| 76 kB 2.9 MB/s \n",
            "\u001b[?25hCollecting jeepney\n",
            "  Downloading jeepney-0.8.0-py3-none-any.whl (48 kB)\n",
            "\u001b[K     |████████████████████████████████| 48 kB 5.0 MB/s \n",
            "\u001b[?25hInstalling collected packages: mss, jeepney, entrypoint2, EasyProcess, pyscreenshot\n",
            "Successfully installed EasyProcess-1.1 entrypoint2-1.1 jeepney-0.8.0 mss-7.0.1 pyscreenshot-3.0\n"
          ]
        }
      ]
    },
    {
      "cell_type": "code",
      "source": [
        "# Задание task_09_02_02.\n",
        "\n",
        "import pyscreenshot as ImageGrab\n",
        "import time\n",
        "import datetime \n",
        "\n",
        "def my_screenshot():\n",
        "  screen = f\"screenshot-{str(datetime.now())}\"\n",
        "  image = ImageGrab.grab()\n",
        "  filename = f\"./screenshots/{image}.png\"\n",
        "  image.save(filename)\n",
        "  return filename\n",
        "\n",
        "if __name__ == \"__main__\":\n",
        "    print(\"Скриншот сохранен\")\n",
        "    "
      ],
      "metadata": {
        "colab": {
          "base_uri": "https://localhost:8080/"
        },
        "id": "n5LVroWYRWrz",
        "outputId": "a3203efb-97da-45b3-e912-4145970a4824"
      },
      "execution_count": null,
      "outputs": [
        {
          "output_type": "stream",
          "name": "stdout",
          "text": [
            "Скриншот сохранен\n"
          ]
        }
      ]
    },
    {
      "cell_type": "markdown",
      "source": [
        "№ 9.2.3\n",
        "\n",
        "Для создания приложений с графическим интерфейсом в Python используются отдельные фреймворки/библиотеки/пакеты (см. подробнее). В задании приведен пример создания мини-калькулятора с помощью фреймворка Qt.\n",
        "\n",
        "Для выполнения задания установите пакет PyQt5:\n",
        "\n",
        "pip install PyQt5\n",
        "Изучив код и интерфейс приложения, добавьте кнопки для выполнения действий: -, *, /, //, %, изменив соответствующим образом код формирования интерфейса и функцию make_operation().\n",
        "\n",
        "Пример интерфейса приложения приведен на Рисунке 9.2.1.\n",
        "\n",
        "![image.png](data:image/png;base64,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)"
      ],
      "metadata": {
        "id": "ebvvng-gVJ2P"
      }
    },
    {
      "cell_type": "code",
      "source": [
        "!pip install PyQt5"
      ],
      "metadata": {
        "colab": {
          "base_uri": "https://localhost:8080/"
        },
        "id": "egd7JCycVr0K",
        "outputId": "46783aaf-3a4f-4c32-e91d-26f3bbb83ff6"
      },
      "execution_count": null,
      "outputs": [
        {
          "output_type": "stream",
          "name": "stdout",
          "text": [
            "Looking in indexes: https://pypi.org/simple, https://us-python.pkg.dev/colab-wheels/public/simple/\n",
            "Collecting PyQt5\n",
            "  Downloading PyQt5-5.15.7-cp37-abi3-manylinux1_x86_64.whl (8.4 MB)\n",
            "\u001b[K     |████████████████████████████████| 8.4 MB 4.4 MB/s \n",
            "\u001b[?25hCollecting PyQt5-Qt5>=5.15.0\n",
            "  Downloading PyQt5_Qt5-5.15.2-py3-none-manylinux2014_x86_64.whl (59.9 MB)\n",
            "\u001b[K     |████████████████████████████████| 59.9 MB 1.2 MB/s \n",
            "\u001b[?25hCollecting PyQt5-sip<13,>=12.11\n",
            "  Downloading PyQt5_sip-12.11.0-cp38-cp38-manylinux1_x86_64.whl (361 kB)\n",
            "\u001b[K     |████████████████████████████████| 361 kB 60.2 MB/s \n",
            "\u001b[?25hInstalling collected packages: PyQt5-sip, PyQt5-Qt5, PyQt5\n",
            "Successfully installed PyQt5-5.15.7 PyQt5-Qt5-5.15.2 PyQt5-sip-12.11.0\n"
          ]
        }
      ]
    },
    {
      "cell_type": "code",
      "source": [
        "# Задание task_09_02_03.\n",
        "\n",
        "import sys\n",
        "from PyQt5.QtWidgets import (\n",
        "    QApplication,\n",
        "    QWidget,\n",
        "    QLabel,\n",
        "    QLineEdit,\n",
        "    QGridLayout,\n",
        "    QHBoxLayout,\n",
        "    QPushButton,\n",
        "    QGroupBox,\n",
        "    QSizePolicy\n",
        ")\n",
        "from PyQt5.QtCore import Qt\n",
        "from PyQt5.QtGui import QIcon\n",
        "# Масштабирование для 4K-Мониторов\n",
        "import PyQt5\n",
        "QApplication.setAttribute(PyQt5.QtCore.Qt.AA_EnableHighDpiScaling, True)\n",
        "\n",
        "\n",
        "def make_operation(a, b, op):\n",
        "    \"\"\"Вернуть результат операции 'op' над 'a' и 'b'.\n",
        "\n",
        "    Параметры:\n",
        "        - a (int): первое число;\n",
        "        - b (int): первое число;\n",
        "        - op (str): операция над числами (\"+\", \"-\", \"*\", \"/\", \"//\", \"%\").\n",
        "\n",
        "    Результат:\n",
        "        - int, float или None (если нет такой операции).\n",
        "    \"\"\"\n",
        "    if op == \"+\":\n",
        "        return a + b\n",
        "    elif op == \"-\":\n",
        "        return a - b\n",
        "    elif op == \"*\":\n",
        "        return a * b\n",
        "    elif op == \"/\":\n",
        "        return a / b\n",
        "    elif op == \"//\":\n",
        "        return a // b\n",
        "    elif op == \"%\":\n",
        "        return a % b\n",
        "\n",
        "def on_click(op):\n",
        "    try:\n",
        "        x = int(edt_x.text())\n",
        "        y = int(edt_y.text())\n",
        "        edt_res.setText(\"{}\".format(make_operation(x, y, op)))\n",
        "    except Exception as err:\n",
        "        # Текст ошибки выводится в текстовое поле и терминал\n",
        "        print(type(err), err)\n",
        "        edt_res.setText(\"Не могу выполнить операцию!\")\n",
        "\n",
        "\n",
        "if __name__ == \"__main__\":\n",
        "    app = QApplication(sys.argv)\n",
        "\n",
        "    # Главное окно приложения\n",
        "    w = QWidget()\n",
        "    w.setFixedSize(400, 150)\n",
        "    w.setWindowTitle(\"Мини-калькулятор\")\n",
        "    w.setWindowIcon(QIcon('main_icon.png'))\n",
        "\n",
        "    # Общее расположение элементов - сетка\n",
        "    grid = QGridLayout()\n",
        "    grid.setSpacing(10)\n",
        "\n",
        "    # 1-е метка\n",
        "    lbl_x = QLabel(\"Первое число:\")\n",
        "    # 2-е метка\n",
        "    lbl_y = QLabel(\"Второе число:\")\n",
        "    # Метка для результата\n",
        "    lbl_res = QLabel(\"Результат:\")\n",
        "\n",
        "    buttons_layout = QHBoxLayout()\n",
        "    grid.setSpacing(5)\n",
        "\n",
        "    # Кнопки\n",
        "    btn_add1 = QPushButton(\"+\")\n",
        "    btn_add1.setSizePolicy(QSizePolicy.Expanding, QSizePolicy.Expanding)\n",
        "    btn_add2 = QPushButton(\"-\")\n",
        "    btn_add2.setSizePolicy(QSizePolicy.Expanding, QSizePolicy.Expanding)\n",
        "    btn_add3 = QPushButton(\"*\")\n",
        "    btn_add3.setSizePolicy(QSizePolicy.Expanding, QSizePolicy.Expanding)\n",
        "    btn_add4 = QPushButton(\"/\")\n",
        "    btn_add4.setSizePolicy(QSizePolicy.Expanding, QSizePolicy.Expanding)\n",
        "    btn_add5 = QPushButton(\"//\")\n",
        "    btn_add5.setSizePolicy(QSizePolicy.Expanding, QSizePolicy.Expanding)\n",
        "    btn_add6 = QPushButton(\"%\")\n",
        "    btn_add6.setSizePolicy(QSizePolicy.Expanding, QSizePolicy.Expanding)\n",
        "\n",
        "    buttons_layout.addWidget(btn_add1)\n",
        "    buttons_layout.addWidget(btn_add2)\n",
        "    buttons_layout.addWidget(btn_add3)\n",
        "    buttons_layout.addWidget(btn_add4)\n",
        "    buttons_layout.addWidget(btn_add5)\n",
        "    buttons_layout.addWidget(btn_add6)\n",
        "\n",
        "    # Действия кнопок\n",
        "    btn_add1.clicked.connect(lambda: on_click(\"+\"))\n",
        "    btn_add2.clicked.connect(lambda: on_click(\"-\"))\n",
        "    btn_add3.clicked.connect(lambda: on_click(\"*\"))\n",
        "    btn_add4.clicked.connect(lambda: on_click(\"/\"))\n",
        "    btn_add5.clicked.connect(lambda: on_click(\"//\"))\n",
        "    btn_add6.clicked.connect(lambda: on_click(\"%\"))\n",
        "\n",
        "    # 1-е текстовое поле\n",
        "    edt_x = QLineEdit()\n",
        "    edt_x.setAlignment(Qt.AlignCenter)\n",
        "    # 2-е текстовое поле\n",
        "    edt_y = QLineEdit()\n",
        "    edt_y.setAlignment(Qt.AlignCenter)\n",
        "    # Поле для результата\n",
        "    edt_res = QLineEdit()\n",
        "    edt_res.setAlignment(Qt.AlignCenter)\n",
        "    edt_res.setReadOnly(True)\n",
        "\n",
        "    gb_ops = QGroupBox(\"Операции\")\n",
        "    gb_ops.setLayout(buttons_layout)\n",
        "\n",
        "    # Общее расположение элементов\n",
        "    grid.addWidget(lbl_x, 0, 0, Qt.AlignRight)\n",
        "    grid.addWidget(edt_x, 0, 1)\n",
        "    grid.addWidget(lbl_y, 0, 2, Qt.AlignRight)\n",
        "    grid.addWidget(edt_y, 0, 3)\n",
        "    grid.addWidget(gb_ops, 1, 0, 1, 4)\n",
        "    grid.addWidget(lbl_res, 2, 0, Qt.AlignRight)\n",
        "    grid.addWidget(edt_res, 2, 1, 1, 3)\n",
        "\n",
        "    # Запуск приложения\n",
        "    w.setLayout(grid)\n",
        "    w.show()\n",
        "    sys.exit(app.exec_())"
      ],
      "metadata": {
        "id": "R2JC28QmV32E"
      },
      "execution_count": null,
      "outputs": []
    },
    {
      "cell_type": "markdown",
      "source": [
        "№ 9.2.4\n",
        "\n",
        "В настоящее время широкое распространение получили QR-коды (англ. Quick Response Code— код быстрого реагирования; QR code) - специальные штрихкоды, позволяющие хранить относительно большое количество информации в закодированном виде и быстро ее считывать (Рисунок 9.2.2).\n",
        "\n",
        "![image.png](data:image/png;base64,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)\n",
        "\n",
        "В Python также существуют пакеты для работы с QR-кодами, в частности PyQRCode и qreader. Для выполнения задачи установите (пакет qreader содержится в папке с задачей и не требует установки):\n",
        "\n",
        "pip install pyqrcode pypng Pillow six python_dateutil reedsolo\n",
        "Изучив примеры в описании пакетов, реализуйте модуль qr_utils.py, позволяющий выполнять генерацию и сохранение, а также загрузку QR-кода из файла."
      ],
      "metadata": {
        "id": "rBFaMTsZddtd"
      }
    },
    {
      "cell_type": "code",
      "source": [
        "!pip install pyqrcode pypng Pillow six python_dateutil reedsolo"
      ],
      "metadata": {
        "id": "FrNMPb-zd6kL",
        "outputId": "b418b1a3-07b0-4a11-d60c-a41655ac0e7f",
        "colab": {
          "base_uri": "https://localhost:8080/"
        }
      },
      "execution_count": null,
      "outputs": [
        {
          "output_type": "stream",
          "name": "stdout",
          "text": [
            "Looking in indexes: https://pypi.org/simple, https://us-python.pkg.dev/colab-wheels/public/simple/\n",
            "Collecting pyqrcode\n",
            "  Downloading PyQRCode-1.2.1.zip (41 kB)\n",
            "\u001b[K     |████████████████████████████████| 41 kB 543 kB/s \n",
            "\u001b[?25hCollecting pypng\n",
            "  Downloading pypng-0.20220715.0-py3-none-any.whl (58 kB)\n",
            "\u001b[K     |████████████████████████████████| 58 kB 3.9 MB/s \n",
            "\u001b[?25hRequirement already satisfied: Pillow in /usr/local/lib/python3.8/dist-packages (7.1.2)\n",
            "Requirement already satisfied: six in /usr/local/lib/python3.8/dist-packages (1.15.0)\n",
            "Requirement already satisfied: python_dateutil in /usr/local/lib/python3.8/dist-packages (2.8.2)\n",
            "Collecting reedsolo\n",
            "  Downloading reedsolo-1.6.0.tar.gz (278 kB)\n",
            "\u001b[K     |████████████████████████████████| 278 kB 39.1 MB/s \n",
            "\u001b[?25hBuilding wheels for collected packages: pyqrcode, reedsolo\n",
            "  Building wheel for pyqrcode (setup.py) ... \u001b[?25l\u001b[?25hdone\n",
            "  Created wheel for pyqrcode: filename=PyQRCode-1.2.1-py3-none-any.whl size=36245 sha256=203e8bff10c160248ffb26488ce6de07f3b1e60825c31b6239b0ea3b0597ade5\n",
            "  Stored in directory: /root/.cache/pip/wheels/e6/5e/b1/e42b38f43c94593ea57059de7e585c009c0f54e36e1a532992\n",
            "  Building wheel for reedsolo (setup.py) ... \u001b[?25l\u001b[?25hdone\n",
            "  Created wheel for reedsolo: filename=reedsolo-1.6.0-cp38-cp38-linux_x86_64.whl size=809012 sha256=1618c2dca557ac7ce4ae6213fd8b2bc5762f2856f2961359d18a50ef4b4bc32a\n",
            "  Stored in directory: /root/.cache/pip/wheels/af/80/25/dd1712a144db157048b83de9bd2b7fd71995482c52cc8e5f3d\n",
            "Successfully built pyqrcode reedsolo\n",
            "Installing collected packages: reedsolo, pyqrcode, pypng\n",
            "Successfully installed pypng-0.20220715.0 pyqrcode-1.2.1 reedsolo-1.6.0\n"
          ]
        }
      ]
    },
    {
      "cell_type": "code",
      "source": [
        "!pip install pillow qrcode"
      ],
      "metadata": {
        "id": "dlrHdAPE0jMW",
        "outputId": "8d409417-b92b-476e-b406-c0494045b310",
        "colab": {
          "base_uri": "https://localhost:8080/"
        }
      },
      "execution_count": 11,
      "outputs": [
        {
          "output_type": "stream",
          "name": "stdout",
          "text": [
            "Looking in indexes: https://pypi.org/simple, https://us-python.pkg.dev/colab-wheels/public/simple/\n",
            "Requirement already satisfied: pillow in /usr/local/lib/python3.8/dist-packages (7.1.2)\n",
            "Requirement already satisfied: qrcode in /usr/local/lib/python3.8/dist-packages (7.3.1)\n"
          ]
        }
      ]
    },
    {
      "cell_type": "code",
      "source": [
        "!pip install pyzbar"
      ],
      "metadata": {
        "id": "zojh56fM4E2Q",
        "outputId": "31431e27-2d98-4b8b-aeb2-ec82cbfb9488",
        "colab": {
          "base_uri": "https://localhost:8080/"
        }
      },
      "execution_count": 23,
      "outputs": [
        {
          "output_type": "stream",
          "name": "stdout",
          "text": [
            "Looking in indexes: https://pypi.org/simple, https://us-python.pkg.dev/colab-wheels/public/simple/\n",
            "Requirement already satisfied: pyzbar in /usr/local/lib/python3.8/dist-packages (0.1.9)\n"
          ]
        }
      ]
    },
    {
      "cell_type": "code",
      "source": [
        "# Задание task_09_02_04.\n",
        "\n",
        "import pyzbar\n",
        "import qrcode\n",
        "import sys\n",
        "\n",
        "def save_as_qr_code(filename, text):\n",
        "    \"\"\"Создать QR-код из сообщения 'text' и сохранить в PNG-файл 'filename'.\n",
        "\n",
        "    При создании кода используйте параметры: error='L' и encoding='utf8'.\n",
        "\n",
        "    Параметры:\n",
        "        filename (str): имя файла;\n",
        "        text (str): сообщение.\n",
        "\n",
        "    Результат:\n",
        "        None.\n",
        "    \"\"\"\n",
        "    text = str(input(\"Введите сообщение: \"))\n",
        "    filename = \"site.png\"\n",
        "    img = qrcode.make(text)\n",
        "    img.save(filename)\n",
        "    return img\n",
        "\n",
        "def load_from_qr_code(filename):\n",
        "    \"\"\"Загрузить QR-код из PNG-файла 'filename' и вернуть сообщение.\n",
        "\n",
        "    Параметры:\n",
        "        filename (str): имя файла.\n",
        "\n",
        "    Результат:\n",
        "        str: сообщение.\n",
        "    \"\"\"\n",
        "    d = pyzbar.decode(img)\n",
        "    for obj in d:\n",
        "        # draw the barcode\n",
        "        print(f\"Обнаружен штрих-код:\\n{obj}\")\n",
        "        img = d(obj, img)\n",
        "        # print barcode type & data\n",
        "        return obj.text\n",
        "\n",
        "save_as_qr_code(filename, text)\n",
        "load_from_qr_code(filename)\n",
        "#if __name__ == \"__main__\":\n",
        "# Удалите комментарий и допишите код\n",
        "#\n",
        "# Код главного модуля в данной задаче не проверяется,\n",
        "# необходимо самостоятельно в произвольном виде проверить\n",
        "# работу функций модуля qr_utils.py"
      ],
      "metadata": {
        "id": "H5hqpp2d_A1f",
        "outputId": "ed3efb71-00a6-452a-d850-6aa72cf6e8a6",
        "colab": {
          "base_uri": "https://localhost:8080/",
          "height": 390
        }
      },
      "execution_count": 28,
      "outputs": [
        {
          "name": "stdout",
          "output_type": "stream",
          "text": [
            "Введите сообщение: i love\n"
          ]
        },
        {
          "output_type": "error",
          "ename": "AttributeError",
          "evalue": "ignored",
          "traceback": [
            "\u001b[0;31m---------------------------------------------------------------------------\u001b[0m",
            "\u001b[0;31mAttributeError\u001b[0m                            Traceback (most recent call last)",
            "\u001b[0;32m<ipython-input-28-9aed6d11bf18>\u001b[0m in \u001b[0;36m<module>\u001b[0;34m\u001b[0m\n\u001b[1;32m     41\u001b[0m \u001b[0;34m\u001b[0m\u001b[0m\n\u001b[1;32m     42\u001b[0m \u001b[0msave_as_qr_code\u001b[0m\u001b[0;34m(\u001b[0m\u001b[0mfilename\u001b[0m\u001b[0;34m,\u001b[0m \u001b[0mtext\u001b[0m\u001b[0;34m)\u001b[0m\u001b[0;34m\u001b[0m\u001b[0;34m\u001b[0m\u001b[0m\n\u001b[0;32m---> 43\u001b[0;31m \u001b[0mload_from_qr_code\u001b[0m\u001b[0;34m(\u001b[0m\u001b[0mfilename\u001b[0m\u001b[0;34m)\u001b[0m\u001b[0;34m\u001b[0m\u001b[0;34m\u001b[0m\u001b[0m\n\u001b[0m\u001b[1;32m     44\u001b[0m \u001b[0;31m#if __name__ == \"__main__\":\u001b[0m\u001b[0;34m\u001b[0m\u001b[0;34m\u001b[0m\u001b[0;34m\u001b[0m\u001b[0m\n\u001b[1;32m     45\u001b[0m \u001b[0;31m# Удалите комментарий и допишите код\u001b[0m\u001b[0;34m\u001b[0m\u001b[0;34m\u001b[0m\u001b[0;34m\u001b[0m\u001b[0m\n",
            "\u001b[0;32m<ipython-input-28-9aed6d11bf18>\u001b[0m in \u001b[0;36mload_from_qr_code\u001b[0;34m(filename)\u001b[0m\n\u001b[1;32m     32\u001b[0m         \u001b[0mstr\u001b[0m\u001b[0;34m:\u001b[0m \u001b[0mсообщение\u001b[0m\u001b[0;34m.\u001b[0m\u001b[0;34m\u001b[0m\u001b[0;34m\u001b[0m\u001b[0m\n\u001b[1;32m     33\u001b[0m     \"\"\"\n\u001b[0;32m---> 34\u001b[0;31m     \u001b[0md\u001b[0m \u001b[0;34m=\u001b[0m \u001b[0mpyzbar\u001b[0m\u001b[0;34m.\u001b[0m\u001b[0mdecode\u001b[0m\u001b[0;34m(\u001b[0m\u001b[0mimg\u001b[0m\u001b[0;34m)\u001b[0m\u001b[0;34m\u001b[0m\u001b[0;34m\u001b[0m\u001b[0m\n\u001b[0m\u001b[1;32m     35\u001b[0m     \u001b[0;32mfor\u001b[0m \u001b[0mobj\u001b[0m \u001b[0;32min\u001b[0m \u001b[0md\u001b[0m\u001b[0;34m:\u001b[0m\u001b[0;34m\u001b[0m\u001b[0;34m\u001b[0m\u001b[0m\n\u001b[1;32m     36\u001b[0m         \u001b[0;31m# draw the barcode\u001b[0m\u001b[0;34m\u001b[0m\u001b[0;34m\u001b[0m\u001b[0;34m\u001b[0m\u001b[0m\n",
            "\u001b[0;31mAttributeError\u001b[0m: module 'pyzbar' has no attribute 'decode'"
          ]
        }
      ]
    },
    {
      "cell_type": "code",
      "source": [
        "import qrcode\n",
        "# пример данных\n",
        "text = str(input(\"Введите сообщение: \"))\n",
        "# имя конечного файла\n",
        "filename = \"site.png\"\n",
        "# генерируем qr-код\n",
        "img = qrcode.make(text)\n",
        "# сохраняем img в файл\n",
        "img.save(filename)"
      ],
      "metadata": {
        "id": "5MNeApbzy7VL",
        "outputId": "c9b82b07-2d0a-4a9e-fc63-622f9a4036db",
        "colab": {
          "base_uri": "https://localhost:8080/"
        }
      },
      "execution_count": 10,
      "outputs": [
        {
          "name": "stdout",
          "output_type": "stream",
          "text": [
            "Введите сообщение: я люблю питон\n"
          ]
        }
      ]
    },
    {
      "cell_type": "markdown",
      "source": [
        "№ 9.2.5\n",
        "\n",
        "На Рисунке 9.2.3 приведен интерфейс приложения для перевода чисел в различные системы счисления.\n",
        "\n",
        "![image.png](data:image/png;base64,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)\n",
        "\n",
        "Используя решение задачи № 5.2.9, завершите реализацию приложения, дополнив модули numeral_systems.py и main.py.\n"
      ],
      "metadata": {
        "id": "dURWPiFuAe-v"
      }
    },
    {
      "cell_type": "code",
      "source": [
        "!pip install QtWidgets"
      ],
      "metadata": {
        "colab": {
          "base_uri": "https://localhost:8080/"
        },
        "id": "RjIXRrt7jktp",
        "outputId": "83d379ee-ed49-4c43-c5c9-44e08c89cd30"
      },
      "execution_count": null,
      "outputs": [
        {
          "output_type": "stream",
          "name": "stdout",
          "text": [
            "Looking in indexes: https://pypi.org/simple, https://us-python.pkg.dev/colab-wheels/public/simple/\n",
            "Requirement already satisfied: QtWidgets in /usr/local/lib/python3.8/dist-packages (0.18)\n"
          ]
        }
      ]
    },
    {
      "cell_type": "code",
      "source": [
        "# Задание task_09_02_05.\n",
        "\n",
        "DIGITS_ALL = '0123456789ABCDEF'\n",
        "\n",
        "class WrongBaseError(ValueError):\n",
        "    pass\n",
        "\n",
        "\n",
        "def tenth_to_base(number, base):\n",
        "    \"\"\"Преобразовать десятичное число 'number' в с.с. 'base'.\n",
        "\n",
        "    Параметры:\n",
        "        number (int): десятичное число;\n",
        "        base (int): система счисления (2-16).\n",
        "\n",
        "    Результат:\n",
        "        str: число в с.с. 'base'.\n",
        "\n",
        "    Исключения:\n",
        "       WrongBaseError: если 'base' не входит в допустимый диапазон (2-16).\"\"\"\n",
        "    f = \" \"\n",
        "    while number > 0:\n",
        "      new = number % base\n",
        "      f == DIGITS_ALL[new] + f\n",
        "      number = number // base\n",
        "    return f\n",
        "\n",
        "def base_to_tenth(number, base):\n",
        "    \"\"\"Преобразовать число 'number' в с.с. 'base' в десятичную с.с.\n",
        "\n",
        "    Параметры:\n",
        "        number (str): число в с.с. 'base';\n",
        "        base (int): система счисления (2-16).\n",
        "\n",
        "    Результат:\n",
        "        int: число в 10-й с.с.\n",
        "\n",
        "    Исключения:\n",
        "       WrongBaseError: если число 'number' не существует в с.с. 'base' или\n",
        "                      'base' не входит в допустимый диапазон (2-16).\"\"\"\n",
        "    n = 0\n",
        "    done = 0\n",
        "    while number >= 1:\n",
        "        new1 = number % 10 * (base**n)\n",
        "        n += 1\n",
        "        done += new1\n",
        "        number = number // 10\n",
        "    return done\n",
        "\n",
        "def convert(number, base1, base2):\n",
        "    \"\"\"Преобразовать число 'number' из с.с. 'base1' в с.с. 'base2'.\n",
        "\n",
        "    Функция только вызывает внутри функции tenth_to_base() и base_to_tenth().\n",
        "\n",
        "    Параметры:\n",
        "        number (str): число в с.с. 'base1';\n",
        "        base1 (int): система счисления числа 'number';\n",
        "        base2 (int): целевая система счисления.\n",
        "\n",
        "    Результат:\n",
        "        str: число в 'base2' с.с.\"\"\"\n",
        "    return tenth_to_base(base_to_tenth(int(number), base1), base2)"
      ],
      "metadata": {
        "id": "Tp4Q8wQlcJsv"
      },
      "execution_count": null,
      "outputs": []
    },
    {
      "cell_type": "code",
      "source": [
        "# Задание task_09_02_05.\n",
        "\n",
        "import sys\n",
        "from PyQt5.QtWidgets import (\n",
        "    QApplication,\n",
        "    QWidget,\n",
        "    QLabel,\n",
        "    QLineEdit,\n",
        "    QGridLayout,\n",
        "    QPushButton,\n",
        "    QSizePolicy,\n",
        "    QComboBox\n",
        ")\n",
        "from PyQt5.QtCore import Qt\n",
        "from PyQt5.QtGui import QIcon\n",
        "# Масштабирование для 4K-Мониторов\n",
        "import PyQt5\n",
        "QApplication.setAttribute(PyQt5.QtCore.Qt.AA_EnableHighDpiScaling, True)\n",
        "\n",
        "\n",
        "def on_click():\n",
        "    \"\"\"Реакция на нажатие кнопки.\"\"\"\n",
        "    try:\n",
        "        number = int(edt_num.text())\n",
        "        base1 = int(cbb_from_base.currentText())\n",
        "        base2 = int(cbb_from_base.currentText())\n",
        "        res = numeral_systems.convert(number, base1, base2)\n",
        "        edt_res.setText('{}'.format(result))\n",
        "    except Exception as err:\n",
        "        print(type(err), err)\n",
        "        edt_res.setText(\"Невозможно выполнить операцию\")\n",
        "\n",
        "if __name__ == \"__main__\":\n",
        "    app = QApplication(sys.argv)\n",
        "\n",
        "    # Главное окно приложения\n",
        "    w = QWidget()\n",
        "    w.resize(365, 230)\n",
        "    w.setWindowTitle(\"Системы счисления - переводы\")\n",
        "    w.setWindowIcon(QIcon('main_icon.png'))\n",
        "\n",
        "    # Общее расположение элементов - сетка\n",
        "    grid = QGridLayout()\n",
        "    grid.setSpacing(15)\n",
        "\n",
        "    # Метки\n",
        "    lbl_num = QLabel(\"Число:\")\n",
        "    lbl_from_base = QLabel(\"Из (с.с.):\")\n",
        "    lbl_to_base = QLabel(\"В (с.с.):\")\n",
        "    lbl_res = QLabel(\"Итог:\")\n",
        "\n",
        "    # Кнопки\n",
        "    btn_convert = QPushButton(\"Преобразовать\")\n",
        "    btn_convert.setSizePolicy(QSizePolicy.Expanding, QSizePolicy.Expanding)\n",
        "\n",
        "    # Действия кнопок\n",
        "    btn_convert.clicked.connect(lambda: on_click())\n",
        "\n",
        "    # Текстовые поля\n",
        "    edt_num = QLineEdit()\n",
        "    edt_num.setAlignment(Qt.AlignCenter)\n",
        "    edt_res = QLineEdit()\n",
        "    edt_res.setAlignment(Qt.AlignCenter)\n",
        "    edt_res.setReadOnly(True)\n",
        "\n",
        "    # Выпадающие списки с.с.\n",
        "    cbb_from_base = QComboBox()\n",
        "    cbb_to_base = QComboBox()\n",
        "    for i in range(2, 17):\n",
        "        cbb_from_base.addItem(str(i))\n",
        "        cbb_to_base.addItem(str(i))\n",
        "    cbb_from_base.setCurrentText(\"10\")\n",
        "\n",
        "    # Общее расположение элементов\n",
        "    grid.addWidget(lbl_num, 0, 0, Qt.AlignRight)\n",
        "    grid.addWidget(edt_num, 0, 1, 1, 3)\n",
        "    grid.addWidget(lbl_from_base, 1, 0, Qt.AlignRight)\n",
        "    grid.addWidget(cbb_from_base, 1, 1)\n",
        "    grid.addWidget(lbl_to_base, 1, 2, Qt.AlignRight)\n",
        "    grid.addWidget(cbb_to_base, 1, 3)\n",
        "    grid.addWidget(btn_convert, 2, 1, 1, 3)\n",
        "    grid.addWidget(lbl_res, 3, 0, Qt.AlignRight)\n",
        "    grid.addWidget(edt_res, 3, 1, 1, 3)\n",
        "\n",
        "    # Запуск приложения\n",
        "    w.setLayout(grid)\n",
        "    w.show()\n",
        "    sys.exit(app.exec_())"
      ],
      "metadata": {
        "id": "tWeu9mCoAyfV"
      },
      "execution_count": null,
      "outputs": []
    },
    {
      "cell_type": "markdown",
      "source": [
        "№ 9.2.7\n",
        "\n",
        "Реализуйте модуль для numbers.py, позволяющий:\n",
        "\n",
        "находить НОД и НОК;\n",
        "\n",
        "определять, является ли число простым;\n",
        "\n",
        "получать обратное число;\n",
        "\n",
        "получать корень из числа."
      ],
      "metadata": {
        "id": "DpJacJreExyZ"
      }
    },
    {
      "cell_type": "code",
      "source": [
        "from google.colab import files\n",
        "uploaded = files.upload()"
      ],
      "metadata": {
        "id": "P2edSw6S7k8z",
        "outputId": "7861f09d-2428-40b3-90c2-bbe1c3a46631",
        "colab": {
          "base_uri": "https://localhost:8080/",
          "height": 74
        }
      },
      "execution_count": null,
      "outputs": [
        {
          "output_type": "display_data",
          "data": {
            "text/plain": [
              "<IPython.core.display.HTML object>"
            ],
            "text/html": [
              "\n",
              "     <input type=\"file\" id=\"files-2e866163-11f1-41fd-bb9f-65fe21d57a48\" name=\"files[]\" multiple disabled\n",
              "        style=\"border:none\" />\n",
              "     <output id=\"result-2e866163-11f1-41fd-bb9f-65fe21d57a48\">\n",
              "      Upload widget is only available when the cell has been executed in the\n",
              "      current browser session. Please rerun this cell to enable.\n",
              "      </output>\n",
              "      <script>// Copyright 2017 Google LLC\n",
              "//\n",
              "// Licensed under the Apache License, Version 2.0 (the \"License\");\n",
              "// you may not use this file except in compliance with the License.\n",
              "// You may obtain a copy of the License at\n",
              "//\n",
              "//      http://www.apache.org/licenses/LICENSE-2.0\n",
              "//\n",
              "// Unless required by applicable law or agreed to in writing, software\n",
              "// distributed under the License is distributed on an \"AS IS\" BASIS,\n",
              "// WITHOUT WARRANTIES OR CONDITIONS OF ANY KIND, either express or implied.\n",
              "// See the License for the specific language governing permissions and\n",
              "// limitations under the License.\n",
              "\n",
              "/**\n",
              " * @fileoverview Helpers for google.colab Python module.\n",
              " */\n",
              "(function(scope) {\n",
              "function span(text, styleAttributes = {}) {\n",
              "  const element = document.createElement('span');\n",
              "  element.textContent = text;\n",
              "  for (const key of Object.keys(styleAttributes)) {\n",
              "    element.style[key] = styleAttributes[key];\n",
              "  }\n",
              "  return element;\n",
              "}\n",
              "\n",
              "// Max number of bytes which will be uploaded at a time.\n",
              "const MAX_PAYLOAD_SIZE = 100 * 1024;\n",
              "\n",
              "function _uploadFiles(inputId, outputId) {\n",
              "  const steps = uploadFilesStep(inputId, outputId);\n",
              "  const outputElement = document.getElementById(outputId);\n",
              "  // Cache steps on the outputElement to make it available for the next call\n",
              "  // to uploadFilesContinue from Python.\n",
              "  outputElement.steps = steps;\n",
              "\n",
              "  return _uploadFilesContinue(outputId);\n",
              "}\n",
              "\n",
              "// This is roughly an async generator (not supported in the browser yet),\n",
              "// where there are multiple asynchronous steps and the Python side is going\n",
              "// to poll for completion of each step.\n",
              "// This uses a Promise to block the python side on completion of each step,\n",
              "// then passes the result of the previous step as the input to the next step.\n",
              "function _uploadFilesContinue(outputId) {\n",
              "  const outputElement = document.getElementById(outputId);\n",
              "  const steps = outputElement.steps;\n",
              "\n",
              "  const next = steps.next(outputElement.lastPromiseValue);\n",
              "  return Promise.resolve(next.value.promise).then((value) => {\n",
              "    // Cache the last promise value to make it available to the next\n",
              "    // step of the generator.\n",
              "    outputElement.lastPromiseValue = value;\n",
              "    return next.value.response;\n",
              "  });\n",
              "}\n",
              "\n",
              "/**\n",
              " * Generator function which is called between each async step of the upload\n",
              " * process.\n",
              " * @param {string} inputId Element ID of the input file picker element.\n",
              " * @param {string} outputId Element ID of the output display.\n",
              " * @return {!Iterable<!Object>} Iterable of next steps.\n",
              " */\n",
              "function* uploadFilesStep(inputId, outputId) {\n",
              "  const inputElement = document.getElementById(inputId);\n",
              "  inputElement.disabled = false;\n",
              "\n",
              "  const outputElement = document.getElementById(outputId);\n",
              "  outputElement.innerHTML = '';\n",
              "\n",
              "  const pickedPromise = new Promise((resolve) => {\n",
              "    inputElement.addEventListener('change', (e) => {\n",
              "      resolve(e.target.files);\n",
              "    });\n",
              "  });\n",
              "\n",
              "  const cancel = document.createElement('button');\n",
              "  inputElement.parentElement.appendChild(cancel);\n",
              "  cancel.textContent = 'Cancel upload';\n",
              "  const cancelPromise = new Promise((resolve) => {\n",
              "    cancel.onclick = () => {\n",
              "      resolve(null);\n",
              "    };\n",
              "  });\n",
              "\n",
              "  // Wait for the user to pick the files.\n",
              "  const files = yield {\n",
              "    promise: Promise.race([pickedPromise, cancelPromise]),\n",
              "    response: {\n",
              "      action: 'starting',\n",
              "    }\n",
              "  };\n",
              "\n",
              "  cancel.remove();\n",
              "\n",
              "  // Disable the input element since further picks are not allowed.\n",
              "  inputElement.disabled = true;\n",
              "\n",
              "  if (!files) {\n",
              "    return {\n",
              "      response: {\n",
              "        action: 'complete',\n",
              "      }\n",
              "    };\n",
              "  }\n",
              "\n",
              "  for (const file of files) {\n",
              "    const li = document.createElement('li');\n",
              "    li.append(span(file.name, {fontWeight: 'bold'}));\n",
              "    li.append(span(\n",
              "        `(${file.type || 'n/a'}) - ${file.size} bytes, ` +\n",
              "        `last modified: ${\n",
              "            file.lastModifiedDate ? file.lastModifiedDate.toLocaleDateString() :\n",
              "                                    'n/a'} - `));\n",
              "    const percent = span('0% done');\n",
              "    li.appendChild(percent);\n",
              "\n",
              "    outputElement.appendChild(li);\n",
              "\n",
              "    const fileDataPromise = new Promise((resolve) => {\n",
              "      const reader = new FileReader();\n",
              "      reader.onload = (e) => {\n",
              "        resolve(e.target.result);\n",
              "      };\n",
              "      reader.readAsArrayBuffer(file);\n",
              "    });\n",
              "    // Wait for the data to be ready.\n",
              "    let fileData = yield {\n",
              "      promise: fileDataPromise,\n",
              "      response: {\n",
              "        action: 'continue',\n",
              "      }\n",
              "    };\n",
              "\n",
              "    // Use a chunked sending to avoid message size limits. See b/62115660.\n",
              "    let position = 0;\n",
              "    do {\n",
              "      const length = Math.min(fileData.byteLength - position, MAX_PAYLOAD_SIZE);\n",
              "      const chunk = new Uint8Array(fileData, position, length);\n",
              "      position += length;\n",
              "\n",
              "      const base64 = btoa(String.fromCharCode.apply(null, chunk));\n",
              "      yield {\n",
              "        response: {\n",
              "          action: 'append',\n",
              "          file: file.name,\n",
              "          data: base64,\n",
              "        },\n",
              "      };\n",
              "\n",
              "      let percentDone = fileData.byteLength === 0 ?\n",
              "          100 :\n",
              "          Math.round((position / fileData.byteLength) * 100);\n",
              "      percent.textContent = `${percentDone}% done`;\n",
              "\n",
              "    } while (position < fileData.byteLength);\n",
              "  }\n",
              "\n",
              "  // All done.\n",
              "  yield {\n",
              "    response: {\n",
              "      action: 'complete',\n",
              "    }\n",
              "  };\n",
              "}\n",
              "\n",
              "scope.google = scope.google || {};\n",
              "scope.google.colab = scope.google.colab || {};\n",
              "scope.google.colab._files = {\n",
              "  _uploadFiles,\n",
              "  _uploadFilesContinue,\n",
              "};\n",
              "})(self);\n",
              "</script> "
            ]
          },
          "metadata": {}
        },
        {
          "output_type": "stream",
          "name": "stdout",
          "text": [
            "Saving numbers (1).py to numbers (1).py\n"
          ]
        }
      ]
    },
    {
      "cell_type": "code",
      "source": [
        "!ls"
      ],
      "metadata": {
        "id": "Nh3gu52M72lf",
        "outputId": "2edbac31-ded8-4077-b75b-40fba8e5c98f",
        "colab": {
          "base_uri": "https://localhost:8080/"
        }
      },
      "execution_count": null,
      "outputs": [
        {
          "output_type": "stream",
          "name": "stdout",
          "text": [
            "'numbers (1).py'   numbers.py   sample_data\n"
          ]
        }
      ]
    },
    {
      "cell_type": "code",
      "source": [
        "# модуль numbers.py\n",
        "import numpy as np\n",
        "\n",
        "def gcd(first, second):\n",
        "  if type(first) != int or type(second) != int:\n",
        "    raise TypeError(\"Недопустимый тип данных\")\n",
        "  elif first == 0 or second == 0:\n",
        "    raise ValueError(\"Невозможно вычислить\")\n",
        "  else:\n",
        "    x = np.gcd(first, second)\n",
        "    return x\n",
        "\n",
        "def lcm(first, second):\n",
        "  if type(first) != int and type(second) != int:\n",
        "    raise TypeError(\"Недопустимый тип данных\")\n",
        "  elif first == 0 or second == 0:\n",
        "    raise ValueError(\"Невозможно вычислить\")\n",
        "  else:\n",
        "    y = np.lcm(first, second)\n",
        "    return y\n",
        "\n",
        "def is_prime(number):\n",
        "  if number > 0:\n",
        "    k = 0\n",
        "    for i in range(2, number // 2+1):\n",
        "       if (number % i == 0):\n",
        "        k = k+1\n",
        "    if (k <= 0):\n",
        "        return True\n",
        "    else:\n",
        "        return False \n",
        "  elif type(number) != int:\n",
        "    raise TypeError(\"Недопустимый тип данных\")\n",
        "  else:\n",
        "    raise ValueError(\"Невозможно проверить\")\n",
        "\n",
        "def inverse(number):\n",
        "  if number != 0:\n",
        "    return 1 / number\n",
        "  elif number == 0:\n",
        "    raise ZeroDivisionError(\"Невозможно найти обратное число\")\n",
        "  elif type(number) != int:\n",
        "    raise TypeError(\"Недопустимый тип данных\")\n",
        "\n",
        "def root(number, power=2):\n",
        "  if number > 0:\n",
        "    z = number ** (1 / power)\n",
        "    return z\n",
        "  elif type(number) != int or type(number) != float:\n",
        "    raise TypeError(\"Недопустимый тип данных\")\n",
        "  elif type(power) != int or type(power) != float:\n",
        "    raise TypeError(\"Недопустимый тип данных\")\n",
        "  elif power < 1:\n",
        "    raise ValueError(\"Невозможно вычислить\")\n",
        "\n",
        "try:\n",
        "  first = int(input(\"Введите первое число: \"))\n",
        "  second = int(input(\"Введите второе число: \"))\n",
        "  number = int(input(\"Введите число:\"))\n",
        "  print(\"НОД: \", gcd(first, second))\n",
        "  print(\"НОК: \", lcm(first, second))\n",
        "  print(is_prime(number))\n",
        "  print(\"Обатное число: \", inverse(number))\n",
        "  print(\"Корень: \", root(number, power=2))\n",
        "except ValueError as err:\n",
        "  print(\"Ошибка:\", err, \".Проверьте введенные числа.\")\n",
        "except TypeError as err:\n",
        "  print(\"Ошибка:\", err, \".Проверьте введенные числа.\")\n",
        "except ZeroDivisionError as err:\n",
        "  print(\"Ошибка:\", err, \".Проверьте введенные числа.\")"
      ],
      "metadata": {
        "colab": {
          "base_uri": "https://localhost:8080/"
        },
        "id": "Amv5ZIKbJFBR",
        "outputId": "2c9e0195-20fc-47c1-d7aa-056bb4355943"
      },
      "execution_count": null,
      "outputs": [
        {
          "output_type": "stream",
          "name": "stdout",
          "text": [
            "Введите первое число: 54\n",
            "Введите второе число: 24\n",
            "Введите число:9\n",
            "6\n",
            "216\n",
            "False\n",
            "0.1111111111111111\n",
            "3.0\n"
          ]
        }
      ]
    }
  ]
}