{
  "nbformat": 4,
  "nbformat_minor": 0,
  "metadata": {
    "colab": {
      "provenance": [],
      "authorship_tag": "ABX9TyMEmiBLMeiJLHP8eFRJDe15",
      "include_colab_link": true
    },
    "kernelspec": {
      "name": "python3",
      "display_name": "Python 3"
    },
    "language_info": {
      "name": "python"
    }
  },
  "cells": [
    {
      "cell_type": "markdown",
      "metadata": {
        "id": "view-in-github",
        "colab_type": "text"
      },
      "source": [
        "<a href=\"https://colab.research.google.com/github/AlinaSabitova/Lab_AlinaSabitova/blob/main/Lab9.ipynb\" target=\"_parent\"><img src=\"https://colab.research.google.com/assets/colab-badge.svg\" alt=\"Open In Colab\"/></a>"
      ]
    },
    {
      "cell_type": "code",
      "source": [
        "# Выполнил: Сабитова А.Б.\n",
        "# Группа: АДЭУ-221\n",
        "# E-mail: alisab1105@yandex.ru"
      ],
      "metadata": {
        "id": "iANcgiIVbvbZ"
      },
      "execution_count": null,
      "outputs": []
    },
    {
      "cell_type": "markdown",
      "source": [
        "№ 9.2.1\n",
        "\n",
        "Установите пакет py-romanify, предназначенный для работы с римскими числами, после чего:\n",
        "\n",
        "введите с клавиатуры 1 римское и 1 арабское число;\n",
        "\n",
        "выведите на экран результаты операций +, -, *, // как арабские и как римские числа."
      ],
      "metadata": {
        "id": "tYdWtkzrbqBX"
      }
    },
    {
      "cell_type": "code",
      "source": [
        "# Задание task_09_02_01.\n",
        "\n",
        "# Удалите комментарий и допишите код\n",
        "\n",
        "if __name__ == \"__main__\":\n",
        "    # Добавьте обработку исключений\n",
        "\n",
        "    arabic = int(input(\"Арабское число: \"))\n",
        "    roman = float(input(\"Римское число: \"))\n",
        "\n",
        "    \n",
        "\n",
        "\n",
        "# --------------\n",
        "# Пример вывода:\n",
        "#\n",
        "# Арабское число: 100\n",
        "# Римское число: V\n",
        "# Сумма: 105 CV\n",
        "# Разность: 95 XCV\n",
        "# Произведение: 500 D\n",
        "# Частное (нацело): 20 XX"
      ],
      "metadata": {
        "id": "ZHikwt_MbrXZ"
      },
      "execution_count": null,
      "outputs": []
    },
    {
      "cell_type": "markdown",
      "source": [
        "№ 9.2.2\n",
        "\n",
        "Установите пакет pyscreenshot, предназначенный для создания скриншотов, используя следующую команду:\n",
        "\n",
        "pip install Pillow pyscreenshot\n",
        "Используя функции grab() и save(), создайте и сохраните скриншот рабочего стола."
      ],
      "metadata": {
        "id": "Or3RPb1acYKA"
      }
    },
    {
      "cell_type": "code",
      "source": [
        "pip install Pillow pyscreenshot"
      ],
      "metadata": {
        "colab": {
          "base_uri": "https://localhost:8080/"
        },
        "id": "Dxub7jRzcb88",
        "outputId": "c0264e35-2a8f-4c17-a8d7-2a3af41d4973"
      },
      "execution_count": 1,
      "outputs": [
        {
          "output_type": "stream",
          "name": "stdout",
          "text": [
            "Looking in indexes: https://pypi.org/simple, https://us-python.pkg.dev/colab-wheels/public/simple/\n",
            "Requirement already satisfied: Pillow in /usr/local/lib/python3.8/dist-packages (7.1.2)\n",
            "Collecting pyscreenshot\n",
            "  Downloading pyscreenshot-3.0-py3-none-any.whl (27 kB)\n",
            "Collecting EasyProcess\n",
            "  Downloading EasyProcess-1.1-py3-none-any.whl (8.7 kB)\n",
            "Collecting entrypoint2\n",
            "  Downloading entrypoint2-1.1-py2.py3-none-any.whl (9.9 kB)\n",
            "Collecting jeepney\n",
            "  Downloading jeepney-0.8.0-py3-none-any.whl (48 kB)\n",
            "\u001b[K     |████████████████████████████████| 48 kB 5.6 MB/s \n",
            "\u001b[?25hCollecting mss\n",
            "  Downloading mss-7.0.1-py3-none-any.whl (76 kB)\n",
            "\u001b[K     |████████████████████████████████| 76 kB 6.0 MB/s \n",
            "\u001b[?25hInstalling collected packages: mss, jeepney, entrypoint2, EasyProcess, pyscreenshot\n",
            "Successfully installed EasyProcess-1.1 entrypoint2-1.1 jeepney-0.8.0 mss-7.0.1 pyscreenshot-3.0\n"
          ]
        }
      ]
    },
    {
      "cell_type": "code",
      "source": [
        "# Задание task_09_02_02.\n",
        "\n",
        "# Удалите комментарий и допишите код\n",
        "\n",
        "if __name__ == \"__main__\":\n",
        "    # Добавьте обработку исключений\n",
        "\n",
        "    filename = input(\"\"\"Для создания и сохранения скриншота:\n",
        "- отодвиньте терминал так, чтобы он не закрывал исходный код\n",
        "- введите имя файла (например, a.png)\n",
        "- нажмите <ENTER>\\n\"\"\")\n",
        "\n",
        "    # Удалите комментарий и допишите код"
      ],
      "metadata": {
        "id": "7gq1BolNcgMK"
      },
      "execution_count": null,
      "outputs": []
    }
  ]
}