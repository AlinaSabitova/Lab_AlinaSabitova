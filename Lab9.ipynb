{
  "nbformat": 4,
  "nbformat_minor": 0,
  "metadata": {
    "colab": {
      "provenance": [],
      "authorship_tag": "ABX9TyPXyGOheiiJX90+Q0FirrZb",
      "include_colab_link": true
    },
    "kernelspec": {
      "name": "python3",
      "display_name": "Python 3"
    },
    "language_info": {
      "name": "python"
    }
  },
  "cells": [
    {
      "cell_type": "markdown",
      "metadata": {
        "id": "view-in-github",
        "colab_type": "text"
      },
      "source": [
        "<a href=\"https://colab.research.google.com/github/AlinaSabitova/Lab_AlinaSabitova/blob/main/Lab9.ipynb\" target=\"_parent\"><img src=\"https://colab.research.google.com/assets/colab-badge.svg\" alt=\"Open In Colab\"/></a>"
      ]
    },
    {
      "cell_type": "code",
      "source": [
        "# Выполнил: Сабитова А.Б.\n",
        "# Группа: АДЭУ-221\n",
        "# E-mail: alisab1105@yandex.ru"
      ],
      "metadata": {
        "id": "iANcgiIVbvbZ"
      },
      "execution_count": null,
      "outputs": []
    },
    {
      "cell_type": "markdown",
      "source": [
        "№ 9.2.1\n",
        "\n",
        "Установите пакет py-romanify, предназначенный для работы с римскими числами, после чего:\n",
        "\n",
        "введите с клавиатуры 1 римское и 1 арабское число;\n",
        "\n",
        "выведите на экран результаты операций +, -, *, // как арабские и как римские числа."
      ],
      "metadata": {
        "id": "tYdWtkzrbqBX"
      }
    },
    {
      "cell_type": "code",
      "source": [
        "pip install py-romanify"
      ],
      "metadata": {
        "id": "L39HBkfP5-FZ",
        "outputId": "d258cdae-144b-4478-ede7-183a1bd71698",
        "colab": {
          "base_uri": "https://localhost:8080/"
        }
      },
      "execution_count": 8,
      "outputs": [
        {
          "output_type": "stream",
          "name": "stdout",
          "text": [
            "Looking in indexes: https://pypi.org/simple, https://us-python.pkg.dev/colab-wheels/public/simple/\n",
            "Requirement already satisfied: py-romanify in /usr/local/lib/python3.8/dist-packages (1.0.0)\n"
          ]
        }
      ]
    },
    {
      "cell_type": "code",
      "source": [
        "# Задание task_09_02_01.\n",
        "\n",
        "import romanify\n",
        "\n",
        "def summa(arabic, roman):\n",
        "  sum1 = arabic + romanify.roman2arabic(roman)\n",
        "  sum2 = romanify.arabic2roman(sum1)\n",
        "  return sum1, sum2\n",
        "\n",
        "def residual(arabic, roman):\n",
        "  residual1 = arabic - romanify.roman2arabic(roman)\n",
        "  residual2 = romanify.arabic2roman(residual1)\n",
        "  return residual1, residual2\n",
        "\n",
        "def multiplication(arabic, roman):\n",
        "  multiplication1 = arabic * romanify.roman2arabic(roman)\n",
        "  multiplication2 = romanify.arabic2roman(multiplication1)\n",
        "  return multiplication1, multiplication2\n",
        "\n",
        "def division(arabic, roman):\n",
        "  division1 = arabic // romanify.roman2arabic(roman)\n",
        "  division2 = romanify.arabic2roman(division1)\n",
        "  return division1, division2\n",
        "\n",
        "arabic = int(input(\"Арабское число: \"))\n",
        "roman = str(input(\"Римское число: \"))\n",
        "print(\"Сумма: \" \"{}\".format(summa(arabic, roman)))\n",
        "print(\"Разность: \" \"{}\".format(residual(arabic, roman)))\n",
        "print(\"Произведение: \" \"{}\".format(multiplication(arabic, roman)))\n",
        "print(\"Частное (нацело): \" \"{}\".format(division(arabic, roman)))\n",
        "\n",
        "#if __name__ == \"__main__\": написать исключения\n",
        "    \n",
        "# --------------\n",
        "# Пример вывода:\n",
        "#\n",
        "# Арабское число: 100\n",
        "# Римское число: V\n",
        "# Сумма: 105 CV\n",
        "# Разность: 95 XCV\n",
        "# Произведение: 500 D\n",
        "# Частное (нацело): 20 XX"
      ],
      "metadata": {
        "id": "ZHikwt_MbrXZ",
        "outputId": "909985b8-a6d8-49b6-d0e6-9308b07ff91b",
        "colab": {
          "base_uri": "https://localhost:8080/"
        }
      },
      "execution_count": 15,
      "outputs": [
        {
          "output_type": "stream",
          "name": "stdout",
          "text": [
            "Арабское число: 100\n",
            "Римское число: V\n",
            "Сумма: (105, 'CV')\n",
            "Разность: (95, 'XCV')\n",
            "Произведение: (500, 'D')\n",
            "Частное (нацело): (20, 'XX')\n"
          ]
        }
      ]
    },
    {
      "cell_type": "markdown",
      "source": [
        "№ 9.2.2\n",
        "\n",
        "Установите пакет pyscreenshot, предназначенный для создания скриншотов, используя следующую команду:\n",
        "\n",
        "pip install Pillow pyscreenshot\n",
        "Используя функции grab() и save(), создайте и сохраните скриншот рабочего стола."
      ],
      "metadata": {
        "id": "Or3RPb1acYKA"
      }
    },
    {
      "cell_type": "code",
      "source": [
        "pip install Pillow pyscreenshot"
      ],
      "metadata": {
        "colab": {
          "base_uri": "https://localhost:8080/"
        },
        "id": "Dxub7jRzcb88",
        "outputId": "92150eea-c80a-4bb1-f531-b8726987f528"
      },
      "execution_count": 14,
      "outputs": [
        {
          "output_type": "stream",
          "name": "stdout",
          "text": [
            "Looking in indexes: https://pypi.org/simple, https://us-python.pkg.dev/colab-wheels/public/simple/\n",
            "Requirement already satisfied: Pillow in /usr/local/lib/python3.8/dist-packages (7.1.2)\n",
            "Collecting pyscreenshot\n",
            "  Downloading pyscreenshot-3.0-py3-none-any.whl (27 kB)\n",
            "Collecting EasyProcess\n",
            "  Downloading EasyProcess-1.1-py3-none-any.whl (8.7 kB)\n",
            "Collecting jeepney\n",
            "  Downloading jeepney-0.8.0-py3-none-any.whl (48 kB)\n",
            "\u001b[K     |████████████████████████████████| 48 kB 4.0 MB/s \n",
            "\u001b[?25hCollecting entrypoint2\n",
            "  Downloading entrypoint2-1.1-py2.py3-none-any.whl (9.9 kB)\n",
            "Collecting mss\n",
            "  Downloading mss-7.0.1-py3-none-any.whl (76 kB)\n",
            "\u001b[K     |████████████████████████████████| 76 kB 5.0 MB/s \n",
            "\u001b[?25hInstalling collected packages: mss, jeepney, entrypoint2, EasyProcess, pyscreenshot\n",
            "Successfully installed EasyProcess-1.1 entrypoint2-1.1 jeepney-0.8.0 mss-7.0.1 pyscreenshot-3.0\n"
          ]
        }
      ]
    },
    {
      "cell_type": "code",
      "source": [
        "# Задание task_09_02_02.\n",
        "\n",
        "import pyscreenshot as ImageGrab\n",
        "img = ImageGrab.grab()\n",
        "img.save(\"screen.bmp\", \"BMP\")\n",
        "img.mode\n",
        "\n",
        "\n",
        "#if __name__ == \"__main__\":\n",
        "    # Добавьте обработку исключений\n",
        "\n",
        "filename = input(\"\"\"Для создания и сохранения скриншота:\n",
        "- отодвиньте терминал так, чтобы он не закрывал исходный код\n",
        "- введите имя файла (например, a.png)\n",
        "- нажмите <ENTER>\\n\"\"\")\n",
        "\n",
        "    # Удалите комментарий и допишите код"
      ],
      "metadata": {
        "id": "7gq1BolNcgMK",
        "outputId": "42442e7a-3bcf-495b-a4ef-6cb4b7301d02",
        "colab": {
          "base_uri": "https://localhost:8080/",
          "height": 395
        }
      },
      "execution_count": 19,
      "outputs": [
        {
          "output_type": "error",
          "ename": "FailedBackendError",
          "evalue": "ignored",
          "traceback": [
            "\u001b[0;31m---------------------------------------------------------------------------\u001b[0m",
            "\u001b[0;31mFailedBackendError\u001b[0m                        Traceback (most recent call last)",
            "\u001b[0;32m<ipython-input-19-389d211e289c>\u001b[0m in \u001b[0;36m<module>\u001b[0;34m\u001b[0m\n\u001b[1;32m      2\u001b[0m \u001b[0;34m\u001b[0m\u001b[0m\n\u001b[1;32m      3\u001b[0m \u001b[0;32mimport\u001b[0m \u001b[0mpyscreenshot\u001b[0m \u001b[0;32mas\u001b[0m \u001b[0mImageGrab\u001b[0m\u001b[0;34m\u001b[0m\u001b[0;34m\u001b[0m\u001b[0m\n\u001b[0;32m----> 4\u001b[0;31m \u001b[0mimg\u001b[0m \u001b[0;34m=\u001b[0m \u001b[0mImageGrab\u001b[0m\u001b[0;34m.\u001b[0m\u001b[0mgrab\u001b[0m\u001b[0;34m(\u001b[0m\u001b[0;34m)\u001b[0m\u001b[0;34m\u001b[0m\u001b[0;34m\u001b[0m\u001b[0m\n\u001b[0m\u001b[1;32m      5\u001b[0m \u001b[0mimg\u001b[0m\u001b[0;34m.\u001b[0m\u001b[0msave\u001b[0m\u001b[0;34m(\u001b[0m\u001b[0;34m\"screen.bmp\"\u001b[0m\u001b[0;34m,\u001b[0m \u001b[0;34m\"BMP\"\u001b[0m\u001b[0;34m)\u001b[0m\u001b[0;34m\u001b[0m\u001b[0;34m\u001b[0m\u001b[0m\n\u001b[1;32m      6\u001b[0m \u001b[0mimg\u001b[0m\u001b[0;34m.\u001b[0m\u001b[0mmode\u001b[0m\u001b[0;34m\u001b[0m\u001b[0;34m\u001b[0m\u001b[0m\n",
            "\u001b[0;32m/usr/local/lib/python3.8/dist-packages/pyscreenshot/__init__.py\u001b[0m in \u001b[0;36mgrab\u001b[0;34m(bbox, childprocess, backend)\u001b[0m\n\u001b[1;32m     28\u001b[0m         \u001b[0;32mif\u001b[0m \u001b[0my2\u001b[0m \u001b[0;34m<=\u001b[0m \u001b[0my1\u001b[0m\u001b[0;34m:\u001b[0m\u001b[0;34m\u001b[0m\u001b[0;34m\u001b[0m\u001b[0m\n\u001b[1;32m     29\u001b[0m             \u001b[0;32mraise\u001b[0m \u001b[0mValueError\u001b[0m\u001b[0;34m(\u001b[0m\u001b[0;34m\"bbox y2<=y1\"\u001b[0m\u001b[0;34m)\u001b[0m\u001b[0;34m\u001b[0m\u001b[0;34m\u001b[0m\u001b[0m\n\u001b[0;32m---> 30\u001b[0;31m     \u001b[0;32mreturn\u001b[0m \u001b[0mbackend_grab\u001b[0m\u001b[0;34m(\u001b[0m\u001b[0mbackend\u001b[0m\u001b[0;34m,\u001b[0m \u001b[0mbbox\u001b[0m\u001b[0;34m,\u001b[0m \u001b[0mchildprocess\u001b[0m\u001b[0;34m)\u001b[0m\u001b[0;34m\u001b[0m\u001b[0;34m\u001b[0m\u001b[0m\n\u001b[0m\u001b[1;32m     31\u001b[0m \u001b[0;34m\u001b[0m\u001b[0m\n\u001b[1;32m     32\u001b[0m \u001b[0;34m\u001b[0m\u001b[0m\n",
            "\u001b[0;32m/usr/local/lib/python3.8/dist-packages/pyscreenshot/loader.py\u001b[0m in \u001b[0;36mbackend_grab\u001b[0;34m(backend, bbox, childprocess)\u001b[0m\n\u001b[1;32m    156\u001b[0m         \u001b[0;32mreturn\u001b[0m \u001b[0mforce\u001b[0m\u001b[0;34m(\u001b[0m\u001b[0mbackend\u001b[0m\u001b[0;34m,\u001b[0m \u001b[0mbbox\u001b[0m\u001b[0;34m,\u001b[0m \u001b[0mchildprocess\u001b[0m\u001b[0;34m)\u001b[0m\u001b[0;34m\u001b[0m\u001b[0;34m\u001b[0m\u001b[0m\n\u001b[1;32m    157\u001b[0m     \u001b[0;32melse\u001b[0m\u001b[0;34m:\u001b[0m\u001b[0;34m\u001b[0m\u001b[0;34m\u001b[0m\u001b[0m\n\u001b[0;32m--> 158\u001b[0;31m         \u001b[0;32mreturn\u001b[0m \u001b[0mauto\u001b[0m\u001b[0;34m(\u001b[0m\u001b[0mbbox\u001b[0m\u001b[0;34m,\u001b[0m \u001b[0mchildprocess\u001b[0m\u001b[0;34m)\u001b[0m\u001b[0;34m\u001b[0m\u001b[0;34m\u001b[0m\u001b[0m\n\u001b[0m\u001b[1;32m    159\u001b[0m \u001b[0;34m\u001b[0m\u001b[0m\n\u001b[1;32m    160\u001b[0m \u001b[0;34m\u001b[0m\u001b[0m\n",
            "\u001b[0;32m/usr/local/lib/python3.8/dist-packages/pyscreenshot/loader.py\u001b[0m in \u001b[0;36mauto\u001b[0;34m(bbox, childprocess)\u001b[0m\n\u001b[1;32m    136\u001b[0m     \u001b[0;32mif\u001b[0m \u001b[0;32mnot\u001b[0m \u001b[0mim\u001b[0m\u001b[0;34m:\u001b[0m\u001b[0;34m\u001b[0m\u001b[0;34m\u001b[0m\u001b[0m\n\u001b[1;32m    137\u001b[0m         \u001b[0mmsg\u001b[0m \u001b[0;34m=\u001b[0m \u001b[0;34m\"All backends failed!\"\u001b[0m\u001b[0;34m\u001b[0m\u001b[0;34m\u001b[0m\u001b[0m\n\u001b[0;32m--> 138\u001b[0;31m         \u001b[0;32mraise\u001b[0m \u001b[0mFailedBackendError\u001b[0m\u001b[0;34m(\u001b[0m\u001b[0mmsg\u001b[0m\u001b[0;34m)\u001b[0m\u001b[0;34m\u001b[0m\u001b[0;34m\u001b[0m\u001b[0m\n\u001b[0m\u001b[1;32m    139\u001b[0m \u001b[0;34m\u001b[0m\u001b[0m\n\u001b[1;32m    140\u001b[0m     \u001b[0;32mreturn\u001b[0m \u001b[0mim\u001b[0m\u001b[0;34m\u001b[0m\u001b[0;34m\u001b[0m\u001b[0m\n",
            "\u001b[0;31mFailedBackendError\u001b[0m: All backends failed!"
          ]
        }
      ]
    }
  ]
}