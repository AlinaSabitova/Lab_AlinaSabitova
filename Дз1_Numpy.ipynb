{
  "nbformat": 4,
  "nbformat_minor": 0,
  "metadata": {
    "colab": {
      "provenance": [],
      "authorship_tag": "ABX9TyNN9euheyvb8ShfEQFtXaSZ",
      "include_colab_link": true
    },
    "kernelspec": {
      "name": "python3",
      "display_name": "Python 3"
    },
    "language_info": {
      "name": "python"
    }
  },
  "cells": [
    {
      "cell_type": "markdown",
      "metadata": {
        "id": "view-in-github",
        "colab_type": "text"
      },
      "source": [
        "<a href=\"https://colab.research.google.com/github/AlinaSabitova/Lab_AlinaSabitova/blob/main/%D0%94%D0%B71_Numpy.ipynb\" target=\"_parent\"><img src=\"https://colab.research.google.com/assets/colab-badge.svg\" alt=\"Open In Colab\"/></a>"
      ]
    },
    {
      "cell_type": "markdown",
      "source": [
        "#Worshop 2.1 Numpy\n",
        "Скачайте этот ноутбук к себе.\n",
        "Заполните пропущенные ячейки, отвечая на заданные вопросы. Там должен быть код! (если не сказано обратное)\n",
        "Сохраните результат в своём гитхаб репозитории."
      ],
      "metadata": {
        "id": "UhOcW2GUk89K"
      }
    },
    {
      "cell_type": "markdown",
      "source": [
        "# 1. Импортировать numpy и написать версию"
      ],
      "metadata": {
        "id": "9g89C218nNBU"
      }
    },
    {
      "cell_type": "code",
      "execution_count": 4,
      "metadata": {
        "id": "_fbqXsNMk1AY"
      },
      "outputs": [],
      "source": [
        "import numpy as np"
      ]
    },
    {
      "cell_type": "code",
      "source": [
        "np.__version__"
      ],
      "metadata": {
        "colab": {
          "base_uri": "https://localhost:8080/",
          "height": 36
        },
        "id": "OzLI1XEnoJC8",
        "outputId": "b42ab346-6120-4339-976c-2d513452dad1"
      },
      "execution_count": 6,
      "outputs": [
        {
          "output_type": "execute_result",
          "data": {
            "text/plain": [
              "'1.23.5'"
            ],
            "application/vnd.google.colaboratory.intrinsic+json": {
              "type": "string"
            }
          },
          "metadata": {},
          "execution_count": 6
        }
      ]
    },
    {
      "cell_type": "markdown",
      "source": [
        "# 2.Создать нулевой вектор размера 10"
      ],
      "metadata": {
        "id": "6oi_uyTHoTGj"
      }
    },
    {
      "cell_type": "code",
      "source": [
        "np.zeros(10)"
      ],
      "metadata": {
        "colab": {
          "base_uri": "https://localhost:8080/"
        },
        "id": "CmwkL81XrMm_",
        "outputId": "f701c79a-0fa5-441f-f1a1-db3069475a51"
      },
      "execution_count": 18,
      "outputs": [
        {
          "output_type": "execute_result",
          "data": {
            "text/plain": [
              "array([0., 0., 0., 0., 0., 0., 0., 0., 0., 0.])"
            ]
          },
          "metadata": {},
          "execution_count": 18
        }
      ]
    },
    {
      "cell_type": "markdown",
      "source": [
        "#3. Создать вектор заполненный 7-ами размера 7"
      ],
      "metadata": {
        "id": "QHVbv1Flv4PX"
      }
    },
    {
      "cell_type": "code",
      "source": [
        "np.full((1,7), 7)"
      ],
      "metadata": {
        "colab": {
          "base_uri": "https://localhost:8080/"
        },
        "id": "PJtgn1VhwADr",
        "outputId": "3b775741-bb89-416e-b94d-343e517cb9bb"
      },
      "execution_count": 9,
      "outputs": [
        {
          "output_type": "execute_result",
          "data": {
            "text/plain": [
              "array([[7, 7, 7, 7, 7, 7, 7]])"
            ]
          },
          "metadata": {},
          "execution_count": 9
        }
      ]
    },
    {
      "cell_type": "markdown",
      "source": [
        "#4. Создать вектор заполненный четными числами от 10 до 100"
      ],
      "metadata": {
        "id": "2zY1fJOlxnj9"
      }
    },
    {
      "cell_type": "code",
      "source": [
        "arr = np.arange(10, 100)\n",
        "arr[::2]"
      ],
      "metadata": {
        "colab": {
          "base_uri": "https://localhost:8080/"
        },
        "id": "FYD1eTl_xtI7",
        "outputId": "608ce1ed-71f1-4e67-e9c1-9339fe911844"
      },
      "execution_count": 20,
      "outputs": [
        {
          "output_type": "execute_result",
          "data": {
            "text/plain": [
              "array([10, 12, 14, 16, 18, 20, 22, 24, 26, 28, 30, 32, 34, 36, 38, 40, 42,\n",
              "       44, 46, 48, 50, 52, 54, 56, 58, 60, 62, 64, 66, 68, 70, 72, 74, 76,\n",
              "       78, 80, 82, 84, 86, 88, 90, 92, 94, 96, 98])"
            ]
          },
          "metadata": {},
          "execution_count": 20
        }
      ]
    },
    {
      "cell_type": "markdown",
      "source": [
        "#5. Создать массив случайных чисел и развернуть его задом наперёд"
      ],
      "metadata": {
        "id": "8NyOV4b9ygxr"
      }
    },
    {
      "cell_type": "code",
      "source": [
        "arr = np.random.random(10)\n",
        "print(arr)\n",
        "arr[::-1]"
      ],
      "metadata": {
        "colab": {
          "base_uri": "https://localhost:8080/"
        },
        "id": "jFl4FyYV1g1b",
        "outputId": "2618079d-4bf3-44cf-c978-d5d41b268e22"
      },
      "execution_count": 52,
      "outputs": [
        {
          "output_type": "stream",
          "name": "stdout",
          "text": [
            "[0.59020941 0.28884691 0.88401793 0.21679722 0.49138139 0.84437766\n",
            " 0.37082778 0.36500587 0.13292852 0.03223907]\n"
          ]
        },
        {
          "output_type": "execute_result",
          "data": {
            "text/plain": [
              "array([0.03223907, 0.13292852, 0.36500587, 0.37082778, 0.84437766,\n",
              "       0.49138139, 0.21679722, 0.88401793, 0.28884691, 0.59020941])"
            ]
          },
          "metadata": {},
          "execution_count": 52
        }
      ]
    },
    {
      "cell_type": "markdown",
      "source": [
        "#6. Создать двумерную матрицу размера 3 на 3, заполненную числами от 0 до 9"
      ],
      "metadata": {
        "id": "5MtbqPY9ym_c"
      }
    },
    {
      "cell_type": "code",
      "source": [
        "arr = np.arange(9).reshape(3, 3)\n",
        "print(arr)"
      ],
      "metadata": {
        "colab": {
          "base_uri": "https://localhost:8080/"
        },
        "id": "GyB2TucI83JV",
        "outputId": "211c199c-0dcd-435e-a9e4-2de6b1ee2e59"
      },
      "execution_count": 41,
      "outputs": [
        {
          "output_type": "stream",
          "name": "stdout",
          "text": [
            "[[0 1 2]\n",
            " [3 4 5]\n",
            " [6 7 8]]\n"
          ]
        }
      ]
    },
    {
      "cell_type": "markdown",
      "source": [
        "#7. Создать матрицу размера 4 на 4 с единицами на диагонали смещеной на один наверх."
      ],
      "metadata": {
        "id": "vn3jLnHzyr0f"
      }
    },
    {
      "cell_type": "code",
      "source": [
        "arr = np.eye(4, k=1)\n",
        "print(arr)"
      ],
      "metadata": {
        "colab": {
          "base_uri": "https://localhost:8080/"
        },
        "id": "7ubX1ftRATmI",
        "outputId": "d9530b4f-76a0-4bc6-e679-90c46c96365e"
      },
      "execution_count": 44,
      "outputs": [
        {
          "output_type": "stream",
          "name": "stdout",
          "text": [
            "[[0. 1. 0. 0.]\n",
            " [0. 0. 1. 0.]\n",
            " [0. 0. 0. 1.]\n",
            " [0. 0. 0. 0.]]\n"
          ]
        }
      ]
    },
    {
      "cell_type": "markdown",
      "source": [
        "#8. Создать матрицу с числами в диапазоне от 1 до 4 по диагонали. В других ячейках матрицы должны быть семерки."
      ],
      "metadata": {
        "id": "q6sWO1LDywUQ"
      }
    },
    {
      "cell_type": "code",
      "source": [
        "np.full((4,4), 7)"
      ],
      "metadata": {
        "colab": {
          "base_uri": "https://localhost:8080/"
        },
        "id": "NDJTSSKVHBDh",
        "outputId": "e7356ff7-1837-48f2-bc8c-8b5adfdce973"
      },
      "execution_count": 50,
      "outputs": [
        {
          "output_type": "execute_result",
          "data": {
            "text/plain": [
              "array([[7, 7, 7, 7],\n",
              "       [7, 7, 7, 7],\n",
              "       [7, 7, 7, 7],\n",
              "       [7, 7, 7, 7]])"
            ]
          },
          "metadata": {},
          "execution_count": 50
        }
      ]
    },
    {
      "cell_type": "code",
      "source": [
        "np.diag([1,2,3,4])"
      ],
      "metadata": {
        "colab": {
          "base_uri": "https://localhost:8080/"
        },
        "id": "npic1IfR0QWt",
        "outputId": "b6c45e2e-352b-4d76-aa26-65bc82b5c9c3"
      },
      "execution_count": 14,
      "outputs": [
        {
          "output_type": "execute_result",
          "data": {
            "text/plain": [
              "array([[1, 0, 0, 0],\n",
              "       [0, 2, 0, 0],\n",
              "       [0, 0, 3, 0],\n",
              "       [0, 0, 0, 4]])"
            ]
          },
          "metadata": {},
          "execution_count": 14
        }
      ]
    },
    {
      "cell_type": "markdown",
      "source": [
        "#9. Создать матрицу размера 5 на 5 заполненную чиcлами от 0 до 4 в строках."
      ],
      "metadata": {
        "id": "boQ4wP6yy1GP"
      }
    },
    {
      "cell_type": "markdown",
      "source": [
        "#10. Создать матрицу случайных чисел размера 10 на 10 и отнять среднее по строкам из каждого элемента строки"
      ],
      "metadata": {
        "id": "xM2OQ7Q1y9s6"
      }
    },
    {
      "cell_type": "markdown",
      "source": [
        "#11. Создать матрицу случайных чисел размера 10 на 10 и отнять медиану по столбцам из каждого элемента столбца"
      ],
      "metadata": {
        "id": "-8ZVvfFUy_Bg"
      }
    },
    {
      "cell_type": "code",
      "source": [
        "arr = np.random.randint(0, 100, (10, 10))\n",
        "print(arr)\n",
        "m = np.median(arr) # медиана\n",
        "print(m)\n",
        "arr -= m\n",
        "print(arr)"
      ],
      "metadata": {
        "colab": {
          "base_uri": "https://localhost:8080/",
          "height": 418
        },
        "id": "FC3ybXMJIyVY",
        "outputId": "05bf8a23-979c-477f-d2a0-946ad755a51c"
      },
      "execution_count": 64,
      "outputs": [
        {
          "output_type": "stream",
          "name": "stdout",
          "text": [
            "[[35 26 81  0 33 20 98 71 63 53]\n",
            " [82 78  0 59 64 48 74 67 17 65]\n",
            " [41 28 49 37 82 99 44 19 52 99]\n",
            " [79 16 49 39  4 28 78 64 41 71]\n",
            " [74 66 36  2 48 64 98  8 12 71]\n",
            " [20  5 30 16 59 76 74  7 24 90]\n",
            " [ 3 77 81 26 18 86 83 36  8 82]\n",
            " [18  4 49 49 44 48 36 59 69 99]\n",
            " [72 65 22 11  0 40 27 28 17  8]\n",
            " [88  7  8 10 47 18 23 12 49  3]]\n",
            "44.0\n"
          ]
        },
        {
          "output_type": "error",
          "ename": "UFuncTypeError",
          "evalue": "ignored",
          "traceback": [
            "\u001b[0;31m---------------------------------------------------------------------------\u001b[0m",
            "\u001b[0;31mUFuncTypeError\u001b[0m                            Traceback (most recent call last)",
            "\u001b[0;32m<ipython-input-64-2434bcbb78e0>\u001b[0m in \u001b[0;36m<cell line: 5>\u001b[0;34m()\u001b[0m\n\u001b[1;32m      3\u001b[0m \u001b[0mm\u001b[0m \u001b[0;34m=\u001b[0m \u001b[0mnp\u001b[0m\u001b[0;34m.\u001b[0m\u001b[0mmedian\u001b[0m\u001b[0;34m(\u001b[0m\u001b[0marr\u001b[0m\u001b[0;34m)\u001b[0m \u001b[0;31m# медиана\u001b[0m\u001b[0;34m\u001b[0m\u001b[0;34m\u001b[0m\u001b[0m\n\u001b[1;32m      4\u001b[0m \u001b[0mprint\u001b[0m\u001b[0;34m(\u001b[0m\u001b[0mm\u001b[0m\u001b[0;34m)\u001b[0m\u001b[0;34m\u001b[0m\u001b[0;34m\u001b[0m\u001b[0m\n\u001b[0;32m----> 5\u001b[0;31m \u001b[0marr\u001b[0m \u001b[0;34m-=\u001b[0m \u001b[0mm\u001b[0m\u001b[0;34m\u001b[0m\u001b[0;34m\u001b[0m\u001b[0m\n\u001b[0m\u001b[1;32m      6\u001b[0m \u001b[0mprint\u001b[0m\u001b[0;34m(\u001b[0m\u001b[0marr\u001b[0m\u001b[0;34m)\u001b[0m\u001b[0;34m\u001b[0m\u001b[0;34m\u001b[0m\u001b[0m\n",
            "\u001b[0;31mUFuncTypeError\u001b[0m: Cannot cast ufunc 'subtract' output from dtype('float64') to dtype('int64') with casting rule 'same_kind'"
          ]
        }
      ]
    },
    {
      "cell_type": "code",
      "source": [
        "my_array = np.array([1,2,3,4])\n",
        "\n",
        "# Print `my_array` before appending\n",
        "print(\"my_array before appending:\", my_array)\n",
        "\n",
        "# Append a 1D array to `my_array`\n",
        "new_array = np.append(my_array, [7, 8, 9, 10])\n",
        "\n",
        "# Print `new_array`\n",
        "print(\"new_array:\", new_array)\n",
        "\n",
        "# Print `my_array` after appending\n",
        "print(\"my_array after appending:\", my_array)"
      ],
      "metadata": {
        "colab": {
          "base_uri": "https://localhost:8080/"
        },
        "id": "-t4Aa-7TPqGg",
        "outputId": "1ef24f47-c69e-4782-ccb5-3d0edbf57f5e"
      },
      "execution_count": 65,
      "outputs": [
        {
          "output_type": "stream",
          "name": "stdout",
          "text": [
            "my_array before appending: [1 2 3 4]\n",
            "new_array: [ 1  2  3  4  7  8  9 10]\n",
            "my_array after appending: [1 2 3 4]\n"
          ]
        }
      ]
    },
    {
      "cell_type": "markdown",
      "source": [
        "#12. Создать матрицу случайных чисел 5x5. Добавить к ней столбцы максимумов и минимумов по строкам. Получится матрица 5x7."
      ],
      "metadata": {
        "id": "biFnvw9wzDoq"
      }
    },
    {
      "cell_type": "markdown",
      "source": [
        "#13. Вектор чисел от 1 до 51 преобразовать в вектор нечетных чисел и в вектор четных чисел, поменять их размерности, чтобы получились две матрица. Найти произведение этих матриц. Найти обратную матрицу этого произведения."
      ],
      "metadata": {
        "id": "LfawSL4RzHPz"
      }
    },
    {
      "cell_type": "markdown",
      "source": [
        "#14. Создать 8x8 матрицу и заполнить её в шахматном порядке нулями и единицами."
      ],
      "metadata": {
        "id": "E8_KPJTtzMDJ"
      }
    }
  ]
}