{
  "nbformat": 4,
  "nbformat_minor": 0,
  "metadata": {
    "colab": {
      "provenance": [],
      "authorship_tag": "ABX9TyNnF1InnD+vpIcZLfNdYLka",
      "include_colab_link": true
    },
    "kernelspec": {
      "name": "python3",
      "display_name": "Python 3"
    },
    "language_info": {
      "name": "python"
    }
  },
  "cells": [
    {
      "cell_type": "markdown",
      "metadata": {
        "id": "view-in-github",
        "colab_type": "text"
      },
      "source": [
        "<a href=\"https://colab.research.google.com/github/AlinaSabitova/Lab_AlinaSabitova/blob/main/%D0%94%D0%B71_Numpy.ipynb\" target=\"_parent\"><img src=\"https://colab.research.google.com/assets/colab-badge.svg\" alt=\"Open In Colab\"/></a>"
      ]
    },
    {
      "cell_type": "markdown",
      "source": [
        "#Worshop 2.1 Numpy\n",
        "Скачайте этот ноутбук к себе.\n",
        "Заполните пропущенные ячейки, отвечая на заданные вопросы. Там должен быть код! (если не сказано обратное)\n",
        "Сохраните результат в своём гитхаб репозитории."
      ],
      "metadata": {
        "id": "UhOcW2GUk89K"
      }
    },
    {
      "cell_type": "markdown",
      "source": [
        "# 1. Импортировать numpy и написать версию"
      ],
      "metadata": {
        "id": "9g89C218nNBU"
      }
    },
    {
      "cell_type": "code",
      "execution_count": 2,
      "metadata": {
        "id": "_fbqXsNMk1AY"
      },
      "outputs": [],
      "source": [
        "import numpy as np"
      ]
    },
    {
      "cell_type": "code",
      "source": [
        "np.__version__"
      ],
      "metadata": {
        "colab": {
          "base_uri": "https://localhost:8080/",
          "height": 36
        },
        "id": "OzLI1XEnoJC8",
        "outputId": "b42ab346-6120-4339-976c-2d513452dad1"
      },
      "execution_count": null,
      "outputs": [
        {
          "output_type": "execute_result",
          "data": {
            "text/plain": [
              "'1.23.5'"
            ],
            "application/vnd.google.colaboratory.intrinsic+json": {
              "type": "string"
            }
          },
          "metadata": {},
          "execution_count": 6
        }
      ]
    },
    {
      "cell_type": "markdown",
      "source": [
        "# 2.Создать нулевой вектор размера 10"
      ],
      "metadata": {
        "id": "6oi_uyTHoTGj"
      }
    },
    {
      "cell_type": "code",
      "source": [
        "np.zeros(10)"
      ],
      "metadata": {
        "colab": {
          "base_uri": "https://localhost:8080/"
        },
        "id": "CmwkL81XrMm_",
        "outputId": "f701c79a-0fa5-441f-f1a1-db3069475a51"
      },
      "execution_count": null,
      "outputs": [
        {
          "output_type": "execute_result",
          "data": {
            "text/plain": [
              "array([0., 0., 0., 0., 0., 0., 0., 0., 0., 0.])"
            ]
          },
          "metadata": {},
          "execution_count": 18
        }
      ]
    },
    {
      "cell_type": "markdown",
      "source": [
        "#3. Создать вектор заполненный 7-ами размера 7"
      ],
      "metadata": {
        "id": "QHVbv1Flv4PX"
      }
    },
    {
      "cell_type": "code",
      "source": [
        "np.full((1,7), 7)"
      ],
      "metadata": {
        "colab": {
          "base_uri": "https://localhost:8080/"
        },
        "id": "PJtgn1VhwADr",
        "outputId": "3b775741-bb89-416e-b94d-343e517cb9bb"
      },
      "execution_count": null,
      "outputs": [
        {
          "output_type": "execute_result",
          "data": {
            "text/plain": [
              "array([[7, 7, 7, 7, 7, 7, 7]])"
            ]
          },
          "metadata": {},
          "execution_count": 9
        }
      ]
    },
    {
      "cell_type": "markdown",
      "source": [
        "#4. Создать вектор заполненный четными числами от 10 до 100"
      ],
      "metadata": {
        "id": "2zY1fJOlxnj9"
      }
    },
    {
      "cell_type": "code",
      "source": [
        "arr = np.arange(10, 100)\n",
        "arr[::2]"
      ],
      "metadata": {
        "colab": {
          "base_uri": "https://localhost:8080/"
        },
        "id": "FYD1eTl_xtI7",
        "outputId": "608ce1ed-71f1-4e67-e9c1-9339fe911844"
      },
      "execution_count": null,
      "outputs": [
        {
          "output_type": "execute_result",
          "data": {
            "text/plain": [
              "array([10, 12, 14, 16, 18, 20, 22, 24, 26, 28, 30, 32, 34, 36, 38, 40, 42,\n",
              "       44, 46, 48, 50, 52, 54, 56, 58, 60, 62, 64, 66, 68, 70, 72, 74, 76,\n",
              "       78, 80, 82, 84, 86, 88, 90, 92, 94, 96, 98])"
            ]
          },
          "metadata": {},
          "execution_count": 20
        }
      ]
    },
    {
      "cell_type": "markdown",
      "source": [
        "#5. Создать массив случайных чисел и развернуть его задом наперёд"
      ],
      "metadata": {
        "id": "8NyOV4b9ygxr"
      }
    },
    {
      "cell_type": "code",
      "source": [
        "arr = np.random.random(10)\n",
        "print(arr)\n",
        "arr[::-1]"
      ],
      "metadata": {
        "colab": {
          "base_uri": "https://localhost:8080/"
        },
        "id": "jFl4FyYV1g1b",
        "outputId": "1bd93b0b-20d7-405e-c37d-aeda959bb76f"
      },
      "execution_count": 31,
      "outputs": [
        {
          "output_type": "stream",
          "name": "stdout",
          "text": [
            "[0.70069841 0.34377005 0.43933573 0.5300514  0.27477653 0.73059425\n",
            " 0.65569905 0.75092853 0.0617207  0.39002615]\n"
          ]
        },
        {
          "output_type": "execute_result",
          "data": {
            "text/plain": [
              "array([0.39002615, 0.0617207 , 0.75092853, 0.65569905, 0.73059425,\n",
              "       0.27477653, 0.5300514 , 0.43933573, 0.34377005, 0.70069841])"
            ]
          },
          "metadata": {},
          "execution_count": 31
        }
      ]
    },
    {
      "cell_type": "markdown",
      "source": [
        "#6. Создать двумерную матрицу размера 3 на 3, заполненную числами от 0 до 9"
      ],
      "metadata": {
        "id": "5MtbqPY9ym_c"
      }
    },
    {
      "cell_type": "code",
      "source": [
        "arr = np.arange(9).reshape(3, 3)\n",
        "print(arr)"
      ],
      "metadata": {
        "colab": {
          "base_uri": "https://localhost:8080/"
        },
        "id": "GyB2TucI83JV",
        "outputId": "211c199c-0dcd-435e-a9e4-2de6b1ee2e59"
      },
      "execution_count": null,
      "outputs": [
        {
          "output_type": "stream",
          "name": "stdout",
          "text": [
            "[[0 1 2]\n",
            " [3 4 5]\n",
            " [6 7 8]]\n"
          ]
        }
      ]
    },
    {
      "cell_type": "markdown",
      "source": [
        "#7. Создать матрицу размера 4 на 4 с единицами на диагонали смещеной на один наверх."
      ],
      "metadata": {
        "id": "vn3jLnHzyr0f"
      }
    },
    {
      "cell_type": "code",
      "source": [
        "arr = np.eye(4, k=1)\n",
        "print(arr)"
      ],
      "metadata": {
        "colab": {
          "base_uri": "https://localhost:8080/"
        },
        "id": "7ubX1ftRATmI",
        "outputId": "d9530b4f-76a0-4bc6-e679-90c46c96365e"
      },
      "execution_count": null,
      "outputs": [
        {
          "output_type": "stream",
          "name": "stdout",
          "text": [
            "[[0. 1. 0. 0.]\n",
            " [0. 0. 1. 0.]\n",
            " [0. 0. 0. 1.]\n",
            " [0. 0. 0. 0.]]\n"
          ]
        }
      ]
    },
    {
      "cell_type": "markdown",
      "source": [
        "#8. Создать матрицу с числами в диапазоне от 1 до 4 по диагонали. В других ячейках матрицы должны быть семерки."
      ],
      "metadata": {
        "id": "q6sWO1LDywUQ"
      }
    },
    {
      "cell_type": "code",
      "source": [
        "arr = np.full((4,4), 7)\n",
        "np.fill_diagonal(arr, [1,2,3,4])\n",
        "print(arr)"
      ],
      "metadata": {
        "colab": {
          "base_uri": "https://localhost:8080/"
        },
        "id": "NDJTSSKVHBDh",
        "outputId": "ffbb59f4-eb31-4b8b-cdff-481dfd13274b"
      },
      "execution_count": 11,
      "outputs": [
        {
          "output_type": "stream",
          "name": "stdout",
          "text": [
            "[[1 7 7 7]\n",
            " [7 2 7 7]\n",
            " [7 7 3 7]\n",
            " [7 7 7 4]]\n"
          ]
        }
      ]
    },
    {
      "cell_type": "code",
      "source": [
        "arr = np.diag([1,2,3,4])\n",
        "arr[arr == 0] = 7\n",
        "print(arr)"
      ],
      "metadata": {
        "colab": {
          "base_uri": "https://localhost:8080/"
        },
        "id": "npic1IfR0QWt",
        "outputId": "900c0a57-459b-4296-fbe3-1b7a8647b508"
      },
      "execution_count": 4,
      "outputs": [
        {
          "output_type": "stream",
          "name": "stdout",
          "text": [
            "[[1 7 7 7]\n",
            " [7 2 7 7]\n",
            " [7 7 3 7]\n",
            " [7 7 7 4]]\n"
          ]
        }
      ]
    },
    {
      "cell_type": "markdown",
      "source": [
        "#9. Создать матрицу размера 5 на 5 заполненную чиcлами от 0 до 4 в строках."
      ],
      "metadata": {
        "id": "boQ4wP6yy1GP"
      }
    },
    {
      "cell_type": "code",
      "source": [
        "arr = np.zeros((5, 5))\n",
        "arr += np.arange(5)\n",
        "print(arr)"
      ],
      "metadata": {
        "id": "aukJDNThAe0g",
        "outputId": "73b3d550-fac5-4428-8cd7-ef1d4b8cc354",
        "colab": {
          "base_uri": "https://localhost:8080/"
        }
      },
      "execution_count": 16,
      "outputs": [
        {
          "output_type": "stream",
          "name": "stdout",
          "text": [
            "[[0. 1. 2. 3. 4.]\n",
            " [0. 1. 2. 3. 4.]\n",
            " [0. 1. 2. 3. 4.]\n",
            " [0. 1. 2. 3. 4.]\n",
            " [0. 1. 2. 3. 4.]]\n"
          ]
        }
      ]
    },
    {
      "cell_type": "markdown",
      "source": [
        "#10. Создать матрицу случайных чисел размера 10 на 10 и отнять среднее по строкам из каждого элемента строки"
      ],
      "metadata": {
        "id": "xM2OQ7Q1y9s6"
      }
    },
    {
      "cell_type": "code",
      "source": [
        "arr = np.random.randint(0, 100, (10, 10))\n",
        "print(arr)\n",
        "arr - arr.mean(axis = 1, keepdims=True)"
      ],
      "metadata": {
        "id": "nyC6pxa9JBgq",
        "outputId": "06289f3f-2876-4f55-863d-d92d7cf53ffd",
        "colab": {
          "base_uri": "https://localhost:8080/"
        }
      },
      "execution_count": 42,
      "outputs": [
        {
          "output_type": "stream",
          "name": "stdout",
          "text": [
            "[[52 26 78 23 48 62 12 49 12 24]\n",
            " [52 50 29 59 20 16 54 64 86 68]\n",
            " [70  5 88 65 88 34 14 84 11 54]\n",
            " [61 57 83 38 17 38 71 26 22 34]\n",
            " [82  3 57 92 59  3 84 24 61 69]\n",
            " [75 33 63  0 69 26 49 65 47 23]\n",
            " [62 71 41  3 44  3 58 57 41 54]\n",
            " [77 70 20 15 39 79 37 41  0 85]\n",
            " [ 1 88 86 84  8  9  0 86 22 69]\n",
            " [ 6 82  2 55 77 83 24 35 15 50]]\n"
          ]
        },
        {
          "output_type": "execute_result",
          "data": {
            "text/plain": [
              "array([[ 13.4, -12.6,  39.4, -15.6,   9.4,  23.4, -26.6,  10.4, -26.6,\n",
              "        -14.6],\n",
              "       [  2.2,   0.2, -20.8,   9.2, -29.8, -33.8,   4.2,  14.2,  36.2,\n",
              "         18.2],\n",
              "       [ 18.7, -46.3,  36.7,  13.7,  36.7, -17.3, -37.3,  32.7, -40.3,\n",
              "          2.7],\n",
              "       [ 16.3,  12.3,  38.3,  -6.7, -27.7,  -6.7,  26.3, -18.7, -22.7,\n",
              "        -10.7],\n",
              "       [ 28.6, -50.4,   3.6,  38.6,   5.6, -50.4,  30.6, -29.4,   7.6,\n",
              "         15.6],\n",
              "       [ 30. , -12. ,  18. , -45. ,  24. , -19. ,   4. ,  20. ,   2. ,\n",
              "        -22. ],\n",
              "       [ 18.6,  27.6,  -2.4, -40.4,   0.6, -40.4,  14.6,  13.6,  -2.4,\n",
              "         10.6],\n",
              "       [ 30.7,  23.7, -26.3, -31.3,  -7.3,  32.7,  -9.3,  -5.3, -46.3,\n",
              "         38.7],\n",
              "       [-44.3,  42.7,  40.7,  38.7, -37.3, -36.3, -45.3,  40.7, -23.3,\n",
              "         23.7],\n",
              "       [-36.9,  39.1, -40.9,  12.1,  34.1,  40.1, -18.9,  -7.9, -27.9,\n",
              "          7.1]])"
            ]
          },
          "metadata": {},
          "execution_count": 42
        }
      ]
    },
    {
      "cell_type": "markdown",
      "source": [
        "#11. Создать матрицу случайных чисел размера 10 на 10 и отнять медиану по столбцам из каждого элемента столбца"
      ],
      "metadata": {
        "id": "-8ZVvfFUy_Bg"
      }
    },
    {
      "cell_type": "code",
      "source": [
        "arr = np.random.randint(0, 100, (10, 10))\n",
        "print(arr)\n",
        "print(\"Медиана:\", np.median(arr, axis=0, keepdims=True))\n",
        "arr - np.median(arr, axis=0, keepdims=True)"
      ],
      "metadata": {
        "colab": {
          "base_uri": "https://localhost:8080/"
        },
        "id": "FC3ybXMJIyVY",
        "outputId": "721b3c22-aceb-41a2-bc40-971cce03614a"
      },
      "execution_count": 55,
      "outputs": [
        {
          "output_type": "stream",
          "name": "stdout",
          "text": [
            "[[18 27 64 48 71 42 17 12 21 99]\n",
            " [23 41 99  1 45 64 67 81 26 22]\n",
            " [96 29 34 18 22 28  6  8 19 89]\n",
            " [77 47 26 54 62 23 65 74 96 22]\n",
            " [87 51 89 81 37 91 27 30 13 60]\n",
            " [17 64 29 95 11 64 64 81 48 57]\n",
            " [62  5 70 22 29 10 60 94 77 92]\n",
            " [84 61 68 60 64 26 21 26 25 65]\n",
            " [73 57 63 45 61 92 77 87 58 85]\n",
            " [32 47 92 82 51 33 54 88  9 63]]\n",
            "Медиана: [[67.5 47.  66.  51.  48.  37.5 57.  77.5 25.5 64. ]]\n"
          ]
        },
        {
          "output_type": "execute_result",
          "data": {
            "text/plain": [
              "array([[-49.5, -20. ,  -2. ,  -3. ,  23. ,   4.5, -40. , -65.5,  -4.5,\n",
              "         35. ],\n",
              "       [-44.5,  -6. ,  33. , -50. ,  -3. ,  26.5,  10. ,   3.5,   0.5,\n",
              "        -42. ],\n",
              "       [ 28.5, -18. , -32. , -33. , -26. ,  -9.5, -51. , -69.5,  -6.5,\n",
              "         25. ],\n",
              "       [  9.5,   0. , -40. ,   3. ,  14. , -14.5,   8. ,  -3.5,  70.5,\n",
              "        -42. ],\n",
              "       [ 19.5,   4. ,  23. ,  30. , -11. ,  53.5, -30. , -47.5, -12.5,\n",
              "         -4. ],\n",
              "       [-50.5,  17. , -37. ,  44. , -37. ,  26.5,   7. ,   3.5,  22.5,\n",
              "         -7. ],\n",
              "       [ -5.5, -42. ,   4. , -29. , -19. , -27.5,   3. ,  16.5,  51.5,\n",
              "         28. ],\n",
              "       [ 16.5,  14. ,   2. ,   9. ,  16. , -11.5, -36. , -51.5,  -0.5,\n",
              "          1. ],\n",
              "       [  5.5,  10. ,  -3. ,  -6. ,  13. ,  54.5,  20. ,   9.5,  32.5,\n",
              "         21. ],\n",
              "       [-35.5,   0. ,  26. ,  31. ,   3. ,  -4.5,  -3. ,  10.5, -16.5,\n",
              "         -1. ]])"
            ]
          },
          "metadata": {},
          "execution_count": 55
        }
      ]
    },
    {
      "cell_type": "markdown",
      "source": [
        "#12. Создать матрицу случайных чисел 5x5. Добавить к ней столбцы максимумов и минимумов по строкам. Получится матрица 5x7."
      ],
      "metadata": {
        "id": "biFnvw9wzDoq"
      }
    },
    {
      "cell_type": "markdown",
      "source": [
        "#13. Вектор чисел от 1 до 51 преобразовать в вектор нечетных чисел и в вектор четных чисел, поменять их размерности, чтобы получились две матрица. Найти произведение этих матриц. Найти обратную матрицу этого произведения."
      ],
      "metadata": {
        "id": "LfawSL4RzHPz"
      }
    },
    {
      "cell_type": "markdown",
      "source": [
        "#14. Создать 8x8 матрицу и заполнить её в шахматном порядке нулями и единицами."
      ],
      "metadata": {
        "id": "E8_KPJTtzMDJ"
      }
    }
  ]
}