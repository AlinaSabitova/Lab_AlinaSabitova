{
  "nbformat": 4,
  "nbformat_minor": 0,
  "metadata": {
    "colab": {
      "provenance": [],
      "authorship_tag": "ABX9TyO6MAiWkdyCA7CFk3epTMMx",
      "include_colab_link": true
    },
    "kernelspec": {
      "name": "python3",
      "display_name": "Python 3"
    },
    "language_info": {
      "name": "python"
    }
  },
  "cells": [
    {
      "cell_type": "markdown",
      "metadata": {
        "id": "view-in-github",
        "colab_type": "text"
      },
      "source": [
        "<a href=\"https://colab.research.google.com/github/AlinaSabitova/Lab_AlinaSabitova/blob/main/%D0%9F%D0%A0_2.ipynb\" target=\"_parent\"><img src=\"https://colab.research.google.com/assets/colab-badge.svg\" alt=\"Open In Colab\"/></a>"
      ]
    },
    {
      "cell_type": "markdown",
      "source": [
        "1. В рамках приложения разработать класс В – наследник класса А (задание\n",
        "2) с полем d и свойством с2. Свойство с2 – результат вычисления\n",
        "выражения над полями a, b, d. В теле свойства использовать управляющий\n",
        "оператор (см. вариант в таблице 2.2). У класса А создать конструктор,\n",
        "инициализирующий его поля. Для класса В определить 2 конструктора:\n",
        "один – наследуется от конструктора класса А, второй – собственный. В\n",
        "теле программы создать объекты классов А и В, продемонстрировав\n",
        "работу всех конструкторов. Вывести значения свойства на экран. \n",
        "Вариант 15: if."
      ],
      "metadata": {
        "id": "54Gmb6RT5BuB"
      }
    },
    {
      "cell_type": "code",
      "execution_count": null,
      "metadata": {
        "id": "-aOiLTZG4w3M"
      },
      "outputs": [],
      "source": []
    },
    {
      "cell_type": "markdown",
      "source": [
        "# Упражнения для всех вариантов "
      ],
      "metadata": {
        "id": "pmsNa4Wt91li"
      }
    },
    {
      "cell_type": "markdown",
      "source": [
        "1. Создайте класс «зарплата», который вычисляет сумму зарплаты в зависимости\n",
        "от тарифной ставки и числа отработанных дней. Расширьте метод начислением\n",
        "процентов в зависимости от объема продаж. "
      ],
      "metadata": {
        "id": "oihnJ1td-BQz"
      }
    },
    {
      "cell_type": "code",
      "source": [
        "class Salary():\n",
        "  salary = int(input(\"Введите заработную плату работника: \"))\n",
        "  work_days = int(input(\"Введите количество рабочих дней в месяце: \"))\n",
        "  fact_days = int(input(\"Введите количество фактически отработанных дней: \"))\n",
        "  volume_of_sales = int(input(\"Введите количество заключенных работником сделок: \"))\n",
        "  tariff_rate = 0\n",
        "\n",
        "  if volume_of_sales > 100:\n",
        "    tariff_rate = 0.2\n",
        "  else:\n",
        "    tariff_rate = 0.1\n",
        "\n",
        "  def result(self):\n",
        "    self.res = self.salary/self.work_days * self.fact_days \n",
        "    self.res += self.res * self.tariff_rate\n",
        "    return self.res\n",
        "  \n",
        "employee1 = Salary()\n",
        "employee1.result()"
      ],
      "metadata": {
        "id": "LveJEAwI-APB",
        "colab": {
          "base_uri": "https://localhost:8080/"
        },
        "outputId": "116ded66-4dad-4bc1-f706-2cca46131592"
      },
      "execution_count": null,
      "outputs": [
        {
          "name": "stdout",
          "output_type": "stream",
          "text": [
            "Введите заработную плату работника: 50000\n",
            "Введите количество рабочих дней в месяце: 25\n",
            "Введите количество фактически отработанных дней: 22\n",
            "Введите количество заключенных работником сделок: 110\n"
          ]
        },
        {
          "output_type": "execute_result",
          "data": {
            "text/plain": [
              "52800.0"
            ]
          },
          "metadata": {},
          "execution_count": 13
        }
      ]
    },
    {
      "cell_type": "markdown",
      "source": [
        "2. Переопределите метод начисления зарплаты: в случае, если объем продаж в\n",
        "месяц превысил 1 000 000, проценты добавляются к зарплате, в противном\n",
        "случае – вычитаются. "
      ],
      "metadata": {
        "id": "jUy9U5_R-F8h"
      }
    },
    {
      "cell_type": "code",
      "source": [
        "class Salary():\n",
        "  salary = int(input(\"Введите заработную плату работника: \"))\n",
        "  work_days = int(input(\"Введите количество рабочих дней в месяце: \"))\n",
        "  fact_days = int(input(\"Введите количество фактически отработанных дней: \"))\n",
        "  volume_of_sales = int(input(\"Введите количество заключенных работником сделок: \"))\n",
        "  tariff_rate = float(input(\"Введите тарифную ставку: \"))\n",
        "\n",
        "  def result(self):\n",
        "    self.res = self.salary/self.work_days * self.fact_days\n",
        "    if self.volume_of_sales > 1000000:\n",
        "      self.res += self.res * self.tariff_rate\n",
        "    else:\n",
        "      self.res -= self.res * self.tariff_rate\n",
        "    return self.res\n",
        "\n",
        "employee1 = Salary()\n",
        "employee1.result()"
      ],
      "metadata": {
        "colab": {
          "base_uri": "https://localhost:8080/"
        },
        "id": "UqBeLMHGMiCo",
        "outputId": "6911919a-3dea-4081-b15c-4c2684bfb06b"
      },
      "execution_count": null,
      "outputs": [
        {
          "name": "stdout",
          "output_type": "stream",
          "text": [
            "Введите заработную плату работника: 50000\n",
            "Введите количество рабочих дней в месяце: 25\n",
            "Введите количество фактически отработанных дней: 22\n",
            "Введите количество заключенных работником сделок: 800000\n",
            "Введите тарифную ставку: 0.1\n"
          ]
        },
        {
          "output_type": "execute_result",
          "data": {
            "text/plain": [
              "39600.0"
            ]
          },
          "metadata": {},
          "execution_count": 8
        }
      ]
    },
    {
      "cell_type": "markdown",
      "source": [
        "3. Создайте для класса «сотрудники» абстрактный метод начисления зарплаты.\n",
        "Создайте два класса-наследника: сотрудник отдела продаж и сотрудник склада.\n",
        "Для первого класса начисление происходит аналогично заданию 1, а для второго\n",
        "–в зависимости от количества отработанных дней. \n"
      ],
      "metadata": {
        "id": "uGB9XTaA-HCF"
      }
    },
    {
      "cell_type": "code",
      "source": [
        "class Employees:\n",
        "  salary = int(input(\"Введите заработную плату работника: \"))\n",
        "  work_days = int(input(\"Введите количество рабочих дней в месяце: \"))\n",
        "  fact_days = int(input(\"Введите количество фактически отработанных дней: \"))\n",
        "  volume_of_sales = int(input(\"Введите количество заключенных работником сделок: \"))\n",
        "  tariff_rate = 0\n",
        "  if volume_of_sales > 100:\n",
        "    tariff_rate = 0.2\n",
        "  else:\n",
        "    tariff_rate = 0.1\n",
        "  def employee_salary(self):\n",
        "      self.res = self.salary / self.work_days * self.fact_days \n",
        "      return self.res\n",
        "  \n",
        "class Sales_department_employee(Employees):\n",
        "  def result1(self): \n",
        "    self.result1 = self.res + self.res * self.tariff_rate\n",
        "    return self.result1\n",
        "\n",
        "class Warehouse_worker(Employees):\n",
        "  def result2(self):\n",
        "    self.result2 = self.res\n",
        "    return self.result2\n",
        "\n",
        "employee1 = Sales_department_employee()\n",
        "employee2 = Warehouse_worker()\n",
        "employee1.employee_salary()\n",
        "employee2.employee_salary()\n",
        "print(employee1.result1())\n",
        "print(employee2.result2())"
      ],
      "metadata": {
        "colab": {
          "base_uri": "https://localhost:8080/"
        },
        "id": "7DpKbwSo8Gmw",
        "outputId": "9c3117e4-ee9e-4e8d-c65a-c7e12620c1e9"
      },
      "execution_count": null,
      "outputs": [
        {
          "output_type": "stream",
          "name": "stdout",
          "text": [
            "Введите заработную плату работника: 50000\n",
            "Введите количество рабочих дней в месяце: 25\n",
            "Введите количество фактически отработанных дней: 22\n",
            "Введите количество заключенных работником сделок: 105\n",
            "52800.0\n",
            "44000.0\n"
          ]
        }
      ]
    },
    {
      "cell_type": "markdown",
      "source": [
        "4. Решите предыдущую задачу, используя декоратор @abstractmethod."
      ],
      "metadata": {
        "id": "hLGghF8t6dVl"
      }
    },
    {
      "cell_type": "markdown",
      "source": [
        "# Не уверена, что можно в родительском классе написать super, а в классе-наследнике проинициализировать переменные"
      ],
      "metadata": {
        "id": "2c02mMdnjT4J"
      }
    },
    {
      "cell_type": "code",
      "source": [
        "from abc import ABC, abstractmethod\n",
        "class Employees(ABC):\n",
        "  def __init__(self):\n",
        "    super().__init__()\n",
        "  \n",
        "  @abstractmethod\n",
        "  def result1(self):\n",
        "    pass\n",
        "\n",
        "  @abstractmethod\n",
        "  def result2(self): \n",
        "    pass"
      ],
      "metadata": {
        "id": "ViTkSYGVH6HH"
      },
      "execution_count": null,
      "outputs": []
    },
    {
      "cell_type": "code",
      "source": [
        "class Different_Employees(Employees):\n",
        "  def __init__(self, salary, work_days, fact_days, volume_of_sales):\n",
        "    self.salary = salary\n",
        "    self.work_days = work_days\n",
        "    self.fact_days = fact_days\n",
        "    self.volume_of_sales = volume_of_sales\n",
        "    if volume_of_sales > 100:\n",
        "      self.tariff_rate = 0.2\n",
        "    else:\n",
        "      self.tariff_rate = 0.1 \n",
        "\n",
        "  def result1(self):\n",
        "    self.res = self.salary/self.work_days * self.fact_days \n",
        "    self.res += self.res * self.tariff_rate\n",
        "    return self.res\n",
        "\n",
        "  def result2(self):\n",
        "    self.res = self.salary / self.work_days * self.fact_days \n",
        "    return self.res\n",
        "\n",
        "employee1 = Different_Employees(50000, 25, 22, 110)\n",
        "print(employee1.result1()) \n",
        "employee2 = Different_Employees(50000, 25, 22, 110)\n",
        "print(employee2.result2())"
      ],
      "metadata": {
        "colab": {
          "base_uri": "https://localhost:8080/"
        },
        "id": "QOeW-_0oarAK",
        "outputId": "4115c015-62e8-474c-f5c9-858da7576a62"
      },
      "execution_count": null,
      "outputs": [
        {
          "output_type": "stream",
          "name": "stdout",
          "text": [
            "52800.0\n",
            "44000.0\n"
          ]
        }
      ]
    },
    {
      "cell_type": "markdown",
      "source": [
        "5. Имеется класс «мебель». Создайте класс «корпусная мебель», «мягкая мебель»\n",
        "и «кухонная мебель». Определите атрибуты и методы родительского класса и\n",
        "классов-наследников. \n"
      ],
      "metadata": {
        "id": "cQBg03dD-Wax"
      }
    },
    {
      "cell_type": "code",
      "source": [
        "class Furniture:\n",
        " def presence(self):\n",
        "   print(\"Мебель есть в наличии:\")\n",
        "\n",
        "class Cabinet_furniture(Furniture):\n",
        "  def amount_of_furniture(self):\n",
        "    print(\"6 шкафов, 5 полок, 10 комодов\")\n",
        "\n",
        "class Soft_furniture(Furniture):\n",
        "  def types_of_furniture(self):\n",
        "    print(\"диваны, кресла, пуфики\")\n",
        "\n",
        "class Kitchen_furniture(Furniture):\n",
        "  def kitchen_colors(self):\n",
        "    print(\"белые, черные, серые, красные, желтые кухонные гарнитуры\")\n",
        "\n",
        "a = Cabinet_furniture()\n",
        "a.presence()\n",
        "a.amount_of_furniture()\n",
        "b = Soft_furniture()\n",
        "b.types_of_furniture()\n",
        "c = Kitchen_furniture()\n",
        "c.kitchen_colors()"
      ],
      "metadata": {
        "id": "vX36H6jCWmUu",
        "colab": {
          "base_uri": "https://localhost:8080/"
        },
        "outputId": "2a2fed7d-639d-4339-a820-b2e720c3d190"
      },
      "execution_count": null,
      "outputs": [
        {
          "output_type": "stream",
          "name": "stdout",
          "text": [
            "Мебель есть в наличии:\n",
            "6 шкафов, 5 полок, 10 комодов\n",
            "диваны, кресла, пуфики\n",
            "белые, черные, серые, красные, желтые кухонные гарнитуры\n"
          ]
        }
      ]
    },
    {
      "cell_type": "markdown",
      "source": [
        "6. Создайте приложение, в котором необходимо разработать базовый класс man.\n",
        "Объекты этого класса содержат справочную информацию о конкретном\n",
        "человеке (фамилию, инициалы, телефон, адрес, возраст). Создайте два\n",
        "производных от него класса: manager и secretary. Объекты\n",
        "класса manager дополнительно включают номер отдела и количество\n",
        "подчиненных. Объекты класса secretary дополнительно включают фамилию\n",
        "начальника. Данные о менеджерах и секретарях введите с клавиатуры и выведите\n",
        "на экран дисплея. "
      ],
      "metadata": {
        "id": "yCYKkcow-ZGc"
      }
    },
    {
      "cell_type": "code",
      "source": [
        "class Man:\n",
        "  def __init__(self, surname, initials, phone_number, address, age):\n",
        "    self.surname = surname\n",
        "    self.initials = initials\n",
        "    self.phone_number = phone_number\n",
        "    self.address = address\n",
        "    self.age = age\n",
        "\n",
        "class Manager(Man):\n",
        "  def __init__(self, surname, initials, phone_number, address, age, department_number = input(\"Введите номер отдела: \"), number_of_subordinates = input(\"Введите количество подчиненных: \")):\n",
        "    super().__init__(surname, initials, phone_number, address, age)\n",
        "    self.department_number = department_number \n",
        "    self.number_of_subordinates = number_of_subordinates\n",
        "\n",
        "class Secretary(Man):\n",
        "  def __init__(self, surname, initials, phone_number, address, age, surname_of_the_chief = input(\"Введите фамилию начальника: \")):\n",
        "    super().__init__(surname, initials, phone_number, address, age)\n",
        "    self.surname__of_the_chief = surname_of_the_chief\n",
        "\n",
        "surname = input(\"Введите фамилию: \")\n",
        "initials = input(\"Введите инициалы: \")\n",
        "phone_number = input(\"Введите номер телефона: \")\n",
        "address = input(\"Введите адрес: \")\n",
        "age = input(\"Введите возраст: \")\n",
        "a = Manager(surname, initials, phone_number, address, age)\n",
        "print(a.__dict__)\n",
        "b = Secretary(surname, initials, phone_number, address, age)\n",
        "print(b.__dict__)"
      ],
      "metadata": {
        "id": "aIC9PeXWpw0F",
        "outputId": "eee253cd-206b-47f1-bdd2-1319e8b47a14",
        "colab": {
          "base_uri": "https://localhost:8080/"
        }
      },
      "execution_count": null,
      "outputs": [
        {
          "output_type": "stream",
          "name": "stdout",
          "text": [
            "Введите номер отдела: 5\n",
            "Введите количество подчиненных: 30\n",
            "Введите фамилию начальника: Петров\n",
            "Введите фамилию: Иванов\n",
            "Введите инициалы: П.Р.\n",
            "Введите номер телефона: 892568721139\n",
            "Введите адрес: Панфилова 5\n",
            "Введите возраст: 38\n",
            "{'surname': 'Иванов', 'initials': 'П.Р.', 'phone_number': '892568721139', 'address': 'Панфилова 5', 'age': '38', 'department_number': '5', 'number_of_subordinates': '30'}\n",
            "{'surname': 'Иванов', 'initials': 'П.Р.', 'phone_number': '892568721139', 'address': 'Панфилова 5', 'age': '38', 'surname__of_the_chief': 'Петров'}\n"
          ]
        }
      ]
    },
    {
      "cell_type": "markdown",
      "source": [
        "7. Разработайте приложение, в котором опишите базовый класс building. Он\n",
        "хранит этаж, число комнат в квартире, общую площадь квартиры. Три\n",
        "производных класса house-k, house-p, house-m наследуют класс building. Каждый\n",
        "из них хранит надбавку к цене квадратного метра площади, зависящую от\n",
        "материала дома. Производный класс office наследует производные классы housek, house-p, house-m и хранит наличие лоджии и надбавку, связанную с районом\n",
        "города. Вывести на экран стоимость конкретной квартиры. \n"
      ],
      "metadata": {
        "id": "A6m1ggOJ-cR2"
      }
    },
    {
      "cell_type": "code",
      "source": [
        "class Building:\n",
        "  def __init__(self, floor, number_of_rooms, total_area, price):\n",
        "    self.floor = floor\n",
        "    self.number_of_room\n",
        "    self.total_area = area\n",
        "    self.price = price\n",
        "\n",
        "class House_k:\n",
        "  def __init__(self, floor, number_of_rooms, total_area, price, allowance):\n",
        "    super().__init__(self, floor, number_of_rooms, total_area, price)\n",
        "    self.allowance = allowance\n",
        "\n",
        "  def new_price(self):\n",
        "    self.cost = self.price * self.allowance\n",
        "    return self.cost\n",
        "\n",
        "class House_p:\n",
        "  def __init__(self, floor, number_of_rooms, total_area, price, allowance):\n",
        "    super().__init__(self, floor, number_of_rooms, total_area, price)\n",
        "    self.allowance = allowance\n",
        "  def new_price(self):\n",
        "    self.cost = self.price * self.allowance\n",
        "    return self.cost\n",
        "\n",
        "class House_m:\n",
        "  def __init__(self, floor, number_of_rooms, total_area, price, allowance):\n",
        "    super().__init__(self, floor, number_of_rooms, total_area, price)\n",
        "    self.allowance = allowance\n",
        "  def new_price(self):\n",
        "    self.cost = self.price * self.allowance\n",
        "    return self.cost\n",
        "\n",
        "class Office(House_k, House_p, House_m):\n",
        "  def __init__(self, floor, number_of_rooms, total_area, price, allowance, district, presence_of_loggia = str):\n",
        "    super().__init__(self, floor, number_of_rooms, total_area, price, allowance)\n",
        "    self.presence_of_loggia = presence_of_loggia\n",
        "    self.district = district\n",
        "  def another_price(self):\n",
        "    if self.district == \"богатый\":\n",
        "      self.cost += self.cost * 0,3\n",
        "    elif self.district == \"хороший\":\n",
        "      self.cost += self.cost * 0,2\n",
        "    else:\n",
        "      self.cost += self.cost * 0,1\n",
        "    return self.cost\n",
        "\n",
        "a = Office(9, 3, 90, 20000, 0.05, богатый, 1)\n",
        "a.another_price()"
      ],
      "metadata": {
        "id": "Xz9J7lj4Y_bH",
        "outputId": "30aceb44-31f3-4164-ef3b-bef0e2bc2102",
        "colab": {
          "base_uri": "https://localhost:8080/",
          "height": 226
        }
      },
      "execution_count": 7,
      "outputs": [
        {
          "output_type": "error",
          "ename": "NameError",
          "evalue": "ignored",
          "traceback": [
            "\u001b[0;31m---------------------------------------------------------------------------\u001b[0m",
            "\u001b[0;31mNameError\u001b[0m                                 Traceback (most recent call last)",
            "\u001b[0;32m<ipython-input-7-744cf21ac8d7>\u001b[0m in \u001b[0;36m<cell line: 47>\u001b[0;34m()\u001b[0m\n\u001b[1;32m     45\u001b[0m     \u001b[0;32mreturn\u001b[0m \u001b[0mself\u001b[0m\u001b[0;34m.\u001b[0m\u001b[0mcost\u001b[0m\u001b[0;34m\u001b[0m\u001b[0;34m\u001b[0m\u001b[0m\n\u001b[1;32m     46\u001b[0m \u001b[0;34m\u001b[0m\u001b[0m\n\u001b[0;32m---> 47\u001b[0;31m \u001b[0ma\u001b[0m \u001b[0;34m=\u001b[0m \u001b[0mOffice\u001b[0m\u001b[0;34m(\u001b[0m\u001b[0;36m9\u001b[0m\u001b[0;34m,\u001b[0m \u001b[0;36m3\u001b[0m\u001b[0;34m,\u001b[0m \u001b[0;36m90\u001b[0m\u001b[0;34m,\u001b[0m \u001b[0;36m20000\u001b[0m\u001b[0;34m,\u001b[0m \u001b[0;36m0.05\u001b[0m\u001b[0;34m,\u001b[0m \u001b[0mбогатый\u001b[0m\u001b[0;34m,\u001b[0m \u001b[0;36m1\u001b[0m\u001b[0;34m)\u001b[0m\u001b[0;34m\u001b[0m\u001b[0;34m\u001b[0m\u001b[0m\n\u001b[0m\u001b[1;32m     48\u001b[0m \u001b[0ma\u001b[0m\u001b[0;34m.\u001b[0m\u001b[0manother_price\u001b[0m\u001b[0;34m(\u001b[0m\u001b[0;34m)\u001b[0m\u001b[0;34m\u001b[0m\u001b[0;34m\u001b[0m\u001b[0m\n",
            "\u001b[0;31mNameError\u001b[0m: name 'богатый' is not defined"
          ]
        }
      ]
    },
    {
      "cell_type": "markdown",
      "source": [
        "8. В программе рассчитываются площади треугольника и прямоугольника. С\n",
        "этой целью создается абстрактный класс area, в котором сохраняются две\n",
        "размерности фигуры. В производных классах задайте вид конкретных фигур и\n",
        "возвратите их площади. "
      ],
      "metadata": {
        "id": "v6xDa2Et-flj"
      }
    }
  ]
}