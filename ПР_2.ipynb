{
  "nbformat": 4,
  "nbformat_minor": 0,
  "metadata": {
    "colab": {
      "provenance": [],
      "authorship_tag": "ABX9TyN8OL3HE6XXfOLaqIE1LXHr",
      "include_colab_link": true
    },
    "kernelspec": {
      "name": "python3",
      "display_name": "Python 3"
    },
    "language_info": {
      "name": "python"
    }
  },
  "cells": [
    {
      "cell_type": "markdown",
      "metadata": {
        "id": "view-in-github",
        "colab_type": "text"
      },
      "source": [
        "<a href=\"https://colab.research.google.com/github/AlinaSabitova/Lab_AlinaSabitova/blob/main/%D0%9F%D0%A0_2.ipynb\" target=\"_parent\"><img src=\"https://colab.research.google.com/assets/colab-badge.svg\" alt=\"Open In Colab\"/></a>"
      ]
    },
    {
      "cell_type": "markdown",
      "source": [
        "1. В рамках приложения разработать класс В – наследник класса А (задание\n",
        "2) с полем d и свойством с2. Свойство с2 – результат вычисления\n",
        "выражения над полями a, b, d. В теле свойства использовать управляющий\n",
        "оператор (см. вариант в таблице 2.2). У класса А создать конструктор,\n",
        "инициализирующий его поля. Для класса В определить 2 конструктора:\n",
        "один – наследуется от конструктора класса А, второй – собственный. В\n",
        "теле программы создать объекты классов А и В, продемонстрировав\n",
        "работу всех конструкторов. Вывести значения свойства на экран. \n",
        "Вариант 15: if."
      ],
      "metadata": {
        "id": "54Gmb6RT5BuB"
      }
    },
    {
      "cell_type": "code",
      "execution_count": null,
      "metadata": {
        "id": "-aOiLTZG4w3M"
      },
      "outputs": [],
      "source": []
    },
    {
      "cell_type": "markdown",
      "source": [
        "# Упражнения для всех вариантов "
      ],
      "metadata": {
        "id": "pmsNa4Wt91li"
      }
    },
    {
      "cell_type": "markdown",
      "source": [
        "1. Создайте класс «зарплата», который вычисляет сумму зарплаты в зависимости\n",
        "от тарифной ставки и числа отработанных дней. Расширьте метод начислением\n",
        "процентов в зависимости от объема продаж. "
      ],
      "metadata": {
        "id": "oihnJ1td-BQz"
      }
    },
    {
      "cell_type": "code",
      "source": [
        "class Salary():\n",
        "  salary = int(input(\"Введите заработную плату работника: \"))\n",
        "  work_days = int(input(\"Введите количество рабочих дней в месяце: \"))\n",
        "  fact_days = int(input(\"Введите количество фактически отработанных дней: \"))\n",
        "  volume_of_sales = int(input(\"Введите количество заключенных работником сделок: \"))\n",
        "  tariff_rate = 0\n",
        "\n",
        "  if volume_of_sales > 100:\n",
        "    tariff_rate = 0.2\n",
        "  else:\n",
        "    tariff_rate = 0.1\n",
        "\n",
        "  def result(self):\n",
        "    self.res = self.salary/self.work_days * self.fact_days \n",
        "    self.res += self.res * self.tariff_rate\n",
        "    return self.res\n",
        "  \n",
        "employee1 = Salary()\n",
        "employee1.result()"
      ],
      "metadata": {
        "id": "LveJEAwI-APB",
        "colab": {
          "base_uri": "https://localhost:8080/"
        },
        "outputId": "116ded66-4dad-4bc1-f706-2cca46131592"
      },
      "execution_count": 13,
      "outputs": [
        {
          "name": "stdout",
          "output_type": "stream",
          "text": [
            "Введите заработную плату работника: 50000\n",
            "Введите количество рабочих дней в месяце: 25\n",
            "Введите количество фактически отработанных дней: 22\n",
            "Введите количество заключенных работником сделок: 110\n"
          ]
        },
        {
          "output_type": "execute_result",
          "data": {
            "text/plain": [
              "52800.0"
            ]
          },
          "metadata": {},
          "execution_count": 13
        }
      ]
    },
    {
      "cell_type": "markdown",
      "source": [
        "2. Переопределите метод начисления зарплаты: в случае, если объем продаж в\n",
        "месяц превысил 1 000 000, проценты добавляются к зарплате, в противном\n",
        "случае – вычитаются. "
      ],
      "metadata": {
        "id": "jUy9U5_R-F8h"
      }
    },
    {
      "cell_type": "code",
      "source": [
        "class Salary():\n",
        "  salary = int(input(\"Введите заработную плату работника: \"))\n",
        "  work_days = int(input(\"Введите количество рабочих дней в месяце: \"))\n",
        "  fact_days = int(input(\"Введите количество фактически отработанных дней: \"))\n",
        "  volume_of_sales = int(input(\"Введите количество заключенных работником сделок: \"))\n",
        "  tariff_rate = float(input(\"Введите тарифную ставку: \"))\n",
        "\n",
        "  def result(self):\n",
        "    self.res = self.salary/self.work_days * self.fact_days\n",
        "    if self.volume_of_sales > 1000000:\n",
        "      self.res += self.res * self.tariff_rate\n",
        "    else:\n",
        "      self.res -= self.res * self.tariff_rate\n",
        "    return self.res\n",
        "\n",
        "employee1 = Salary()\n",
        "employee1.result()"
      ],
      "metadata": {
        "colab": {
          "base_uri": "https://localhost:8080/"
        },
        "id": "UqBeLMHGMiCo",
        "outputId": "6911919a-3dea-4081-b15c-4c2684bfb06b"
      },
      "execution_count": null,
      "outputs": [
        {
          "name": "stdout",
          "output_type": "stream",
          "text": [
            "Введите заработную плату работника: 50000\n",
            "Введите количество рабочих дней в месяце: 25\n",
            "Введите количество фактически отработанных дней: 22\n",
            "Введите количество заключенных работником сделок: 800000\n",
            "Введите тарифную ставку: 0.1\n"
          ]
        },
        {
          "output_type": "execute_result",
          "data": {
            "text/plain": [
              "39600.0"
            ]
          },
          "metadata": {},
          "execution_count": 8
        }
      ]
    },
    {
      "cell_type": "markdown",
      "source": [
        "3. Создайте для класса «сотрудники» абстрактный метод начисления зарплаты.\n",
        "Создайте два класса-наследника: сотрудник отдела продаж и сотрудник склада.\n",
        "Для первого класса начисление происходит аналогично заданию 1, а для второго\n",
        "–в зависимости от количества отработанных дней. \n"
      ],
      "metadata": {
        "id": "uGB9XTaA-HCF"
      }
    },
    {
      "cell_type": "code",
      "source": [
        "class Employees:\n",
        "  salary = int(input(\"Введите заработную плату работника: \"))\n",
        "  work_days = int(input(\"Введите количество рабочих дней в месяце: \"))\n",
        "  fact_days = int(input(\"Введите количество фактически отработанных дней: \"))\n",
        "  volume_of_sales = int(input(\"Введите количество заключенных работником сделок: \"))\n",
        "  tariff_rate = 0\n",
        "  if volume_of_sales > 100:\n",
        "    tariff_rate = 0.2\n",
        "  else:\n",
        "    tariff_rate = 0.1\n",
        "  def employee_salary(self):\n",
        "      self.res = self.salary / self.work_days * self.fact_days \n",
        "      return self.res\n",
        "  \n",
        "class Sales_department_employee(Employees):\n",
        "  def result1(self): \n",
        "    self.result1 = self.res + self.res * self.tariff_rate\n",
        "    return self.result1\n",
        "\n",
        "class Warehouse_worker(Employees):\n",
        "  def result2(self):\n",
        "    self.result2 = self.res\n",
        "    return self.result2\n",
        "\n",
        "employee1 = Sales_department_employee()\n",
        "employee2 = Warehouse_worker()\n",
        "employee1.employee_salary()\n",
        "employee2.employee_salary()\n",
        "print(employee1.result1())\n",
        "print(employee2.result2())"
      ],
      "metadata": {
        "id": "7DpKbwSo8Gmw",
        "outputId": "9c3117e4-ee9e-4e8d-c65a-c7e12620c1e9",
        "colab": {
          "base_uri": "https://localhost:8080/"
        }
      },
      "execution_count": 12,
      "outputs": [
        {
          "output_type": "stream",
          "name": "stdout",
          "text": [
            "Введите заработную плату работника: 50000\n",
            "Введите количество рабочих дней в месяце: 25\n",
            "Введите количество фактически отработанных дней: 22\n",
            "Введите количество заключенных работником сделок: 105\n",
            "52800.0\n",
            "44000.0\n"
          ]
        }
      ]
    },
    {
      "cell_type": "markdown",
      "source": [
        "4. Решите предыдущую задачу, используя декоратор Sabstractmethod."
      ],
      "metadata": {
        "id": "hLGghF8t6dVl"
      }
    },
    {
      "cell_type": "markdown",
      "source": [],
      "metadata": {
        "id": "u5RooFt4AiSe"
      }
    },
    {
      "cell_type": "markdown",
      "source": [
        "5. Имеется класс «мебель». Создайте класс «корпусная мебель», «мягкая мебель»\n",
        "и «кухонная мебель». Определите атрибуты и методы родительского класса и\n",
        "классов-наследников. \n"
      ],
      "metadata": {
        "id": "cQBg03dD-Wax"
      }
    },
    {
      "cell_type": "markdown",
      "source": [
        "6. Создайте приложение, в котором необходимо разработать базовый класс man.\n",
        "Объекты этого класса содержат справочную информацию о конкретном\n",
        "человеке (фамилию, инициалы, телефон, адрес, возраст). Создайте два\n",
        "производных от него класса: manager и secretary. Объекты класса manager\n",
        "дополнительно включают номер отдела и количество подчиненных. Объекты\n",
        "класса manager дополнительно включают номер отдела и количество\n",
        "подчиненных. Объекты класса secretary дополнительно включают фамилию\n",
        "начальника. Данные о менеджерах и секретарях введите с клавиатуры и выведите\n",
        "на экран дисплея. "
      ],
      "metadata": {
        "id": "yCYKkcow-ZGc"
      }
    },
    {
      "cell_type": "markdown",
      "source": [
        "7. Разработайте приложение, в котором опишите базовый класс building. Он\n",
        "хранит этаж, число комнат в квартире, общую площадь квартиры. Три\n",
        "производных класса house-k, house-p, house-m наследуют класс building. Каждый\n",
        "из них хранит надбавку к цене квадратного метра площади, зависящую от\n",
        "материала дома. Производный класс office наследует производные классы housek, house-p, house-m и хранит наличие лоджии и надбавку, связанную с районом\n",
        "города. Вывести на экран стоимость конкретной квартиры. \n"
      ],
      "metadata": {
        "id": "A6m1ggOJ-cR2"
      }
    },
    {
      "cell_type": "markdown",
      "source": [
        "8. В программе рассчитываются площади треугольника и прямоугольника. С\n",
        "этой целью создается абстрактный класс area, в котором сохраняются две\n",
        "размерности фигуры. В производных классах задайте вид конкретных фигур и\n",
        "возвратите их площади. "
      ],
      "metadata": {
        "id": "v6xDa2Et-flj"
      }
    }
  ]
}