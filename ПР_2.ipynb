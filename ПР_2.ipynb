{
  "nbformat": 4,
  "nbformat_minor": 0,
  "metadata": {
    "colab": {
      "provenance": [],
      "authorship_tag": "ABX9TyPyEleEO12QfGDqAFFggmpn",
      "include_colab_link": true
    },
    "kernelspec": {
      "name": "python3",
      "display_name": "Python 3"
    },
    "language_info": {
      "name": "python"
    }
  },
  "cells": [
    {
      "cell_type": "markdown",
      "metadata": {
        "id": "view-in-github",
        "colab_type": "text"
      },
      "source": [
        "<a href=\"https://colab.research.google.com/github/AlinaSabitova/Lab_AlinaSabitova/blob/main/%D0%9F%D0%A0_2.ipynb\" target=\"_parent\"><img src=\"https://colab.research.google.com/assets/colab-badge.svg\" alt=\"Open In Colab\"/></a>"
      ]
    },
    {
      "cell_type": "markdown",
      "source": [
        "1. В рамках приложения разработать класс В – наследник класса А (задание\n",
        "2) с полем d и свойством с2. Свойство с2 – результат вычисления\n",
        "выражения над полями a, b, d. В теле свойства использовать управляющий\n",
        "оператор (см. вариант в таблице 2.2). У класса А создать конструктор,\n",
        "инициализирующий его поля. Для класса В определить 2 конструктора:\n",
        "один – наследуется от конструктора класса А, второй – собственный. В\n",
        "теле программы создать объекты классов А и В, продемонстрировав\n",
        "работу всех конструкторов. Вывести значения свойства на экран. \n",
        "Вариант 15: if."
      ],
      "metadata": {
        "id": "54Gmb6RT5BuB"
      }
    },
    {
      "cell_type": "code",
      "execution_count": null,
      "metadata": {
        "id": "-aOiLTZG4w3M"
      },
      "outputs": [],
      "source": []
    },
    {
      "cell_type": "markdown",
      "source": [
        "# Упражнения для всех вариантов "
      ],
      "metadata": {
        "id": "pmsNa4Wt91li"
      }
    },
    {
      "cell_type": "markdown",
      "source": [
        "1. Создайте класс «зарплата», который вычисляет сумму зарплаты в зависимости\n",
        "от тарифной ставки и числа отработанных дней. Расширьте метод начислением\n",
        "процентов в зависимости от объема продаж. "
      ],
      "metadata": {
        "id": "oihnJ1td-BQz"
      }
    },
    {
      "cell_type": "code",
      "source": [
        "class Salary():\n",
        "  salary = int(input(\"Введите заработную плату работника: \"))\n",
        "  work_days = int(input(\"Введите количество рабочих дней в месяце: \"))\n",
        "  fact_days = int(input(\"Введите количество фактически отработанных дней: \"))\n",
        "  volume_of_sales = int(input(\"Введите количество заключенных работником сделок: \"))\n",
        "  tariff_rate = 0\n",
        "\n",
        "  if volume_of_sales > 100:\n",
        "    tariff_rate = 0.2\n",
        "  else:\n",
        "    tariff_rate = 0.1\n",
        "\n",
        "  def result(self):\n",
        "    self.res = self.salary/self.work_days * self.fact_days \n",
        "    self.res += self.res * self.tariff_rate\n",
        "    return self.res\n",
        "  \n",
        "employee1 = Salary()\n",
        "employee1.result()"
      ],
      "metadata": {
        "id": "LveJEAwI-APB",
        "colab": {
          "base_uri": "https://localhost:8080/"
        },
        "outputId": "116ded66-4dad-4bc1-f706-2cca46131592"
      },
      "execution_count": null,
      "outputs": [
        {
          "name": "stdout",
          "output_type": "stream",
          "text": [
            "Введите заработную плату работника: 50000\n",
            "Введите количество рабочих дней в месяце: 25\n",
            "Введите количество фактически отработанных дней: 22\n",
            "Введите количество заключенных работником сделок: 110\n"
          ]
        },
        {
          "output_type": "execute_result",
          "data": {
            "text/plain": [
              "52800.0"
            ]
          },
          "metadata": {},
          "execution_count": 13
        }
      ]
    },
    {
      "cell_type": "markdown",
      "source": [
        "2. Переопределите метод начисления зарплаты: в случае, если объем продаж в\n",
        "месяц превысил 1 000 000, проценты добавляются к зарплате, в противном\n",
        "случае – вычитаются. "
      ],
      "metadata": {
        "id": "jUy9U5_R-F8h"
      }
    },
    {
      "cell_type": "code",
      "source": [
        "class Salary():\n",
        "  salary = int(input(\"Введите заработную плату работника: \"))\n",
        "  work_days = int(input(\"Введите количество рабочих дней в месяце: \"))\n",
        "  fact_days = int(input(\"Введите количество фактически отработанных дней: \"))\n",
        "  volume_of_sales = int(input(\"Введите количество заключенных работником сделок: \"))\n",
        "  tariff_rate = float(input(\"Введите тарифную ставку: \"))\n",
        "\n",
        "  def result(self):\n",
        "    self.res = self.salary/self.work_days * self.fact_days\n",
        "    if self.volume_of_sales > 1000000:\n",
        "      self.res += self.res * self.tariff_rate\n",
        "    else:\n",
        "      self.res -= self.res * self.tariff_rate\n",
        "    return self.res\n",
        "\n",
        "employee1 = Salary()\n",
        "employee1.result()"
      ],
      "metadata": {
        "colab": {
          "base_uri": "https://localhost:8080/"
        },
        "id": "UqBeLMHGMiCo",
        "outputId": "6911919a-3dea-4081-b15c-4c2684bfb06b"
      },
      "execution_count": null,
      "outputs": [
        {
          "name": "stdout",
          "output_type": "stream",
          "text": [
            "Введите заработную плату работника: 50000\n",
            "Введите количество рабочих дней в месяце: 25\n",
            "Введите количество фактически отработанных дней: 22\n",
            "Введите количество заключенных работником сделок: 800000\n",
            "Введите тарифную ставку: 0.1\n"
          ]
        },
        {
          "output_type": "execute_result",
          "data": {
            "text/plain": [
              "39600.0"
            ]
          },
          "metadata": {},
          "execution_count": 8
        }
      ]
    },
    {
      "cell_type": "markdown",
      "source": [
        "3. Создайте для класса «сотрудники» абстрактный метод начисления зарплаты.\n",
        "Создайте два класса-наследника: сотрудник отдела продаж и сотрудник склада.\n",
        "Для первого класса начисление происходит аналогично заданию 1, а для второго\n",
        "–в зависимости от количества отработанных дней. \n"
      ],
      "metadata": {
        "id": "uGB9XTaA-HCF"
      }
    },
    {
      "cell_type": "code",
      "source": [
        "class Employees:\n",
        "  salary = int(input(\"Введите заработную плату работника: \"))\n",
        "  work_days = int(input(\"Введите количество рабочих дней в месяце: \"))\n",
        "  fact_days = int(input(\"Введите количество фактически отработанных дней: \"))\n",
        "  volume_of_sales = int(input(\"Введите количество заключенных работником сделок: \"))\n",
        "  tariff_rate = 0\n",
        "  if volume_of_sales > 100:\n",
        "    tariff_rate = 0.2\n",
        "  else:\n",
        "    tariff_rate = 0.1\n",
        "  def employee_salary(self):\n",
        "      self.res = self.salary / self.work_days * self.fact_days \n",
        "      return self.res\n",
        "  \n",
        "class Sales_department_employee(Employees):\n",
        "  def result1(self): \n",
        "    self.result1 = self.res + self.res * self.tariff_rate\n",
        "    return self.result1\n",
        "\n",
        "class Warehouse_worker(Employees):\n",
        "  def result2(self):\n",
        "    self.result2 = self.res\n",
        "    return self.result2\n",
        "\n",
        "employee1 = Sales_department_employee()\n",
        "employee2 = Warehouse_worker()\n",
        "employee1.employee_salary()\n",
        "employee2.employee_salary()\n",
        "print(employee1.result1())\n",
        "print(employee2.result2())"
      ],
      "metadata": {
        "colab": {
          "base_uri": "https://localhost:8080/"
        },
        "id": "7DpKbwSo8Gmw",
        "outputId": "9c3117e4-ee9e-4e8d-c65a-c7e12620c1e9"
      },
      "execution_count": null,
      "outputs": [
        {
          "output_type": "stream",
          "name": "stdout",
          "text": [
            "Введите заработную плату работника: 50000\n",
            "Введите количество рабочих дней в месяце: 25\n",
            "Введите количество фактически отработанных дней: 22\n",
            "Введите количество заключенных работником сделок: 105\n",
            "52800.0\n",
            "44000.0\n"
          ]
        }
      ]
    },
    {
      "cell_type": "markdown",
      "source": [
        "4. Решите предыдущую задачу, используя декоратор @abstractmethod."
      ],
      "metadata": {
        "id": "hLGghF8t6dVl"
      }
    },
    {
      "cell_type": "markdown",
      "source": [
        "# Не уверена, что можно в родительском классе написать super, а в классе-наследнике проинициализировать переменные"
      ],
      "metadata": {
        "id": "2c02mMdnjT4J"
      }
    },
    {
      "cell_type": "code",
      "source": [
        "from abc import ABC, abstractmethod\n",
        "class Employees(ABC):\n",
        "  def __init__(self):\n",
        "    super().__init__()\n",
        "  \n",
        "  @abstractmethod\n",
        "  def result1(self):\n",
        "    pass\n",
        "\n",
        "  @abstractmethod\n",
        "  def result2(self): \n",
        "    pass"
      ],
      "metadata": {
        "id": "ViTkSYGVH6HH"
      },
      "execution_count": null,
      "outputs": []
    },
    {
      "cell_type": "code",
      "source": [
        "class Different_Employees(Employees):\n",
        "  def __init__(self, salary, work_days, fact_days, volume_of_sales):\n",
        "    self.salary = salary\n",
        "    self.work_days = work_days\n",
        "    self.fact_days = fact_days\n",
        "    self.volume_of_sales = volume_of_sales\n",
        "    if volume_of_sales > 100:\n",
        "      self.tariff_rate = 0.2\n",
        "    else:\n",
        "      self.tariff_rate = 0.1 \n",
        "\n",
        "  def result1(self):\n",
        "    self.res = self.salary/self.work_days * self.fact_days \n",
        "    self.res += self.res * self.tariff_rate\n",
        "    return self.res\n",
        "\n",
        "  def result2(self):\n",
        "    self.res = self.salary / self.work_days * self.fact_days \n",
        "    return self.res\n",
        "\n",
        "employee1 = Different_Employees(50000, 25, 22, 110)\n",
        "print(employee1.result1()) \n",
        "employee2 = Different_Employees(50000, 25, 22, 110)\n",
        "print(employee2.result2())"
      ],
      "metadata": {
        "colab": {
          "base_uri": "https://localhost:8080/"
        },
        "id": "QOeW-_0oarAK",
        "outputId": "4115c015-62e8-474c-f5c9-858da7576a62"
      },
      "execution_count": null,
      "outputs": [
        {
          "output_type": "stream",
          "name": "stdout",
          "text": [
            "52800.0\n",
            "44000.0\n"
          ]
        }
      ]
    },
    {
      "cell_type": "markdown",
      "source": [
        "5. Имеется класс «мебель». Создайте класс «корпусная мебель», «мягкая мебель»\n",
        "и «кухонная мебель». Определите атрибуты и методы родительского класса и\n",
        "классов-наследников. \n"
      ],
      "metadata": {
        "id": "cQBg03dD-Wax"
      }
    },
    {
      "cell_type": "code",
      "source": [
        "class Furniture:\n",
        "  def __init__(self, types_of_furniture):\n",
        "    self.types_of_furniture = types_of_furniture\n",
        "\n",
        "  def presence(self):\n",
        "    print(\"В наличии есть:\")\n",
        "\n",
        "class Cabinet_furniture(Furniture):\n",
        "  def information(self):\n",
        "    return \"{} разных ценовых сегментов\".format(self.types_of_furniture)\n",
        "\n",
        "class Soft_furniture(Furniture):\n",
        "  def information(self):\n",
        "    return \"различные {}\".format(self.types_of_furniture)\n",
        "\n",
        "class Kitchen_furniture(Furniture):\n",
        "  def information(self):\n",
        "    return \"{} всех цветов\".format(self.types_of_furniture)\n",
        "\n",
        "a = Cabinet_furniture(\"шкафы, полки, комоды\")\n",
        "a.presence()\n",
        "b = Soft_furniture(\"диваны, кресла, пуфики\")\n",
        "c = Kitchen_furniture(\"гарнитуры\")\n",
        "piece_of_furniture = [a, b, c]\n",
        "for i in piece_of_furniture:\n",
        "  print(i.information())"
      ],
      "metadata": {
        "id": "vX36H6jCWmUu",
        "colab": {
          "base_uri": "https://localhost:8080/"
        },
        "outputId": "c3f77451-6881-43f5-aaf3-f45fa1caf83b"
      },
      "execution_count": 8,
      "outputs": [
        {
          "output_type": "stream",
          "name": "stdout",
          "text": [
            "В наличии есть:\n",
            "шкафы, полки, комоды разных ценовых сегментов\n",
            "различные диваны, кресла, пуфики\n",
            "гарнитуры всех цветов\n"
          ]
        }
      ]
    },
    {
      "cell_type": "markdown",
      "source": [
        "6. Создайте приложение, в котором необходимо разработать базовый класс man.\n",
        "Объекты этого класса содержат справочную информацию о конкретном\n",
        "человеке (фамилию, инициалы, телефон, адрес, возраст). Создайте два\n",
        "производных от него класса: manager и secretary. Объекты\n",
        "класса manager дополнительно включают номер отдела и количество\n",
        "подчиненных. Объекты класса secretary дополнительно включают фамилию\n",
        "начальника. Данные о менеджерах и секретарях введите с клавиатуры и выведите\n",
        "на экран дисплея. "
      ],
      "metadata": {
        "id": "yCYKkcow-ZGc"
      }
    },
    {
      "cell_type": "code",
      "source": [
        "class Man:\n",
        "  def __init__(self, surname, initials, phone_number, address, age):\n",
        "    self.surname = input(\"Введите фамилию:\")\n",
        "    self.initials = input(\"Введите инициалы: \")\n",
        "    self.phone_number = input(\"Введите номер телефона: \")\n",
        "    self.address = input(\"Введите адрес: \")\n",
        "    self.age = input(\"Введите возраст: \")\n",
        "\n",
        "class Manager(Man):\n",
        "  def __init__(self, surname, initials, phone_number, address, age, department_number, number_of_subordinates):\n",
        "    super().__init__(surname, initials, phone_number, address, age)\n",
        "    self.department_number = department_number\n",
        "    self.number_of_subordinates = number_of_subordinates\n",
        "\n",
        "class Secretary(Man):\n",
        "  def __init__(self, surname, initials, phone_number, address, age, surname_of_the_chief):\n",
        "    super().__init__(surname, initials, phone_number, address, age)\n",
        "    self.surname_of_the_chief = surname_of_the_chief\n",
        "\n",
        "department_number = input(\"Введите номер отдела: \")\n",
        "number_of_subordinates = input(\"Введите количество подчиненных: \")\n",
        "surname_of_the_chief = input(\"Введите фамилию начальника:\")\n",
        "a = Manager(surname, initials, phone_number, address, age, department_number, number_of_subordinates)\n",
        "print(a.__dict__)\n",
        "b = Secretary(surname, initials, phone_number, address, age, surname_of_the_chief)\n",
        "print(b.__dict__)"
      ],
      "metadata": {
        "id": "PRbLi53vGkum",
        "outputId": "62d4fe8f-95f9-4422-96b0-ede8ac8c2f1c",
        "colab": {
          "base_uri": "https://localhost:8080/"
        }
      },
      "execution_count": 17,
      "outputs": [
        {
          "output_type": "stream",
          "name": "stdout",
          "text": [
            "Введите номер отдела: 5\n",
            "Введите количество подчиненных: 10\n",
            "Введите фамилию начальника:Соколов\n",
            "Введите фамилию:Короленко\n",
            "Введите инициалы: Д.Д.\n",
            "Введите номер телефона: 8932675765\n",
            "Введите адрес: Чистяковой 2\n",
            "Введите возраст: 28\n",
            "{'surname': 'Короленко', 'initials': 'Д.Д.', 'phone_number': '8932675765', 'address': 'Чистяковой 2', 'age': '28', 'department_number': '5', 'number_of_subordinates': '10'}\n",
            "Введите фамилию:Ложкин\n",
            "Введите инициалы: Е.Х.\n",
            "Введите номер телефона: 892365566\n",
            "Введите адрес: Кутузовская 21\n",
            "Введите возраст: 30\n",
            "{'surname': 'Ложкин', 'initials': 'Е.Х.', 'phone_number': '892365566', 'address': 'Кутузовская 21', 'age': '30', 'surname_of_the_chief': 'Соколов'}\n"
          ]
        }
      ]
    },
    {
      "cell_type": "markdown",
      "source": [
        "7. Разработайте приложение, в котором опишите базовый класс building. Он\n",
        "хранит этаж, число комнат в квартире, общую площадь квартиры. Три\n",
        "производных класса house-k, house-p, house-m наследуют класс building. Каждый\n",
        "из них хранит надбавку к цене квадратного метра площади, зависящую от\n",
        "материала дома. Производный класс office наследует производные классы housek, house-p, house-m и хранит наличие лоджии и надбавку, связанную с районом\n",
        "города. Вывести на экран стоимость конкретной квартиры. \n"
      ],
      "metadata": {
        "id": "A6m1ggOJ-cR2"
      }
    },
    {
      "cell_type": "code",
      "source": [
        "class Building:\n",
        "  def __init__(self, floor, number_of_rooms, total_area, cost):\n",
        "    self.floor = floor\n",
        "    self.number_of_room = number_of_rooms\n",
        "    self.total_area = total_area\n",
        "    self.cost = cost\n",
        "\n",
        "class House_k(Building):\n",
        "  def new_price(self):\n",
        "    self.allowance = 0.05\n",
        "    self.cost += self.cost * self.allowance\n",
        "    return \"Цена квартиры: {} рублей\".format(self.cost)\n",
        "\n",
        "class House_p(Building):\n",
        "  def new_price(self):\n",
        "    self.allowance = 0.1\n",
        "    self.cost += self.cost * self.allowance\n",
        "    return \"Цена квартиры: {} рублей\".format(self.cost)\n",
        "\n",
        "class House_m(Building):\n",
        "  def new_price(self):\n",
        "    self.allowance = 0.15\n",
        "    self.cost += self.cost * self.allowance\n",
        "    return \"Цена квартиры: {} рублей\".format(self.cost)\n",
        "\n",
        "class Office(House_k, House_p, House_m):\n",
        "  def __init__(self, district, presence_of_loggia):\n",
        "    self.district = district\n",
        "    self.presence_of_loggia = presence_of_loggia\n",
        "  def another_price(self, district1 = \"Богатый\", district2 = \"Хороший\", district3 = \"Бедный\"):\n",
        "    if self.district == \"Богатый\":\n",
        "      self.cost += self.cost * 0,3\n",
        "    elif self.district == \"Хороший\":\n",
        "      self.cost += self.cost * 0,2\n",
        "    else:\n",
        "      self.cost == self.cost\n",
        "    return self.cost\n",
        "\n",
        "a = House_k(9, 3, 90, 11500000)\n",
        "a.new_price()"
      ],
      "metadata": {
        "id": "Xz9J7lj4Y_bH",
        "outputId": "fa99182b-5e23-4882-843a-7d2d2b066ba7",
        "colab": {
          "base_uri": "https://localhost:8080/",
          "height": 35
        }
      },
      "execution_count": 38,
      "outputs": [
        {
          "output_type": "execute_result",
          "data": {
            "text/plain": [
              "'Цена квартиры: 12075000.0 рублей'"
            ],
            "application/vnd.google.colaboratory.intrinsic+json": {
              "type": "string"
            }
          },
          "metadata": {},
          "execution_count": 38
        }
      ]
    },
    {
      "cell_type": "code",
      "source": [
        "class Building:\n",
        "  def __init__(self, floor, number_of_rooms, total_area, price):\n",
        "    self.floor = floor\n",
        "    self.number_of_room\n",
        "    self.total_area = area\n",
        "    self.price = price\n",
        "\n",
        "class House_k:\n",
        "  def __init__(self, floor, number_of_rooms, total_area, price, allowance):\n",
        "    super().__init__(self, floor, number_of_rooms, total_area, price)\n",
        "    self.allowance = allowance\n",
        "\n",
        "  def new_price(self):\n",
        "    self.cost = self.price * self.allowance\n",
        "    return self.cost\n",
        "\n",
        "class House_p:\n",
        "  def __init__(self, floor, number_of_rooms, total_area, price, allowance):\n",
        "    super().__init__(self, floor, number_of_rooms, total_area, price)\n",
        "    self.allowance = allowance\n",
        "  def new_price(self):\n",
        "    self.cost = self.price * self.allowance\n",
        "    return self.cost\n",
        "\n",
        "class House_m:\n",
        "  def __init__(self, floor, number_of_rooms, total_area, price, allowance):\n",
        "    super().__init__(self, floor, number_of_rooms, total_area, price)\n",
        "    self.allowance = allowance\n",
        "  def new_price(self):\n",
        "    self.cost = self.price * self.allowance\n",
        "    return self.cost\n",
        "\n",
        "class Office(House_k, House_p, House_m):\n",
        "  def __init__(self, floor, number_of_rooms, total_area, price, allowance, district, presence_of_loggia = str):\n",
        "    super().__init__(self, floor, number_of_rooms, total_area, price, allowance)\n",
        "    self.presence_of_loggia = presence_of_loggia\n",
        "    self.district = district\n",
        "  def another_price(self):\n",
        "    if self.district == \"богатый\":\n",
        "      self.cost += self.cost * 0,3\n",
        "    elif self.district == \"хороший\":\n",
        "      self.cost += self.cost * 0,2\n",
        "    else:\n",
        "      self.cost += self.cost * 0,1\n",
        "    return self.cost\n",
        "\n",
        "a = Office(9, 3, 90, 20000, 0.05, богатый, 1)\n",
        "a.another_price()"
      ],
      "metadata": {
        "id": "sFL6aH_YJZhe"
      },
      "execution_count": null,
      "outputs": []
    },
    {
      "cell_type": "markdown",
      "source": [
        "8. В программе рассчитываются площади треугольника и прямоугольника. С\n",
        "этой целью создается абстрактный класс area, в котором сохраняются две\n",
        "размерности фигуры. В производных классах задайте вид конкретных фигур и\n",
        "возвратите их площади. "
      ],
      "metadata": {
        "id": "v6xDa2Et-flj"
      }
    },
    {
      "cell_type": "code",
      "source": [
        "class Area:\n",
        "  a = 0\n",
        "  b = 0\n",
        "  c = 0\n",
        "  a1 = 0\n",
        "  b1 = 0\n",
        "\n",
        "  def triangle_size(self, a, b, c):\n",
        "    self.a = a\n",
        "    self.b = b\n",
        "    self.c = c\n",
        "\n",
        "  def rectangle_size(self, a1, b1):\n",
        "    self.a1 = a1\n",
        "    self.b1 = b1\n",
        "\n",
        "class Triangle(Area):\n",
        "  def square_t(self):\n",
        "    p = (self.a + self.b + self.c) / 2\n",
        "    triangle_square = (p * (p - self.a) * (p - self.b) * (p - self.c)) ** (1/2)\n",
        "    return \"Площадь треугольника: {}\".format(triangle_square)\n",
        "\n",
        "class Rectangle(Area):\n",
        "  def square_r(self):\n",
        "    rectangle_square = self.a1 * self.b1\n",
        "    return \"Площадь прямоугольника {}\".format(rectangle_square)\n",
        "\n",
        "a = Triangle()\n",
        "a.triangle_size(10, 24, 26)\n",
        "print(a.square_t())\n",
        "b = Rectangle()\n",
        "b.rectangle_size(6, 8)\n",
        "print(b.square_r())"
      ],
      "metadata": {
        "id": "lG81w0StvVXr",
        "outputId": "1a84be29-db85-499c-a783-80d1990a6453",
        "colab": {
          "base_uri": "https://localhost:8080/"
        }
      },
      "execution_count": 58,
      "outputs": [
        {
          "output_type": "stream",
          "name": "stdout",
          "text": [
            "Площадь треугольника: 120.0\n",
            "Площадь прямоугольника 48\n"
          ]
        }
      ]
    }
  ]
}