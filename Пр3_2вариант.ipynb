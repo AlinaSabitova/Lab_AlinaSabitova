{
  "nbformat": 4,
  "nbformat_minor": 0,
  "metadata": {
    "colab": {
      "provenance": [],
      "authorship_tag": "ABX9TyMU+Z/kHJADo0eMCIBnN7/V",
      "include_colab_link": true
    },
    "kernelspec": {
      "name": "python3",
      "display_name": "Python 3"
    },
    "language_info": {
      "name": "python"
    }
  },
  "cells": [
    {
      "cell_type": "markdown",
      "metadata": {
        "id": "view-in-github",
        "colab_type": "text"
      },
      "source": [
        "<a href=\"https://colab.research.google.com/github/AlinaSabitova/Lab_AlinaSabitova/blob/main/%D0%9F%D1%803_2%D0%B2%D0%B0%D1%80%D0%B8%D0%B0%D0%BD%D1%82.ipynb\" target=\"_parent\"><img src=\"https://colab.research.google.com/assets/colab-badge.svg\" alt=\"Open In Colab\"/></a>"
      ]
    },
    {
      "cell_type": "code",
      "execution_count": 1,
      "metadata": {
        "colab": {
          "base_uri": "https://localhost:8080/"
        },
        "id": "hveD4-PbkPJh",
        "outputId": "2370b686-d878-407b-fa9a-7fee0ca45044"
      },
      "outputs": [
        {
          "output_type": "stream",
          "name": "stdout",
          "text": [
            "file1\n",
            "24.04.2023\n",
            "None\n",
            "12\n",
            "Hello, user!\n"
          ]
        }
      ],
      "source": [
        "class File:\n",
        "  def __init__(self, name, date_of_creation, length, __information):\n",
        "    if type(name) == str and type(date_of_creation) == str and type(length) == int and type(__information) == str:\n",
        "      self.name = name\n",
        "      self.date_of_creation = date_of_creation\n",
        "      self.length = length\n",
        "      self.__information = __information\n",
        "    else:\n",
        "      raise ValueError()\n",
        "  \n",
        "  def add(self, information):\n",
        "    self.__information += information\n",
        "    self.length += len(information)\n",
        "\n",
        "  def file_name(self):\n",
        "    return self.name\n",
        "\n",
        "  def file_date_of_creation(self):\n",
        "    return self.date_of_creation\n",
        "\n",
        "  def file_length(self):\n",
        "    return self.length\n",
        "\n",
        "  def file_information(self):\n",
        "    return self.__information\n",
        "\n",
        "try:\n",
        "  f1 = File(\"file1\", \"24.04.2023\", 0, \"\")\n",
        "  print(f1.file_name())\n",
        "  print(f1.file_date_of_creation())\n",
        "  print(f1.add(\"Hello, user!\"))\n",
        "  print(f1.file_length())\n",
        "  print(f1.file_information())\n",
        "except ValueError as err:\n",
        "  print(\"Введены недопустимые значения!\")"
      ]
    }
  ]
}