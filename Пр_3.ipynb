{
  "cells": [
    {
      "cell_type": "markdown",
      "metadata": {
        "id": "view-in-github",
        "colab_type": "text"
      },
      "source": [
        "<a href=\"https://colab.research.google.com/github/AlinaSabitova/Lab_AlinaSabitova/blob/main/%D0%9F%D1%80_3.ipynb\" target=\"_parent\"><img src=\"https://colab.research.google.com/assets/colab-badge.svg\" alt=\"Open In Colab\"/></a>"
      ]
    },
    {
      "cell_type": "markdown",
      "metadata": {
        "id": "BdG9P5qQvqGQ"
      },
      "source": [
        "#Вариант №15\n",
        "Описать класс «файл», содержащий сведения об имени, дате создания и\n",
        "длине файла. Предусмотреть инициализацию с проверкой допустимости\n",
        "значений полей. В случае недопустимых значений полей выбрасываются\n",
        "исключения. Описать метод добавления информации в конец файла и свойства\n",
        "для получения состояния файла.\n",
        "Написать программу, демонстрирующую все разработанные элементы\n",
        "класса. \n"
      ]
    },
    {
      "cell_type": "code",
      "source": [
        "class File:\n",
        "  def __init__(self, name, date_of_creation, length, __information):\n",
        "    if type(name) == str and type(date_of_creation) == str and type(length) == int and type(__information) == str:\n",
        "      self.name = name\n",
        "      self.date_of_creation = date_of_creation\n",
        "      self.length = length\n",
        "      self.__information = __information\n",
        "    else:\n",
        "      raise ValueError()\n",
        "  \n",
        "  def add(self, information):\n",
        "    self.__information += information\n",
        "    self.length += len(information)\n",
        "\n",
        "  def file_name(self):\n",
        "    return self.name\n",
        "\n",
        "  def file_date_of_creation(self):\n",
        "    return self.date_of_creation\n",
        "\n",
        "  def file_length(self):\n",
        "    return self.length\n",
        "\n",
        "  def file_information(self):\n",
        "    return self.__information\n",
        "\n",
        "try:\n",
        "  f1 = File(\"file1\", \"24.04.2023\", 0, \"\")\n",
        "  print(f1.file_name())\n",
        "  print(f1.file_date_of_creation())\n",
        "  print(f1.add(\"Hello, user!\"))\n",
        "  print(f1.file_length())\n",
        "  print(f1.file_information())\n",
        "except ValueError as err:\n",
        "  print(\"Введены недопустимые значения!\")"
      ],
      "metadata": {
        "id": "3x75iFsQbZ_e",
        "outputId": "530ff635-56f3-4d21-88a9-f47fb9c0477b",
        "colab": {
          "base_uri": "https://localhost:8080/"
        }
      },
      "execution_count": 23,
      "outputs": [
        {
          "output_type": "stream",
          "name": "stdout",
          "text": [
            "file1\n",
            "24.04.2023\n",
            "None\n",
            "12\n",
            "Hello, user!\n"
          ]
        }
      ]
    },
    {
      "cell_type": "code",
      "execution_count": null,
      "metadata": {
        "colab": {
          "base_uri": "https://localhost:8080/"
        },
        "id": "dkIZlDia2Xdj",
        "outputId": "6c19abb5-634f-4a19-90c9-709d01aa2e94"
      },
      "outputs": [
        {
          "name": "stdout",
          "output_type": "stream",
          "text": [
            "example.txt\n",
            "2022-01-01\n",
            "0\n",
            "12\n",
            "Hello world!\n"
          ]
        }
      ],
      "source": [
        "class File:\n",
        "    def __init__(self, name, creation_date, length):\n",
        "        if not isinstance(name, str):\n",
        "            raise ValueError(\"Name must be a string\")\n",
        "        if not isinstance(creation_date, str):\n",
        "            raise ValueError(\"Creation date must be a string\")\n",
        "        if not isinstance(length, int):\n",
        "            raise ValueError(\"Length must be an integer\")\n",
        "        self._name = name\n",
        "        self._creation_date = creation_date\n",
        "        self._length = length\n",
        "        self._content = \"\"\n",
        "\n",
        "    def append(self, content):\n",
        "        if not isinstance(content, str):\n",
        "            raise ValueError(\"Content must be a string\")\n",
        "        self._content += content\n",
        "        self._length += len(content)\n",
        "\n",
        "    @property\n",
        "    def name(self):\n",
        "        return self._name\n",
        "\n",
        "    @property\n",
        "    def creation_date(self):\n",
        "        return self._creation_date\n",
        "\n",
        "    @property\n",
        "    def length(self):\n",
        "        return self._length\n",
        "\n",
        "    @property\n",
        "    def content(self):\n",
        "        return self._content\n",
        "\n",
        "\n",
        "# Пример использования класса\n",
        "try:\n",
        "    file = File(\"example.txt\", \"2022-01-01\", 0)\n",
        "    print(file.name)  # example.txt\n",
        "    print(file.creation_date)  # 2022-01-01\n",
        "    print(file.length)  # 0\n",
        "    file.append(\"Hello world!\")\n",
        "    print(file.length)  # 12\n",
        "    print(file.content)  # Hello world!\n",
        "except ValueError as e:\n",
        "    print(e)"
      ]
    }
  ],
  "metadata": {
    "colab": {
      "provenance": [],
      "authorship_tag": "ABX9TyNbiJw930mD9VxOsHdNoe34",
      "include_colab_link": true
    },
    "kernelspec": {
      "display_name": "Python 3",
      "name": "python3"
    },
    "language_info": {
      "name": "python"
    }
  },
  "nbformat": 4,
  "nbformat_minor": 0
}